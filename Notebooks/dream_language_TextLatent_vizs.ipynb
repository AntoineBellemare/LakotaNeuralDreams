{
 "cells": [
  {
   "cell_type": "markdown",
   "metadata": {},
   "source": [
    "## Vizualise Textual Embeddings of Symbols Meaning Landscape and Dream Content  "
   ]
  },
  {
   "cell_type": "code",
   "execution_count": 28,
   "metadata": {},
   "outputs": [],
   "source": [
    "import numpy as np\n",
    "import matplotlib.pyplot as plt\n",
    "from sklearn.manifold import TSNE\n",
    "from shapely.geometry import MultiPoint\n",
    "from scipy.spatial import ConvexHull\n",
    "from transformers import CLIPTokenizer, CLIPModel\n",
    "import torch\n",
    "\n",
    "\n",
    "def map_words_to_semantic_space(word_dict, scaling_factor=2000, dim_red=\"tsne\", savefig=False, savename='test'):\n",
    "    # Load CLIP model and tokenizer\n",
    "    model_name = \"openai/clip-vit-base-patch32\"\n",
    "    tokenizer = CLIPTokenizer.from_pretrained(model_name)\n",
    "    model = CLIPModel.from_pretrained(model_name)\n",
    "\n",
    "    # Combine all words across authors\n",
    "    all_words = []\n",
    "    labels = []\n",
    "    for author, words in word_dict.items():\n",
    "        all_words.extend(words)\n",
    "        labels.extend([author] * len(words))\n",
    "\n",
    "    # Calculate embeddings for all words\n",
    "    word_vectors = []\n",
    "    for word in all_words:\n",
    "        tokenized = tokenizer(word, return_tensors=\"pt\", padding=True, truncation=True)\n",
    "        with torch.no_grad():\n",
    "            embedding = model.get_text_features(**tokenized)\n",
    "        word_vectors.append(embedding.squeeze(0).numpy())\n",
    "\n",
    "    word_vectors = np.array(word_vectors)\n",
    "\n",
    "    # Dimensionality reduction\n",
    "    if dim_red == \"tsne\":\n",
    "        dim_red_model = TSNE(n_components=2, perplexity=6, random_state=42)\n",
    "        word_vectors_2d = dim_red_model.fit_transform(word_vectors)\n",
    "    else:\n",
    "        raise ValueError(f\"Invalid value for dim_red: {dim_red}. Only 'tsne' is supported.\")\n",
    "\n",
    "    # Create scatter plot and calculate convex hulls\n",
    "    plt.figure(figsize=(10, 10))\n",
    "    unique_authors = list(set(labels))\n",
    "    colors = ['red', 'blue', 'green', 'purple', 'cyan', 'yellow', 'black', 'magenta', 'olive', 'navy', 'teal', 'lime', 'maroon']\n",
    "    markers = ['.', ',', 'o', 'v', '^', '<', '>', 's', 'p', '*', 'h', 'H', '+', 'x', 'D', 'd']\n",
    "    archetype_hulls = {}\n",
    "\n",
    "    for i, author in enumerate(unique_authors):\n",
    "        author_indices = [j for j, label in enumerate(labels) if label == author]\n",
    "        x = word_vectors_2d[author_indices, 0]\n",
    "        y = word_vectors_2d[author_indices, 1]\n",
    "        archetype_points = MultiPoint([(x[j], y[j]) for j in range(len(x))])\n",
    "        area = archetype_points.convex_hull.area\n",
    "        print(author, 'area:', area)\n",
    "        archetype_hulls[author] = archetype_points.convex_hull\n",
    "        plt.scatter(x, y, marker=markers[i % len(markers)], alpha=0.5, color=colors[i], label=author)\n",
    "\n",
    "        # Annotate each word on the scatter plot\n",
    "        for j, word in enumerate(np.array(all_words)[author_indices]):\n",
    "            plt.annotate(word, (x[j], y[j]), fontsize=8, ha='center', va='center', color='black')\n",
    "\n",
    "    for e, (author, hull) in enumerate(archetype_hulls.items()):\n",
    "        plt.fill(*zip(*hull.exterior.coords), alpha=0.2, color=colors[e])\n",
    "\n",
    "    plt.legend(title='Archetypes', fontsize=12, title_fontsize=14, loc='upper right')\n",
    "    plt.title('CLIP Word Embeddings Visualized')\n",
    "\n",
    "    if savefig:\n",
    "        plt.savefig(savename + '.png', dpi=300)\n",
    "    else:\n",
    "        plt.show()\n",
    "\n",
    "    return archetype_hulls\n",
    "\n",
    "\n",
    "\n",
    "\n",
    "def plot_archetype_heatmap(archetype_hulls):\n",
    "    archetypes = list(archetype_hulls.keys())\n",
    "    num_archetypes = len(archetypes)\n",
    "    heatmap = np.zeros((num_archetypes, num_archetypes))\n",
    "\n",
    "    for i in range(num_archetypes):\n",
    "        for j in range(num_archetypes):\n",
    "            if i >= j:\n",
    "                continue\n",
    "            hull1 = MultiPoint([point for point in archetype_hulls[archetypes[i]].exterior.coords])\n",
    "            hull2 = MultiPoint([point for point in archetype_hulls[archetypes[j]].exterior.coords])\n",
    "            intersection = hull1.convex_hull.intersection(hull2.convex_hull).area\n",
    "            heatmap[i, j] = intersection\n",
    "            heatmap[j, i] = intersection\n",
    "\n",
    "    mask = np.triu(np.ones_like(heatmap, dtype=bool))\n",
    "    plt.figure(figsize=(10, 8))\n",
    "    sns.heatmap(heatmap, mask=mask, annot=True, fmt=\".2f\", cmap=\"viridis\", xticklabels=archetypes, yticklabels=archetypes)\n",
    "    plt.title(\"Shared Areas Between Symbols\")\n",
    "    plt.show()\n",
    "\n",
    "\n",
    "lakota_symbols = {\n",
    "    \"Bag\": [\"purpose\", \"treasure\", \"hidden potential\"],\n",
    "    \"Clouds\": [\"impermanence\", \"veil\", \"drift\", \"illumination\"],\n",
    "    \"Dragonfly\": [\"agility\", \"metamorphosis\", \"firelight\"],\n",
    "    \"Earth\": [\"stability\", \"roots\", \"maternal strength\"],\n",
    "    \"Earth2\": [\"renewal\", \"seasons\", \"circle of life\"],\n",
    "    \"Feather\": [\"elevation\", \"weightlessness\", \"divine message\"],\n",
    "    \"Horse Track\": [\"exploration\", \"trail\", \"momentum\"],\n",
    "    \"House\": [\"protection\", \"hearth\", \"community bond\"],\n",
    "    \"Lightning\": [\"rupture\", \"electricity\", \"divine spark\"],\n",
    "    \"Star\": [\"guidance\", \"eternity\", \"celestial beacon\"],\n",
    "    \"Thunder\": [\"resonance\", \"impact\", \"elemental roar\"]\n",
    "}\n",
    "\n",
    "\n",
    "\n",
    "#archetype_hulls = map_words_to_semantic_space(lakota_symbols, dim_red=\"tsne\")\n",
    "#plot_archetype_heatmap(archetype_hulls)\n"
   ]
  },
  {
   "cell_type": "code",
   "execution_count": 36,
   "metadata": {},
   "outputs": [
    {
     "name": "stdout",
     "output_type": "stream",
     "text": [
      "MY DREAM area: 48.17\n",
      "Horse Track area: 1.17\n",
      "Earth2 area: 9.79\n",
      "Lightning area: 4.24\n",
      "House area: 33.34\n",
      "Bag area: 0.66\n",
      "Dragonfly area: 28.16\n",
      "Earth area: 25.42\n",
      "Thunder area: 14.42\n",
      "Clouds area: 26.87\n",
      "Star area: 21.13\n",
      "Feather area: 15.99\n"
     ]
    },
    {
     "data": {
      "application/vnd.plotly.v1+json": {
       "config": {
        "plotlyServerURL": "https://plot.ly"
       },
       "data": [
        {
         "legendgroup": "MY DREAM",
         "marker": {
          "color": "rgba(255, 0, 0, 1)",
          "opacity": 0.7,
          "size": 10
         },
         "mode": "markers+text",
         "name": "MY DREAM Points",
         "showlegend": true,
         "text": [
          "dragon",
          "reptile",
          "light",
          "memory",
          "sky"
         ],
         "textposition": "top center",
         "type": "scatter",
         "x": [
          -8.163103103637695,
          -8.89454460144043,
          -2.757321834564209,
          -1.9646648168563843,
          2.7215476036071777
         ],
         "y": [
          -8.907859802246094,
          -8.750938415527344,
          -10.853517532348633,
          -2.6118407249450684,
          -9.512052536010742
         ]
        },
        {
         "fill": "toself",
         "fillcolor": "rgba(255, 0, 0, 0.2)",
         "legendgroup": "MY DREAM",
         "line": {
          "color": "rgba(255, 0, 0, 1)"
         },
         "name": "MY DREAM Hull",
         "showlegend": false,
         "type": "scatter",
         "x": [
          -2.757321834564209,
          -8.89454460144043,
          -1.9646648168563843,
          2.7215476036071777,
          -2.757321834564209,
          -2.757321834564209
         ],
         "y": [
          -10.853517532348633,
          -8.750938415527344,
          -2.6118407249450684,
          -9.512052536010742,
          -10.853517532348633,
          -10.853517532348633
         ]
        },
        {
         "legendgroup": "Horse Track",
         "marker": {
          "color": "rgba(0, 0, 255, 1)",
          "opacity": 0.7,
          "size": 10
         },
         "mode": "markers+text",
         "name": "Horse Track Points",
         "showlegend": true,
         "text": [
          "exploration",
          "trail",
          "momentum"
         ],
         "textposition": "top center",
         "type": "scatter",
         "x": [
          -2.565401077270508,
          -2.601992607116699,
          -4.494063377380371
         ],
         "y": [
          -0.0543658509850502,
          1.1178611516952515,
          -2.307401180267334
         ]
        },
        {
         "fill": "toself",
         "fillcolor": "rgba(0, 0, 255, 0.2)",
         "legendgroup": "Horse Track",
         "line": {
          "color": "rgba(0, 0, 255, 1)"
         },
         "name": "Horse Track Hull",
         "showlegend": false,
         "type": "scatter",
         "x": [
          -4.494063377380371,
          -2.601992607116699,
          -2.565401077270508,
          -4.494063377380371,
          -4.494063377380371
         ],
         "y": [
          -2.307401180267334,
          1.1178611516952515,
          -0.0543658509850502,
          -2.307401180267334,
          -2.307401180267334
         ]
        },
        {
         "legendgroup": "Earth2",
         "marker": {
          "color": "rgba(0, 255, 0, 1)",
          "opacity": 0.7,
          "size": 10
         },
         "mode": "markers+text",
         "name": "Earth2 Points",
         "showlegend": true,
         "text": [
          "renewal",
          "seasons",
          "circle of life"
         ],
         "textposition": "top center",
         "type": "scatter",
         "x": [
          -0.7544517517089844,
          1.9468224048614502,
          -6.9823174476623535
         ],
         "y": [
          -6.204660415649414,
          -6.153040409088135,
          0.9248069524765015
         ]
        },
        {
         "fill": "toself",
         "fillcolor": "rgba(0, 255, 0, 0.2)",
         "legendgroup": "Earth2",
         "line": {
          "color": "rgba(0, 255, 0, 1)"
         },
         "name": "Earth2 Hull",
         "showlegend": false,
         "type": "scatter",
         "x": [
          -0.7544517517089844,
          -6.9823174476623535,
          1.9468224048614502,
          -0.7544517517089844,
          -0.7544517517089844
         ],
         "y": [
          -6.204660415649414,
          0.9248069524765015,
          -6.153040409088135,
          -6.204660415649414,
          -6.204660415649414
         ]
        },
        {
         "legendgroup": "Lightning",
         "marker": {
          "color": "rgba(128, 0, 128, 1)",
          "opacity": 0.7,
          "size": 10
         },
         "mode": "markers+text",
         "name": "Lightning Points",
         "showlegend": true,
         "text": [
          "rupture",
          "electricity",
          "divine spark"
         ],
         "textposition": "top center",
         "type": "scatter",
         "x": [
          -4.859236717224121,
          -3.656237840652466,
          -1.6059361696243286
         ],
         "y": [
          -6.166329383850098,
          -9.583247184753418,
          -8.360156059265137
         ]
        },
        {
         "fill": "toself",
         "fillcolor": "rgba(128, 0, 128, 0.2)",
         "legendgroup": "Lightning",
         "line": {
          "color": "rgba(128, 0, 128, 1)"
         },
         "name": "Lightning Hull",
         "showlegend": false,
         "type": "scatter",
         "x": [
          -3.656237840652466,
          -4.859236717224121,
          -1.6059361696243286,
          -3.656237840652466,
          -3.656237840652466
         ],
         "y": [
          -9.583247184753418,
          -6.166329383850098,
          -8.360156059265137,
          -9.583247184753418,
          -9.583247184753418
         ]
        },
        {
         "legendgroup": "House",
         "marker": {
          "color": "rgba(0, 255, 255, 1)",
          "opacity": 0.7,
          "size": 10
         },
         "mode": "markers+text",
         "name": "House Points",
         "showlegend": true,
         "text": [
          "protection",
          "hearth",
          "community bond"
         ],
         "textposition": "top center",
         "type": "scatter",
         "x": [
          2.9768879413604736,
          -5.664302825927734,
          -0.04076162725687027
         ],
         "y": [
          -1.4021259546279907,
          -11.84777545928955,
          2.6674437522888184
         ]
        },
        {
         "fill": "toself",
         "fillcolor": "rgba(0, 255, 255, 0.2)",
         "legendgroup": "House",
         "line": {
          "color": "rgba(0, 255, 255, 1)"
         },
         "name": "House Hull",
         "showlegend": false,
         "type": "scatter",
         "x": [
          -5.664302825927734,
          -0.04076162725687027,
          2.9768879413604736,
          -5.664302825927734,
          -5.664302825927734
         ],
         "y": [
          -11.84777545928955,
          2.6674437522888184,
          -1.4021259546279907,
          -11.84777545928955,
          -11.84777545928955
         ]
        },
        {
         "legendgroup": "Bag",
         "marker": {
          "color": "rgba(255, 255, 0, 1)",
          "opacity": 0.7,
          "size": 10
         },
         "mode": "markers+text",
         "name": "Bag Points",
         "showlegend": true,
         "text": [
          "purpose",
          "treasure",
          "hidden potential"
         ],
         "textposition": "top center",
         "type": "scatter",
         "x": [
          0.3928336501121521,
          -0.9022068381309509,
          2.0301120281219482
         ],
         "y": [
          -1.4165563583374023,
          -1.7191166877746582,
          -0.0076298341155052185
         ]
        },
        {
         "fill": "toself",
         "fillcolor": "rgba(255, 255, 0, 0.2)",
         "legendgroup": "Bag",
         "line": {
          "color": "rgba(255, 255, 0, 1)"
         },
         "name": "Bag Hull",
         "showlegend": false,
         "type": "scatter",
         "x": [
          -0.9022068381309509,
          2.0301120281219482,
          0.3928336501121521,
          -0.9022068381309509,
          -0.9022068381309509
         ],
         "y": [
          -1.7191166877746582,
          -0.0076298341155052185,
          -1.4165563583374023,
          -1.7191166877746582,
          -1.7191166877746582
         ]
        },
        {
         "legendgroup": "Dragonfly",
         "marker": {
          "color": "rgba(0, 0, 0, 1)",
          "opacity": 0.7,
          "size": 10
         },
         "mode": "markers+text",
         "name": "Dragonfly Points",
         "showlegend": true,
         "text": [
          "agility",
          "metamorphosis",
          "firelight"
         ],
         "textposition": "top center",
         "type": "scatter",
         "x": [
          -6.608974456787109,
          0.3412398099899292,
          -3.854865789413452
         ],
         "y": [
          -1.5700998306274414,
          -7.157223224639893,
          -11.886014938354492
         ]
        },
        {
         "fill": "toself",
         "fillcolor": "rgba(0, 0, 0, 0.2)",
         "legendgroup": "Dragonfly",
         "line": {
          "color": "rgba(0, 0, 0, 1)"
         },
         "name": "Dragonfly Hull",
         "showlegend": false,
         "type": "scatter",
         "x": [
          -3.854865789413452,
          -6.608974456787109,
          0.3412398099899292,
          -3.854865789413452,
          -3.854865789413452
         ],
         "y": [
          -11.886014938354492,
          -1.5700998306274414,
          -7.157223224639893,
          -11.886014938354492,
          -11.886014938354492
         ]
        },
        {
         "legendgroup": "Earth",
         "marker": {
          "color": "rgba(255, 0, 255, 1)",
          "opacity": 0.7,
          "size": 10
         },
         "mode": "markers+text",
         "name": "Earth Points",
         "showlegend": true,
         "text": [
          "stability",
          "roots",
          "maternal strength"
         ],
         "textposition": "top center",
         "type": "scatter",
         "x": [
          -5.581584453582764,
          -2.875696897506714,
          4.512843132019043
         ],
         "y": [
          -1.4277455806732178,
          -6.554285049438477,
          -1.7640085220336914
         ]
        },
        {
         "fill": "toself",
         "fillcolor": "rgba(255, 0, 255, 0.2)",
         "legendgroup": "Earth",
         "line": {
          "color": "rgba(255, 0, 255, 1)"
         },
         "name": "Earth Hull",
         "showlegend": false,
         "type": "scatter",
         "x": [
          -2.875696897506714,
          -5.581584453582764,
          4.512843132019043,
          -2.875696897506714,
          -2.875696897506714
         ],
         "y": [
          -6.554285049438477,
          -1.4277455806732178,
          -1.7640085220336914,
          -6.554285049438477,
          -6.554285049438477
         ]
        },
        {
         "legendgroup": "Thunder",
         "marker": {
          "color": "rgba(128, 128, 0, 1)",
          "opacity": 0.7,
          "size": 10
         },
         "mode": "markers+text",
         "name": "Thunder Points",
         "showlegend": true,
         "text": [
          "resonance",
          "impact",
          "elemental roar"
         ],
         "textposition": "top center",
         "type": "scatter",
         "x": [
          -1.9037264585494995,
          0.31054654717445374,
          -0.31017646193504333
         ],
         "y": [
          -5.0424981117248535,
          0.07500067353248596,
          -14.382282257080078
         ]
        },
        {
         "fill": "toself",
         "fillcolor": "rgba(128, 128, 0, 0.2)",
         "legendgroup": "Thunder",
         "line": {
          "color": "rgba(128, 128, 0, 1)"
         },
         "name": "Thunder Hull",
         "showlegend": false,
         "type": "scatter",
         "x": [
          -0.31017646193504333,
          -1.9037264585494995,
          0.31054654717445374,
          -0.31017646193504333,
          -0.31017646193504333
         ],
         "y": [
          -14.382282257080078,
          -5.0424981117248535,
          0.07500067353248596,
          -14.382282257080078,
          -14.382282257080078
         ]
        },
        {
         "legendgroup": "Clouds",
         "marker": {
          "color": "rgba(0, 0, 128, 1)",
          "opacity": 0.7,
          "size": 10
         },
         "mode": "markers+text",
         "name": "Clouds Points",
         "showlegend": true,
         "text": [
          "impermanence",
          "veil",
          "drift",
          "illumination"
         ],
         "textposition": "top center",
         "type": "scatter",
         "x": [
          -1.1277316808700562,
          1.0943772792816162,
          -6.376012802124023,
          -1.9637317657470703
         ],
         "y": [
          -4.219714164733887,
          -10.646312713623047,
          -7.278288841247559,
          -11.036291122436523
         ]
        },
        {
         "fill": "toself",
         "fillcolor": "rgba(0, 0, 128, 0.2)",
         "legendgroup": "Clouds",
         "line": {
          "color": "rgba(0, 0, 128, 1)"
         },
         "name": "Clouds Hull",
         "showlegend": false,
         "type": "scatter",
         "x": [
          -1.9637317657470703,
          -6.376012802124023,
          -1.1277316808700562,
          1.0943772792816162,
          -1.9637317657470703,
          -1.9637317657470703
         ],
         "y": [
          -11.036291122436523,
          -7.278288841247559,
          -4.219714164733887,
          -10.646312713623047,
          -11.036291122436523,
          -11.036291122436523
         ]
        },
        {
         "legendgroup": "Star",
         "marker": {
          "color": "rgba(0, 128, 128, 1)",
          "opacity": 0.7,
          "size": 10
         },
         "mode": "markers+text",
         "name": "Star Points",
         "showlegend": true,
         "text": [
          "guidance",
          "eternity",
          "celestial beacon"
         ],
         "textposition": "top center",
         "type": "scatter",
         "x": [
          1.0015125274658203,
          -3.490718364715576,
          -1.0389256477355957
         ],
         "y": [
          -2.400343894958496,
          -4.332893371582031,
          -12.685759544372559
         ]
        },
        {
         "fill": "toself",
         "fillcolor": "rgba(0, 128, 128, 0.2)",
         "legendgroup": "Star",
         "line": {
          "color": "rgba(0, 128, 128, 1)"
         },
         "name": "Star Hull",
         "showlegend": false,
         "type": "scatter",
         "x": [
          -1.0389256477355957,
          -3.490718364715576,
          1.0015125274658203,
          -1.0389256477355957,
          -1.0389256477355957
         ],
         "y": [
          -12.685759544372559,
          -4.332893371582031,
          -2.400343894958496,
          -12.685759544372559,
          -12.685759544372559
         ]
        },
        {
         "legendgroup": "Feather",
         "marker": {
          "color": "rgba(0, 128, 0, 1)",
          "opacity": 0.7,
          "size": 10
         },
         "mode": "markers+text",
         "name": "Feather Points",
         "showlegend": true,
         "text": [
          "elevation",
          "weightlessness",
          "divine message"
         ],
         "textposition": "top center",
         "type": "scatter",
         "x": [
          -4.326793193817139,
          -6.372125148773193,
          1.3693583011627197
         ],
         "y": [
          0.22962112724781036,
          -4.009390354156494,
          -3.5963635444641113
         ]
        },
        {
         "fill": "toself",
         "fillcolor": "rgba(0, 128, 0, 0.2)",
         "legendgroup": "Feather",
         "line": {
          "color": "rgba(0, 128, 0, 1)"
         },
         "name": "Feather Hull",
         "showlegend": false,
         "type": "scatter",
         "x": [
          -6.372125148773193,
          -4.326793193817139,
          1.3693583011627197,
          -6.372125148773193,
          -6.372125148773193
         ],
         "y": [
          -4.009390354156494,
          0.22962112724781036,
          -3.5963635444641113,
          -4.009390354156494,
          -4.009390354156494
         ]
        }
       ],
       "layout": {
        "height": 800,
        "plot_bgcolor": "rgba(0,0,0,0)",
        "template": {
         "data": {
          "bar": [
           {
            "error_x": {
             "color": "#2a3f5f"
            },
            "error_y": {
             "color": "#2a3f5f"
            },
            "marker": {
             "line": {
              "color": "#E5ECF6",
              "width": 0.5
             },
             "pattern": {
              "fillmode": "overlay",
              "size": 10,
              "solidity": 0.2
             }
            },
            "type": "bar"
           }
          ],
          "barpolar": [
           {
            "marker": {
             "line": {
              "color": "#E5ECF6",
              "width": 0.5
             },
             "pattern": {
              "fillmode": "overlay",
              "size": 10,
              "solidity": 0.2
             }
            },
            "type": "barpolar"
           }
          ],
          "carpet": [
           {
            "aaxis": {
             "endlinecolor": "#2a3f5f",
             "gridcolor": "white",
             "linecolor": "white",
             "minorgridcolor": "white",
             "startlinecolor": "#2a3f5f"
            },
            "baxis": {
             "endlinecolor": "#2a3f5f",
             "gridcolor": "white",
             "linecolor": "white",
             "minorgridcolor": "white",
             "startlinecolor": "#2a3f5f"
            },
            "type": "carpet"
           }
          ],
          "choropleth": [
           {
            "colorbar": {
             "outlinewidth": 0,
             "ticks": ""
            },
            "type": "choropleth"
           }
          ],
          "contour": [
           {
            "colorbar": {
             "outlinewidth": 0,
             "ticks": ""
            },
            "colorscale": [
             [
              0,
              "#0d0887"
             ],
             [
              0.1111111111111111,
              "#46039f"
             ],
             [
              0.2222222222222222,
              "#7201a8"
             ],
             [
              0.3333333333333333,
              "#9c179e"
             ],
             [
              0.4444444444444444,
              "#bd3786"
             ],
             [
              0.5555555555555556,
              "#d8576b"
             ],
             [
              0.6666666666666666,
              "#ed7953"
             ],
             [
              0.7777777777777778,
              "#fb9f3a"
             ],
             [
              0.8888888888888888,
              "#fdca26"
             ],
             [
              1,
              "#f0f921"
             ]
            ],
            "type": "contour"
           }
          ],
          "contourcarpet": [
           {
            "colorbar": {
             "outlinewidth": 0,
             "ticks": ""
            },
            "type": "contourcarpet"
           }
          ],
          "heatmap": [
           {
            "colorbar": {
             "outlinewidth": 0,
             "ticks": ""
            },
            "colorscale": [
             [
              0,
              "#0d0887"
             ],
             [
              0.1111111111111111,
              "#46039f"
             ],
             [
              0.2222222222222222,
              "#7201a8"
             ],
             [
              0.3333333333333333,
              "#9c179e"
             ],
             [
              0.4444444444444444,
              "#bd3786"
             ],
             [
              0.5555555555555556,
              "#d8576b"
             ],
             [
              0.6666666666666666,
              "#ed7953"
             ],
             [
              0.7777777777777778,
              "#fb9f3a"
             ],
             [
              0.8888888888888888,
              "#fdca26"
             ],
             [
              1,
              "#f0f921"
             ]
            ],
            "type": "heatmap"
           }
          ],
          "heatmapgl": [
           {
            "colorbar": {
             "outlinewidth": 0,
             "ticks": ""
            },
            "colorscale": [
             [
              0,
              "#0d0887"
             ],
             [
              0.1111111111111111,
              "#46039f"
             ],
             [
              0.2222222222222222,
              "#7201a8"
             ],
             [
              0.3333333333333333,
              "#9c179e"
             ],
             [
              0.4444444444444444,
              "#bd3786"
             ],
             [
              0.5555555555555556,
              "#d8576b"
             ],
             [
              0.6666666666666666,
              "#ed7953"
             ],
             [
              0.7777777777777778,
              "#fb9f3a"
             ],
             [
              0.8888888888888888,
              "#fdca26"
             ],
             [
              1,
              "#f0f921"
             ]
            ],
            "type": "heatmapgl"
           }
          ],
          "histogram": [
           {
            "marker": {
             "pattern": {
              "fillmode": "overlay",
              "size": 10,
              "solidity": 0.2
             }
            },
            "type": "histogram"
           }
          ],
          "histogram2d": [
           {
            "colorbar": {
             "outlinewidth": 0,
             "ticks": ""
            },
            "colorscale": [
             [
              0,
              "#0d0887"
             ],
             [
              0.1111111111111111,
              "#46039f"
             ],
             [
              0.2222222222222222,
              "#7201a8"
             ],
             [
              0.3333333333333333,
              "#9c179e"
             ],
             [
              0.4444444444444444,
              "#bd3786"
             ],
             [
              0.5555555555555556,
              "#d8576b"
             ],
             [
              0.6666666666666666,
              "#ed7953"
             ],
             [
              0.7777777777777778,
              "#fb9f3a"
             ],
             [
              0.8888888888888888,
              "#fdca26"
             ],
             [
              1,
              "#f0f921"
             ]
            ],
            "type": "histogram2d"
           }
          ],
          "histogram2dcontour": [
           {
            "colorbar": {
             "outlinewidth": 0,
             "ticks": ""
            },
            "colorscale": [
             [
              0,
              "#0d0887"
             ],
             [
              0.1111111111111111,
              "#46039f"
             ],
             [
              0.2222222222222222,
              "#7201a8"
             ],
             [
              0.3333333333333333,
              "#9c179e"
             ],
             [
              0.4444444444444444,
              "#bd3786"
             ],
             [
              0.5555555555555556,
              "#d8576b"
             ],
             [
              0.6666666666666666,
              "#ed7953"
             ],
             [
              0.7777777777777778,
              "#fb9f3a"
             ],
             [
              0.8888888888888888,
              "#fdca26"
             ],
             [
              1,
              "#f0f921"
             ]
            ],
            "type": "histogram2dcontour"
           }
          ],
          "mesh3d": [
           {
            "colorbar": {
             "outlinewidth": 0,
             "ticks": ""
            },
            "type": "mesh3d"
           }
          ],
          "parcoords": [
           {
            "line": {
             "colorbar": {
              "outlinewidth": 0,
              "ticks": ""
             }
            },
            "type": "parcoords"
           }
          ],
          "pie": [
           {
            "automargin": true,
            "type": "pie"
           }
          ],
          "scatter": [
           {
            "fillpattern": {
             "fillmode": "overlay",
             "size": 10,
             "solidity": 0.2
            },
            "type": "scatter"
           }
          ],
          "scatter3d": [
           {
            "line": {
             "colorbar": {
              "outlinewidth": 0,
              "ticks": ""
             }
            },
            "marker": {
             "colorbar": {
              "outlinewidth": 0,
              "ticks": ""
             }
            },
            "type": "scatter3d"
           }
          ],
          "scattercarpet": [
           {
            "marker": {
             "colorbar": {
              "outlinewidth": 0,
              "ticks": ""
             }
            },
            "type": "scattercarpet"
           }
          ],
          "scattergeo": [
           {
            "marker": {
             "colorbar": {
              "outlinewidth": 0,
              "ticks": ""
             }
            },
            "type": "scattergeo"
           }
          ],
          "scattergl": [
           {
            "marker": {
             "colorbar": {
              "outlinewidth": 0,
              "ticks": ""
             }
            },
            "type": "scattergl"
           }
          ],
          "scattermapbox": [
           {
            "marker": {
             "colorbar": {
              "outlinewidth": 0,
              "ticks": ""
             }
            },
            "type": "scattermapbox"
           }
          ],
          "scatterpolar": [
           {
            "marker": {
             "colorbar": {
              "outlinewidth": 0,
              "ticks": ""
             }
            },
            "type": "scatterpolar"
           }
          ],
          "scatterpolargl": [
           {
            "marker": {
             "colorbar": {
              "outlinewidth": 0,
              "ticks": ""
             }
            },
            "type": "scatterpolargl"
           }
          ],
          "scatterternary": [
           {
            "marker": {
             "colorbar": {
              "outlinewidth": 0,
              "ticks": ""
             }
            },
            "type": "scatterternary"
           }
          ],
          "surface": [
           {
            "colorbar": {
             "outlinewidth": 0,
             "ticks": ""
            },
            "colorscale": [
             [
              0,
              "#0d0887"
             ],
             [
              0.1111111111111111,
              "#46039f"
             ],
             [
              0.2222222222222222,
              "#7201a8"
             ],
             [
              0.3333333333333333,
              "#9c179e"
             ],
             [
              0.4444444444444444,
              "#bd3786"
             ],
             [
              0.5555555555555556,
              "#d8576b"
             ],
             [
              0.6666666666666666,
              "#ed7953"
             ],
             [
              0.7777777777777778,
              "#fb9f3a"
             ],
             [
              0.8888888888888888,
              "#fdca26"
             ],
             [
              1,
              "#f0f921"
             ]
            ],
            "type": "surface"
           }
          ],
          "table": [
           {
            "cells": {
             "fill": {
              "color": "#EBF0F8"
             },
             "line": {
              "color": "white"
             }
            },
            "header": {
             "fill": {
              "color": "#C8D4E3"
             },
             "line": {
              "color": "white"
             }
            },
            "type": "table"
           }
          ]
         },
         "layout": {
          "annotationdefaults": {
           "arrowcolor": "#2a3f5f",
           "arrowhead": 0,
           "arrowwidth": 1
          },
          "autotypenumbers": "strict",
          "coloraxis": {
           "colorbar": {
            "outlinewidth": 0,
            "ticks": ""
           }
          },
          "colorscale": {
           "diverging": [
            [
             0,
             "#8e0152"
            ],
            [
             0.1,
             "#c51b7d"
            ],
            [
             0.2,
             "#de77ae"
            ],
            [
             0.3,
             "#f1b6da"
            ],
            [
             0.4,
             "#fde0ef"
            ],
            [
             0.5,
             "#f7f7f7"
            ],
            [
             0.6,
             "#e6f5d0"
            ],
            [
             0.7,
             "#b8e186"
            ],
            [
             0.8,
             "#7fbc41"
            ],
            [
             0.9,
             "#4d9221"
            ],
            [
             1,
             "#276419"
            ]
           ],
           "sequential": [
            [
             0,
             "#0d0887"
            ],
            [
             0.1111111111111111,
             "#46039f"
            ],
            [
             0.2222222222222222,
             "#7201a8"
            ],
            [
             0.3333333333333333,
             "#9c179e"
            ],
            [
             0.4444444444444444,
             "#bd3786"
            ],
            [
             0.5555555555555556,
             "#d8576b"
            ],
            [
             0.6666666666666666,
             "#ed7953"
            ],
            [
             0.7777777777777778,
             "#fb9f3a"
            ],
            [
             0.8888888888888888,
             "#fdca26"
            ],
            [
             1,
             "#f0f921"
            ]
           ],
           "sequentialminus": [
            [
             0,
             "#0d0887"
            ],
            [
             0.1111111111111111,
             "#46039f"
            ],
            [
             0.2222222222222222,
             "#7201a8"
            ],
            [
             0.3333333333333333,
             "#9c179e"
            ],
            [
             0.4444444444444444,
             "#bd3786"
            ],
            [
             0.5555555555555556,
             "#d8576b"
            ],
            [
             0.6666666666666666,
             "#ed7953"
            ],
            [
             0.7777777777777778,
             "#fb9f3a"
            ],
            [
             0.8888888888888888,
             "#fdca26"
            ],
            [
             1,
             "#f0f921"
            ]
           ]
          },
          "colorway": [
           "#636efa",
           "#EF553B",
           "#00cc96",
           "#ab63fa",
           "#FFA15A",
           "#19d3f3",
           "#FF6692",
           "#B6E880",
           "#FF97FF",
           "#FECB52"
          ],
          "font": {
           "color": "#2a3f5f"
          },
          "geo": {
           "bgcolor": "white",
           "lakecolor": "white",
           "landcolor": "#E5ECF6",
           "showlakes": true,
           "showland": true,
           "subunitcolor": "white"
          },
          "hoverlabel": {
           "align": "left"
          },
          "hovermode": "closest",
          "mapbox": {
           "style": "light"
          },
          "paper_bgcolor": "white",
          "plot_bgcolor": "#E5ECF6",
          "polar": {
           "angularaxis": {
            "gridcolor": "white",
            "linecolor": "white",
            "ticks": ""
           },
           "bgcolor": "#E5ECF6",
           "radialaxis": {
            "gridcolor": "white",
            "linecolor": "white",
            "ticks": ""
           }
          },
          "scene": {
           "xaxis": {
            "backgroundcolor": "#E5ECF6",
            "gridcolor": "white",
            "gridwidth": 2,
            "linecolor": "white",
            "showbackground": true,
            "ticks": "",
            "zerolinecolor": "white"
           },
           "yaxis": {
            "backgroundcolor": "#E5ECF6",
            "gridcolor": "white",
            "gridwidth": 2,
            "linecolor": "white",
            "showbackground": true,
            "ticks": "",
            "zerolinecolor": "white"
           },
           "zaxis": {
            "backgroundcolor": "#E5ECF6",
            "gridcolor": "white",
            "gridwidth": 2,
            "linecolor": "white",
            "showbackground": true,
            "ticks": "",
            "zerolinecolor": "white"
           }
          },
          "shapedefaults": {
           "line": {
            "color": "#2a3f5f"
           }
          },
          "ternary": {
           "aaxis": {
            "gridcolor": "white",
            "linecolor": "white",
            "ticks": ""
           },
           "baxis": {
            "gridcolor": "white",
            "linecolor": "white",
            "ticks": ""
           },
           "bgcolor": "#E5ECF6",
           "caxis": {
            "gridcolor": "white",
            "linecolor": "white",
            "ticks": ""
           }
          },
          "title": {
           "x": 0.05
          },
          "xaxis": {
           "automargin": true,
           "gridcolor": "white",
           "linecolor": "white",
           "ticks": "",
           "title": {
            "standoff": 15
           },
           "zerolinecolor": "white",
           "zerolinewidth": 2
          },
          "yaxis": {
           "automargin": true,
           "gridcolor": "white",
           "linecolor": "white",
           "ticks": "",
           "title": {
            "standoff": 15
           },
           "zerolinecolor": "white",
           "zerolinewidth": 2
          }
         }
        },
        "title": {
         "text": "Semantic Map with Convex Hulls"
        },
        "width": 900,
        "xaxis": {
         "showgrid": false,
         "title": {
          "text": "Dimension 1"
         }
        },
        "yaxis": {
         "showgrid": false,
         "title": {
          "text": "Dimension 2"
         }
        }
       }
      }
     },
     "metadata": {},
     "output_type": "display_data"
    },
    {
     "data": {
      "image/png": "[encoded data removed]",
      "text/plain": [
       "<Figure size 1000x800 with 2 Axes>"
      ]
     },
     "metadata": {},
     "output_type": "display_data"
    }
   ],
   "source": [
    "import numpy as np\n",
    "import plotly.graph_objects as go\n",
    "from sklearn.manifold import TSNE\n",
    "from shapely.geometry import MultiPoint\n",
    "from scipy.spatial import ConvexHull\n",
    "from transformers import CLIPTokenizer, CLIPModel\n",
    "import torch\n",
    "from sklearn.decomposition import PCA\n",
    "from umap import UMAP\n",
    "\n",
    "\n",
    "def map_words_to_semantic_space_dynamic(word_dict, scaling_factor=2000, dim_red=\"tsne\"):\n",
    "    # Load CLIP model and tokenizer\n",
    "    model_name = \"openai/clip-vit-base-patch32\"\n",
    "    tokenizer = CLIPTokenizer.from_pretrained(model_name)\n",
    "    model = CLIPModel.from_pretrained(model_name)\n",
    "\n",
    "    # Combine all words across archetypes\n",
    "    all_words = []\n",
    "    labels = []\n",
    "    for archetype, words in word_dict.items():\n",
    "        all_words.extend(words)\n",
    "        labels.extend([archetype] * len(words))\n",
    "\n",
    "    # Calculate embeddings for all words\n",
    "    word_vectors = []\n",
    "    for word in all_words:\n",
    "        tokenized = tokenizer(word, return_tensors=\"pt\", padding=True, truncation=True)\n",
    "        with torch.no_grad():\n",
    "            embedding = model.get_text_features(**tokenized)\n",
    "        word_vectors.append(embedding.squeeze(0).numpy())\n",
    "\n",
    "    word_vectors = np.array(word_vectors)\n",
    "\n",
    "    # Dimensionality reduction\n",
    "    # Dimensionality reduction\n",
    "    if dim_red == \"tsne\":\n",
    "        dim_red_model = TSNE(n_components=2, perplexity=12, random_state=42)\n",
    "        word_vectors_2d = dim_red_model.fit_transform(word_vectors)\n",
    "    elif dim_red == \"pca\":\n",
    "        dim_red_model = PCA(n_components=2)\n",
    "        word_vectors_2d = dim_red_model.fit_transform(word_vectors)\n",
    "    elif dim_red == \"umap\":\n",
    "        dim_red_model = UMAP(n_components=2, random_state=42)\n",
    "        word_vectors_2d = dim_red_model.fit_transform(word_vectors)\n",
    "    else:\n",
    "        raise ValueError(f\"Invalid value for dim_red: {dim_red}. Supported values: 'tsne', 'pca', 'umap'.\")\n",
    "\n",
    "    return word_vectors_2d, labels, all_words\n",
    "\n",
    "\n",
    "def create_dynamic_plot(word_vectors_2d, labels, all_words):\n",
    "    # Create a Plotly figure\n",
    "    fig = go.Figure()\n",
    "\n",
    "    unique_archetypes = list(set(labels))\n",
    "    base_colors = [\n",
    "        'rgba(255, 0, 0, 1)',    # Red\n",
    "        'rgba(0, 0, 255, 1)',    # Blue\n",
    "        'rgba(0, 255, 0, 1)',    # Green\n",
    "        'rgba(128, 0, 128, 1)',  # Purple\n",
    "        'rgba(0, 255, 255, 1)',  # Cyan\n",
    "        'rgba(255, 255, 0, 1)',  # Yellow\n",
    "        'rgba(0, 0, 0, 1)',      # Black\n",
    "        'rgba(255, 0, 255, 1)',  # Magenta\n",
    "        'rgba(128, 128, 0, 1)',  # Olive\n",
    "        'rgba(0, 0, 128, 1)',    # Navy\n",
    "        'rgba(0, 128, 128, 1)',  # Teal\n",
    "        'rgba(0, 128, 0, 1)',    # Lime\n",
    "    ]\n",
    "\n",
    "    archetype_hulls = {}\n",
    "\n",
    "    for i, archetype in enumerate(unique_archetypes):\n",
    "        # Get points for the current archetype\n",
    "        archetype_indices = [j for j, label in enumerate(labels) if label == archetype]\n",
    "        x = word_vectors_2d[archetype_indices, 0]\n",
    "        y = word_vectors_2d[archetype_indices, 1]\n",
    "\n",
    "        # Calculate convex hull and area\n",
    "        archetype_points = MultiPoint([(x[j], y[j]) for j in range(len(x))])\n",
    "        hull = archetype_points.convex_hull\n",
    "        area = hull.area\n",
    "        archetype_hulls[archetype] = hull\n",
    "\n",
    "        print(f\"{archetype} area: {area:.2f}\")\n",
    "\n",
    "        # Add scatter plot for archetype points\n",
    "        fig.add_trace(go.Scatter(\n",
    "            x=x, y=y,\n",
    "            mode='markers+text',\n",
    "            marker=dict(size=10, color=base_colors[i % len(base_colors)], opacity=0.7),\n",
    "            text=np.array(all_words)[archetype_indices],\n",
    "            textposition=\"top center\",\n",
    "            name=f\"{archetype} Points\",\n",
    "            legendgroup=archetype,  # Group the points and hull together\n",
    "            showlegend=True         # Show legend only for the points\n",
    "        ))\n",
    "\n",
    "        # Add convex hull for archetype\n",
    "        if len(x) > 2:  # Only plot hull if it exists\n",
    "            hull_coords = np.array(hull.exterior.coords)\n",
    "            fig.add_trace(go.Scatter(\n",
    "                x=hull_coords[:, 0].tolist() + [hull_coords[0, 0]],\n",
    "                y=hull_coords[:, 1].tolist() + [hull_coords[0, 1]],\n",
    "                fill='toself',\n",
    "                fillcolor=base_colors[i % len(base_colors)].replace('1)', '0.2)'),\n",
    "                line=dict(color=base_colors[i % len(base_colors)]),\n",
    "                name=f\"{archetype} Hull\",\n",
    "                legendgroup=archetype,  # Group the hull with the points\n",
    "                showlegend=False        # Do not show a separate legend for the hull\n",
    "            ))\n",
    "\n",
    "    # Update plot layout\n",
    "    fig.update_layout(\n",
    "        title=\"Semantic Map with Convex Hulls\",\n",
    "        xaxis_title=\"Dimension 1\",\n",
    "        yaxis_title=\"Dimension 2\",\n",
    "        width=900,\n",
    "        height=800\n",
    "    )\n",
    "    # Remove gridlines\n",
    "    fig.update_xaxes(showgrid=False)\n",
    "    fig.update_yaxes(showgrid=False)\n",
    "    # Remove background color\n",
    "    fig.update_layout(plot_bgcolor='rgba(0,0,0,0)')\n",
    "    fig.write_html(\"dynamic_semantic_map.html\")\n",
    "    fig.show()\n",
    "\n",
    "    return archetype_hulls\n",
    "\n",
    "\n",
    "\n",
    "# Lakota symbols\n",
    "lakota_symbols = {\n",
    "    \"Bag\": [\"purpose\", \"treasure\", \"hidden potential\"],\n",
    "    \"Clouds\": [\"impermanence\", \"veil\", \"drift\", \"illumination\"],\n",
    "    \"Dragonfly\": [\"agility\", \"metamorphosis\", \"firelight\"],\n",
    "    \"Earth\": [\"stability\", \"roots\", \"maternal strength\"],\n",
    "    \"Earth2\": [\"renewal\", \"seasons\", \"circle of life\"],\n",
    "    \"Feather\": [\"elevation\", \"weightlessness\", \"divine message\"],\n",
    "    \"Horse Track\": [\"exploration\", \"trail\", \"momentum\"],\n",
    "    \"House\": [\"protection\", \"hearth\", \"community bond\"],\n",
    "    \"Lightning\": [\"rupture\", \"electricity\", \"divine spark\"],\n",
    "    \"Star\": [\"guidance\", \"eternity\", \"celestial beacon\"],\n",
    "    \"Thunder\": [\"resonance\", \"impact\", \"elemental roar\"],\n",
    "    \"MY DREAM\": [\"dragon\", \"reptile\", \"light\", \"memory\", \"sky\"],\n",
    "}\n",
    "\n",
    "# Map words to semantic space\n",
    "word_vectors_2d, labels, all_words = map_words_to_semantic_space_dynamic(lakota_symbols, dim_red=\"tsne\")\n",
    "\n",
    "# Create dynamic plot\n",
    "hulls = create_dynamic_plot(word_vectors_2d, labels, all_words)\n",
    "plot_archetype_heatmap(hulls)\n"
   ]
  },
  {
   "cell_type": "code",
   "execution_count": null,
   "metadata": {},
   "outputs": [],
   "source": []
  }
 ],
 "metadata": {
  "kernelspec": {
   "display_name": "goofi",
   "language": "python",
   "name": "python3"
  },
  "language_info": {
   "codemirror_mode": {
    "name": "ipython",
    "version": 3
   },
   "file_extension": ".py",
   "mimetype": "text/x-python",
   "name": "python",
   "nbconvert_exporter": "python",
   "pygments_lexer": "ipython3",
   "version": "3.8.18"
  }
 },
 "nbformat": 4,
 "nbformat_minor": 2
}
