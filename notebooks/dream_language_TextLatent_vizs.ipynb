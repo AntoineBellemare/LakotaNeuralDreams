{
 "cells": [
  {
   "cell_type": "markdown",
   "metadata": {},
   "source": [
    "## Vizualise Textual Embeddings of Symbols Meaning Landscape and Dream Content  "
   ]
  },
  {
   "cell_type": "code",
   "execution_count": 6,
   "metadata": {},
   "outputs": [],
   "source": [
    "import numpy as np\n",
    "import matplotlib.pyplot as plt\n",
    "from sklearn.manifold import TSNE\n",
    "from shapely.geometry import MultiPoint\n",
    "from scipy.spatial import ConvexHull\n",
    "from transformers import CLIPTokenizer, CLIPModel\n",
    "import torch\n",
    "import seaborn as sns\n",
    "\n",
    "\n",
    "def map_words_to_semantic_space(word_dict, scaling_factor=2000, dim_red=\"tsne\", savefig=False, savename='test'):\n",
    "    # Load CLIP model and tokenizer\n",
    "    model_name = \"openai/clip-vit-base-patch32\"\n",
    "    tokenizer = CLIPTokenizer.from_pretrained(model_name)\n",
    "    model = CLIPModel.from_pretrained(model_name)\n",
    "\n",
    "    # Combine all words across authors\n",
    "    all_words = []\n",
    "    labels = []\n",
    "    for author, words in word_dict.items():\n",
    "        all_words.extend(words)\n",
    "        labels.extend([author] * len(words))\n",
    "\n",
    "    # Calculate embeddings for all words\n",
    "    word_vectors = []\n",
    "    for word in all_words:\n",
    "        tokenized = tokenizer(word, return_tensors=\"pt\", padding=True, truncation=True)\n",
    "        with torch.no_grad():\n",
    "            embedding = model.get_text_features(**tokenized)\n",
    "        word_vectors.append(embedding.squeeze(0).numpy())\n",
    "\n",
    "    word_vectors = np.array(word_vectors)\n",
    "\n",
    "    # Dimensionality reduction\n",
    "    if dim_red == \"tsne\":\n",
    "        dim_red_model = TSNE(n_components=2, perplexity=6, random_state=42)\n",
    "        word_vectors_2d = dim_red_model.fit_transform(word_vectors)\n",
    "    else:\n",
    "        raise ValueError(f\"Invalid value for dim_red: {dim_red}. Only 'tsne' is supported.\")\n",
    "\n",
    "    # Create scatter plot and calculate convex hulls\n",
    "    plt.figure(figsize=(10, 10))\n",
    "    unique_authors = list(set(labels))\n",
    "    colors = ['red', 'blue', 'green', 'purple', 'cyan', 'yellow', 'black', 'magenta', 'olive', 'navy', 'teal', 'lime', 'maroon']\n",
    "    markers = ['.', ',', 'o', 'v', '^', '<', '>', 's', 'p', '*', 'h', 'H', '+', 'x', 'D', 'd']\n",
    "    archetype_hulls = {}\n",
    "\n",
    "    for i, author in enumerate(unique_authors):\n",
    "        author_indices = [j for j, label in enumerate(labels) if label == author]\n",
    "        x = word_vectors_2d[author_indices, 0]\n",
    "        y = word_vectors_2d[author_indices, 1]\n",
    "        archetype_points = MultiPoint([(x[j], y[j]) for j in range(len(x))])\n",
    "        area = archetype_points.convex_hull.area\n",
    "        print(author, 'area:', area)\n",
    "        archetype_hulls[author] = archetype_points.convex_hull\n",
    "        plt.scatter(x, y, marker=markers[i % len(markers)], alpha=0.5, color=colors[i], label=author)\n",
    "\n",
    "        # Annotate each word on the scatter plot\n",
    "        for j, word in enumerate(np.array(all_words)[author_indices]):\n",
    "            plt.annotate(word, (x[j], y[j]), fontsize=8, ha='center', va='center', color='black')\n",
    "\n",
    "    for e, (author, hull) in enumerate(archetype_hulls.items()):\n",
    "        plt.fill(*zip(*hull.exterior.coords), alpha=0.2, color=colors[e])\n",
    "\n",
    "    plt.legend(title='Archetypes', fontsize=12, title_fontsize=14, loc='upper right')\n",
    "    plt.title('CLIP Word Embeddings Visualized')\n",
    "\n",
    "    if savefig:\n",
    "        plt.savefig(savename + '.png', dpi=300)\n",
    "    else:\n",
    "        plt.show()\n",
    "\n",
    "    return archetype_hulls\n",
    "\n",
    "\n",
    "\n",
    "\n",
    "def plot_archetype_heatmap(archetype_hulls):\n",
    "    archetypes = list(archetype_hulls.keys())\n",
    "    num_archetypes = len(archetypes)\n",
    "    heatmap = np.zeros((num_archetypes, num_archetypes))\n",
    "\n",
    "    for i in range(num_archetypes):\n",
    "        for j in range(num_archetypes):\n",
    "            if i >= j:\n",
    "                continue\n",
    "            hull1 = MultiPoint([point for point in archetype_hulls[archetypes[i]].exterior.coords])\n",
    "            hull2 = MultiPoint([point for point in archetype_hulls[archetypes[j]].exterior.coords])\n",
    "            intersection = hull1.convex_hull.intersection(hull2.convex_hull).area\n",
    "            heatmap[i, j] = intersection\n",
    "            heatmap[j, i] = intersection\n",
    "\n",
    "    mask = np.triu(np.ones_like(heatmap, dtype=bool))\n",
    "    plt.figure(figsize=(10, 8))\n",
    "    sns.heatmap(heatmap, mask=mask, annot=True, fmt=\".2f\", cmap=\"viridis\", xticklabels=archetypes, yticklabels=archetypes)\n",
    "    plt.title(\"Shared Areas Between Symbols\")\n",
    "    plt.show()\n",
    "\n",
    "\n"
   ]
  },
  {
   "cell_type": "code",
   "execution_count": 11,
   "metadata": {},
   "outputs": [
    {
     "name": "stdout",
     "output_type": "stream",
     "text": [
      "STAR area: 2804.62\n",
      "THUNDER area: 2887.25\n",
      "LIGHTNING area: 2525.37\n",
      "DRAGONFLY area: 2712.10\n",
      "BAG area: 1809.87\n",
      "CLOUDS area: 1637.64\n",
      "FEATHER area: 2349.85\n",
      "HOUSE area: 858.08\n",
      "HORSE TRACK area: 987.38\n",
      "EARTH area: 2423.94\n"
     ]
    },
    {
     "data": {
      "application/vnd.plotly.v1+json": {
       "config": {
        "plotlyServerURL": "https://plot.ly"
       },
       "data": [
        {
         "legendgroup": "STAR",
         "marker": {
          "color": "rgba(255, 0, 0, 1)",
          "opacity": 0.7,
          "size": 10
         },
         "mode": "markers+text",
         "name": "STAR Points",
         "showlegend": true,
         "text": [
          "star",
          "medicine wheel",
          "four directions",
          "north",
          "ancestral connection",
          "stardust in our bones",
          "elemental",
          "extraterrestrial",
          "star people",
          "soul",
          "source",
          "light",
          "outer space",
          "balance"
         ],
         "textposition": "top center",
         "type": "scatter",
         "x": [
          -8.449793815612793,
          25.265304565429688,
          13.946282386779785,
          -6.716567039489746,
          -12.920952796936035,
          -15.190014839172363,
          -21.852327346801758,
          -19.185014724731445,
          -9.72594165802002,
          15.506904602050781,
          25.1789608001709,
          -19.181909561157227,
          -16.7634334564209,
          -19.23571014404297
         ],
         "y": [
          -37.531192779541016,
          -16.233304977416992,
          -24.070955276489258,
          -1.9526467323303223,
          42.10844802856445,
          -40.6552619934082,
          -33.981956481933594,
          -36.11463928222656,
          -35.899993896484375,
          7.105286598205566,
          18.24057388305664,
          -9.470602035522461,
          -38.21574401855469,
          30.53108787536621
         ]
        },
        {
         "fill": "toself",
         "fillcolor": "rgba(255, 0, 0, 0.1)",
         "legendgroup": "STAR",
         "line": {
          "color": "rgba(255, 0, 0, 1)"
         },
         "name": "STAR Hull",
         "showlegend": false,
         "type": "scatter",
         "x": [
          -15.190014839172363,
          -21.852327346801758,
          -19.23571014404297,
          -12.920952796936035,
          25.1789608001709,
          25.265304565429688,
          13.946282386779785,
          -8.449793815612793,
          -15.190014839172363,
          -15.190014839172363
         ],
         "y": [
          -40.6552619934082,
          -33.981956481933594,
          30.53108787536621,
          42.10844802856445,
          18.24057388305664,
          -16.233304977416992,
          -24.070955276489258,
          -37.531192779541016,
          -40.6552619934082,
          -40.6552619934082
         ]
        },
        {
         "legendgroup": "THUNDER",
         "marker": {
          "color": "rgba(0, 0, 255, 1)",
          "opacity": 0.7,
          "size": 10
         },
         "mode": "markers+text",
         "name": "THUNDER Points",
         "showlegend": true,
         "text": [
          "thunder",
          "storm",
          "sound",
          "cry",
          "rain",
          "alert",
          "spirits arrival",
          "humility",
          "reminder of humanness",
          "fragility",
          "vulnerability",
          "out of the mouth of the thunderbird"
         ],
         "textposition": "top center",
         "type": "scatter",
         "x": [
          -29.88608169555664,
          -28.24761390686035,
          23.993661880493164,
          24.25819206237793,
          -34.303382873535156,
          -24.338905334472656,
          16.379634857177734,
          10.258440971374512,
          16.3155574798584,
          6.3354105949401855,
          6.81147575378418,
          18.183881759643555
         ],
         "y": [
          -16.609352111816406,
          -20.25248908996582,
          14.788188934326172,
          12.03886890411377,
          -20.77423858642578,
          16.476245880126953,
          -18.72937774658203,
          24.503738403320312,
          22.00371551513672,
          39.751708984375,
          37.12569046020508,
          -35.94738006591797
         ]
        },
        {
         "fill": "toself",
         "fillcolor": "rgba(0, 0, 255, 0.1)",
         "legendgroup": "THUNDER",
         "line": {
          "color": "rgba(0, 0, 255, 1)"
         },
         "name": "THUNDER Hull",
         "showlegend": false,
         "type": "scatter",
         "x": [
          18.183881759643555,
          -34.303382873535156,
          -24.338905334472656,
          6.3354105949401855,
          23.993661880493164,
          24.25819206237793,
          18.183881759643555,
          18.183881759643555
         ],
         "y": [
          -35.94738006591797,
          -20.77423858642578,
          16.476245880126953,
          39.751708984375,
          14.788188934326172,
          12.03886890411377,
          -35.94738006591797,
          -35.94738006591797
         ]
        },
        {
         "legendgroup": "LIGHTNING",
         "marker": {
          "color": "rgba(0, 255, 0, 1)",
          "opacity": 0.7,
          "size": 10
         },
         "mode": "markers+text",
         "name": "LIGHTNING Points",
         "showlegend": true,
         "text": [
          "lightning",
          "power",
          "thunderbird",
          "sacred clown",
          "spirituality",
          "storm",
          "spiritual connection",
          "electricity",
          "west",
          "fear",
          "grandfather",
          "danger",
          "goes out of the eyes of the thunderbird"
         ],
         "textposition": "top center",
         "type": "scatter",
         "x": [
          -27.39118766784668,
          14.860292434692383,
          15.031120300292969,
          23.530019760131836,
          18.828216552734375,
          -26.685457229614258,
          31.474123001098633,
          -25.719938278198242,
          -9.618436813354492,
          7.804258346557617,
          -32.55518341064453,
          -26.279996871948242,
          18.50290870666504
         ],
         "y": [
          -14.411721229553223,
          10.93613338470459,
          -38.47734069824219,
          -5.183351516723633,
          -2.8851122856140137,
          -18.897397994995117,
          -8.54018783569336,
          -11.611682891845703,
          -3.6481428146362305,
          11.196218490600586,
          26.790266036987305,
          15.694738388061523,
          -37.99117660522461
         ]
        },
        {
         "fill": "toself",
         "fillcolor": "rgba(0, 255, 0, 0.1)",
         "legendgroup": "LIGHTNING",
         "line": {
          "color": "rgba(0, 255, 0, 1)"
         },
         "name": "LIGHTNING Hull",
         "showlegend": false,
         "type": "scatter",
         "x": [
          15.031120300292969,
          -26.685457229614258,
          -27.39118766784668,
          -32.55518341064453,
          14.860292434692383,
          31.474123001098633,
          18.50290870666504,
          15.031120300292969,
          15.031120300292969
         ],
         "y": [
          -38.47734069824219,
          -18.897397994995117,
          -14.411721229553223,
          26.790266036987305,
          10.93613338470459,
          -8.54018783569336,
          -37.99117660522461,
          -38.47734069824219,
          -38.47734069824219
         ]
        },
        {
         "legendgroup": "DRAGONFLY",
         "marker": {
          "color": "rgba(128, 0, 128, 1)",
          "opacity": 0.7,
          "size": 10
         },
         "mode": "markers+text",
         "name": "DRAGONFLY Points",
         "showlegend": true,
         "text": [
          "dragonfly",
          "resilience",
          "ancient connection",
          "ancestral",
          "confirmation",
          "message",
          "spiritual travel",
          "flight",
          "astral travel",
          "lightly",
          "blessing",
          "patience",
          "survival"
         ],
         "textposition": "top center",
         "type": "scatter",
         "x": [
          5.944672584533691,
          3.3557510375976562,
          -15.108514785766602,
          -10.277226448059082,
          38.97532653808594,
          21.339750289916992,
          19.000932693481445,
          -5.014750003814697,
          19.529693603515625,
          -18.494831085205078,
          8.561286926269531,
          0.9660784006118774,
          3.74729323387146
         ],
         "y": [
          -44.37485122680664,
          24.771276473999023,
          42.72911071777344,
          40.97748947143555,
          3.4129083156585693,
          18.82605743408203,
          -6.629446983337402,
          -18.177921295166016,
          -10.081770896911621,
          -7.342855453491211,
          5.5147624015808105,
          25.92531967163086,
          12.70339298248291
         ]
        },
        {
         "fill": "toself",
         "fillcolor": "rgba(128, 0, 128, 0.1)",
         "legendgroup": "DRAGONFLY",
         "line": {
          "color": "rgba(128, 0, 128, 1)"
         },
         "name": "DRAGONFLY Hull",
         "showlegend": false,
         "type": "scatter",
         "x": [
          5.944672584533691,
          -18.494831085205078,
          -15.108514785766602,
          -10.277226448059082,
          21.339750289916992,
          38.97532653808594,
          5.944672584533691,
          5.944672584533691
         ],
         "y": [
          -44.37485122680664,
          -7.342855453491211,
          42.72911071777344,
          40.97748947143555,
          18.82605743408203,
          3.4129083156585693,
          -44.37485122680664,
          -44.37485122680664
         ]
        },
        {
         "legendgroup": "BAG",
         "marker": {
          "color": "rgba(0, 255, 255, 1)",
          "opacity": 0.7,
          "size": 10
         },
         "mode": "markers+text",
         "name": "BAG Points",
         "showlegend": true,
         "text": [
          "bag",
          "movement",
          "storage",
          "transport",
          "physical medicine",
          "spiritual medicine",
          "peace pipe",
          "healing",
          "necessity",
          "holding",
          "physical travel",
          "container",
          "physical protection",
          "carrying",
          "journey",
          "food"
         ],
         "textposition": "top center",
         "type": "scatter",
         "x": [
          -15.743255615234375,
          -5.673912048339844,
          -12.27064037322998,
          2.474337577819824,
          13.246343612670898,
          16.297449111938477,
          -0.8507117629051208,
          5.940725803375244,
          30.817399978637695,
          -32.16979217529297,
          11.027979850769043,
          -11.165657997131348,
          -18.694433212280273,
          -32.9070930480957,
          4.388850688934326,
          7.61761999130249
         ],
         "y": [
          -22.69886016845703,
          -11.248641967773438,
          -24.552457809448242,
          -20.16096305847168,
          -7.408605575561523,
          -4.528223991394043,
          -41.20012283325195,
          5.256110668182373,
          11.83511734008789,
          2.703511953353882,
          -12.040872573852539,
          -26.498836517333984,
          5.656297206878662,
          0.5414740443229675,
          -14.438560485839844,
          15.45318603515625
         ]
        },
        {
         "fill": "toself",
         "fillcolor": "rgba(0, 255, 255, 0.1)",
         "legendgroup": "BAG",
         "line": {
          "color": "rgba(0, 255, 255, 1)"
         },
         "name": "BAG Hull",
         "showlegend": false,
         "type": "scatter",
         "x": [
          -0.8507117629051208,
          -15.743255615234375,
          -32.9070930480957,
          -32.16979217529297,
          7.61761999130249,
          30.817399978637695,
          -0.8507117629051208,
          -0.8507117629051208
         ],
         "y": [
          -41.20012283325195,
          -22.69886016845703,
          0.5414740443229675,
          2.703511953353882,
          15.45318603515625,
          11.83511734008789,
          -41.20012283325195,
          -41.20012283325195
         ]
        },
        {
         "legendgroup": "CLOUDS",
         "marker": {
          "color": "rgba(255, 255, 0, 1)",
          "opacity": 0.7,
          "size": 10
         },
         "mode": "markers+text",
         "name": "CLOUDS Points",
         "showlegend": true,
         "text": [
          "clouds",
          "rain",
          "spiritual connection",
          "vision",
          "spiritual knowledge",
          "spirit world",
          "portal",
          "transcendence",
          "wisdom",
          "openness of the plane",
          "vastness"
         ],
         "textposition": "top center",
         "type": "scatter",
         "x": [
          -24.32404327392578,
          -33.26075744628906,
          31.474123001098633,
          11.014452934265137,
          16.922088623046875,
          15.608011245727539,
          -24.814395904541016,
          15.652573585510254,
          18.78303337097168,
          1.076197862625122,
          -17.033716201782227
         ],
         "y": [
          -22.046653747558594,
          -22.61587905883789,
          -8.54018783569336,
          10.14171028137207,
          -0.860958993434906,
          -16.042863845825195,
          -32.04548645019531,
          2.5336263179779053,
          17.358776092529297,
          -27.453838348388672,
          -3.606527090072632
         ]
        },
        {
         "fill": "toself",
         "fillcolor": "rgba(255, 255, 0, 0.1)",
         "legendgroup": "CLOUDS",
         "line": {
          "color": "rgba(255, 255, 0, 1)"
         },
         "name": "CLOUDS Hull",
         "showlegend": false,
         "type": "scatter",
         "x": [
          -24.814395904541016,
          -33.26075744628906,
          -17.033716201782227,
          18.78303337097168,
          31.474123001098633,
          1.076197862625122,
          -24.814395904541016,
          -24.814395904541016
         ],
         "y": [
          -32.04548645019531,
          -22.61587905883789,
          -3.606527090072632,
          17.358776092529297,
          -8.54018783569336,
          -27.453838348388672,
          -32.04548645019531,
          -32.04548645019531
         ]
        },
        {
         "legendgroup": "FEATHER",
         "marker": {
          "color": "rgba(0, 0, 0, 1)",
          "opacity": 0.7,
          "size": 10
         },
         "mode": "markers+text",
         "name": "FEATHER Points",
         "showlegend": true,
         "text": [
          "feather",
          "achievement",
          "honor",
          "bravery",
          "merit",
          "counting coup",
          "courage",
          "knowledge",
          "eagle",
          "bird",
          "ceremony",
          "humbleness",
          "nobility",
          "virtue",
          "valor",
          "strength"
         ],
         "textposition": "top center",
         "type": "scatter",
         "x": [
          4.4659199714660645,
          21.38717269897461,
          -14.197829246520996,
          -0.5522950291633606,
          -9.388284683227539,
          29.737451553344727,
          1.6083451509475708,
          18.465234756469727,
          7.675895690917969,
          5.543721675872803,
          40.184844970703125,
          12.10377311706543,
          10.538684844970703,
          -9.29159164428711,
          -17.64983367919922,
          4.194518089294434
         ],
         "y": [
          -41.2414436340332,
          9.212921142578125,
          16.053260803222656,
          17.52869987487793,
          1.2567782402038574,
          20.37509536743164,
          18.570636749267578,
          14.742758750915527,
          -38.10736846923828,
          -37.92068099975586,
          1.3528369665145874,
          23.469318389892578,
          34.04047775268555,
          6.055695056915283,
          17.58443832397461,
          22.27552032470703
         ]
        },
        {
         "fill": "toself",
         "fillcolor": "rgba(0, 0, 0, 0.1)",
         "legendgroup": "FEATHER",
         "line": {
          "color": "rgba(0, 0, 0, 1)"
         },
         "name": "FEATHER Hull",
         "showlegend": false,
         "type": "scatter",
         "x": [
          4.4659199714660645,
          -17.64983367919922,
          10.538684844970703,
          29.737451553344727,
          40.184844970703125,
          7.675895690917969,
          4.4659199714660645,
          4.4659199714660645
         ],
         "y": [
          -41.2414436340332,
          17.58443832397461,
          34.04047775268555,
          20.37509536743164,
          1.3528369665145874,
          -38.10736846923828,
          -41.2414436340332,
          -41.2414436340332
         ]
        },
        {
         "legendgroup": "HOUSE",
         "marker": {
          "color": "rgba(255, 0, 255, 1)",
          "opacity": 0.7,
          "size": 10
         },
         "mode": "markers+text",
         "name": "HOUSE Points",
         "showlegend": true,
         "text": [
          "house",
          "nurturing",
          "protection",
          "security",
          "home",
          "community",
          "matriarchy",
          "camp",
          "family",
          "care",
          "council",
          "grandmother",
          "safety"
         ],
         "textposition": "top center",
         "type": "scatter",
         "x": [
          -3.2659590244293213,
          -12.9551362991333,
          -20.212675094604492,
          -23.13186264038086,
          -2.749907970428467,
          22.499486923217773,
          -21.187557220458984,
          -1.3067233562469482,
          -6.160632610321045,
          1.4128923416137695,
          21.327842712402344,
          -30.23804473876953,
          -22.899770736694336
         ],
         "y": [
          3.5255372524261475,
          23.141468048095703,
          7.353518009185791,
          4.790235996246338,
          7.550908088684082,
          24.279056549072266,
          21.991037368774414,
          9.560003280639648,
          12.026421546936035,
          6.817098140716553,
          27.177001953125,
          26.041610717773438,
          8.527406692504883
         ]
        },
        {
         "fill": "toself",
         "fillcolor": "rgba(255, 0, 255, 0.1)",
         "legendgroup": "HOUSE",
         "line": {
          "color": "rgba(255, 0, 255, 1)"
         },
         "name": "HOUSE Hull",
         "showlegend": false,
         "type": "scatter",
         "x": [
          -3.2659590244293213,
          -23.13186264038086,
          -30.23804473876953,
          21.327842712402344,
          22.499486923217773,
          1.4128923416137695,
          -3.2659590244293213,
          -3.2659590244293213
         ],
         "y": [
          3.5255372524261475,
          4.790235996246338,
          26.041610717773438,
          27.177001953125,
          24.279056549072266,
          6.817098140716553,
          3.5255372524261475,
          3.5255372524261475
         ]
        },
        {
         "legendgroup": "HORSE TRACK",
         "marker": {
          "color": "rgba(128, 128, 0, 1)",
          "opacity": 0.7,
          "size": 10
         },
         "mode": "markers+text",
         "name": "HORSE TRACK Points",
         "showlegend": true,
         "text": [
          "horse track",
          "wealth",
          "travelling",
          "movement",
          "path",
          "motion",
          "riding",
          "hunting",
          "abundance",
          "dowry",
          "generosity",
          "west",
          "mobility"
         ],
         "textposition": "top center",
         "type": "scatter",
         "x": [
          -1.9229958057403564,
          11.981447219848633,
          4.236253261566162,
          -4.18497371673584,
          2.765360116958618,
          -7.148417949676514,
          0.7311221957206726,
          7.353518009185791,
          -6.0359086990356445,
          17.36223793029785,
          10.360054016113281,
          -9.618436813354492,
          6.2000885009765625
         ],
         "y": [
          -22.715900421142578,
          14.241704940795898,
          -17.182804107666016,
          -12.624605178833008,
          -10.639266967773438,
          -14.327716827392578,
          -16.960647583007812,
          -19.2335262298584,
          24.152385711669922,
          37.362548828125,
          20.337873458862305,
          -3.6481428146362305,
          31.757625579833984
         ]
        },
        {
         "fill": "toself",
         "fillcolor": "rgba(128, 128, 0, 0.1)",
         "legendgroup": "HORSE TRACK",
         "line": {
          "color": "rgba(128, 128, 0, 1)"
         },
         "name": "HORSE TRACK Hull",
         "showlegend": false,
         "type": "scatter",
         "x": [
          -1.9229958057403564,
          -7.148417949676514,
          -9.618436813354492,
          -6.0359086990356445,
          6.2000885009765625,
          17.36223793029785,
          7.353518009185791,
          -1.9229958057403564,
          -1.9229958057403564
         ],
         "y": [
          -22.715900421142578,
          -14.327716827392578,
          -3.6481428146362305,
          24.152385711669922,
          31.757625579833984,
          37.362548828125,
          -19.2335262298584,
          -22.715900421142578,
          -22.715900421142578
         ]
        },
        {
         "legendgroup": "EARTH",
         "marker": {
          "color": "rgba(0, 0, 128, 1)",
          "opacity": 0.7,
          "size": 10
         },
         "mode": "markers+text",
         "name": "EARTH Points",
         "showlegend": true,
         "text": [
          "earth",
          "people",
          "animals",
          "living beings",
          "plants",
          "roots",
          "mother",
          "geography",
          "mountain",
          "earthly",
          "mundane",
          "physical world",
          "harmony",
          "life",
          "sustainability",
          "balance",
          "grounding",
          "anchor",
          "stability"
         ],
         "textposition": "top center",
         "type": "scatter",
         "x": [
          -0.4164711833000183,
          25.662832260131836,
          7.208104610443115,
          10.058409690856934,
          -3.4583799839019775,
          -3.3730688095092773,
          -27.91459846496582,
          26.57903289794922,
          -12.181825637817383,
          0.3422314524650574,
          -6.182077884674072,
          13.026070594787598,
          -10.425086975097656,
          27.928464889526367,
          12.969786643981934,
          -19.23571014404297,
          -7.231141567230225,
          -5.046539306640625,
          8.725114822387695
         ],
         "y": [
          -5.36654806137085,
          24.9914608001709,
          -1.5529142618179321,
          -0.24001345038414001,
          35.60497283935547,
          31.82177734375,
          25.187175750732422,
          2.7993791103363037,
          -15.227736473083496,
          -3.368802547454834,
          21.078598022460938,
          -13.243557929992676,
          14.510611534118652,
          12.526376724243164,
          28.9504451751709,
          30.53108787536621,
          29.798511505126953,
          -39.571720123291016,
          30.316621780395508
         ]
        },
        {
         "fill": "toself",
         "fillcolor": "rgba(0, 0, 128, 0.1)",
         "legendgroup": "EARTH",
         "line": {
          "color": "rgba(0, 0, 128, 1)"
         },
         "name": "EARTH Hull",
         "showlegend": false,
         "type": "scatter",
         "x": [
          -5.046539306640625,
          -27.91459846496582,
          -19.23571014404297,
          -3.4583799839019775,
          25.662832260131836,
          27.928464889526367,
          26.57903289794922,
          -5.046539306640625,
          -5.046539306640625
         ],
         "y": [
          -39.571720123291016,
          25.187175750732422,
          30.53108787536621,
          35.60497283935547,
          24.9914608001709,
          12.526376724243164,
          2.7993791103363037,
          -39.571720123291016,
          -39.571720123291016
         ]
        }
       ],
       "layout": {
        "height": 800,
        "plot_bgcolor": "rgba(0,0,0,0)",
        "template": {
         "data": {
          "bar": [
           {
            "error_x": {
             "color": "#2a3f5f"
            },
            "error_y": {
             "color": "#2a3f5f"
            },
            "marker": {
             "line": {
              "color": "#E5ECF6",
              "width": 0.5
             },
             "pattern": {
              "fillmode": "overlay",
              "size": 10,
              "solidity": 0.2
             }
            },
            "type": "bar"
           }
          ],
          "barpolar": [
           {
            "marker": {
             "line": {
              "color": "#E5ECF6",
              "width": 0.5
             },
             "pattern": {
              "fillmode": "overlay",
              "size": 10,
              "solidity": 0.2
             }
            },
            "type": "barpolar"
           }
          ],
          "carpet": [
           {
            "aaxis": {
             "endlinecolor": "#2a3f5f",
             "gridcolor": "white",
             "linecolor": "white",
             "minorgridcolor": "white",
             "startlinecolor": "#2a3f5f"
            },
            "baxis": {
             "endlinecolor": "#2a3f5f",
             "gridcolor": "white",
             "linecolor": "white",
             "minorgridcolor": "white",
             "startlinecolor": "#2a3f5f"
            },
            "type": "carpet"
           }
          ],
          "choropleth": [
           {
            "colorbar": {
             "outlinewidth": 0,
             "ticks": ""
            },
            "type": "choropleth"
           }
          ],
          "contour": [
           {
            "colorbar": {
             "outlinewidth": 0,
             "ticks": ""
            },
            "colorscale": [
             [
              0,
              "#0d0887"
             ],
             [
              0.1111111111111111,
              "#46039f"
             ],
             [
              0.2222222222222222,
              "#7201a8"
             ],
             [
              0.3333333333333333,
              "#9c179e"
             ],
             [
              0.4444444444444444,
              "#bd3786"
             ],
             [
              0.5555555555555556,
              "#d8576b"
             ],
             [
              0.6666666666666666,
              "#ed7953"
             ],
             [
              0.7777777777777778,
              "#fb9f3a"
             ],
             [
              0.8888888888888888,
              "#fdca26"
             ],
             [
              1,
              "#f0f921"
             ]
            ],
            "type": "contour"
           }
          ],
          "contourcarpet": [
           {
            "colorbar": {
             "outlinewidth": 0,
             "ticks": ""
            },
            "type": "contourcarpet"
           }
          ],
          "heatmap": [
           {
            "colorbar": {
             "outlinewidth": 0,
             "ticks": ""
            },
            "colorscale": [
             [
              0,
              "#0d0887"
             ],
             [
              0.1111111111111111,
              "#46039f"
             ],
             [
              0.2222222222222222,
              "#7201a8"
             ],
             [
              0.3333333333333333,
              "#9c179e"
             ],
             [
              0.4444444444444444,
              "#bd3786"
             ],
             [
              0.5555555555555556,
              "#d8576b"
             ],
             [
              0.6666666666666666,
              "#ed7953"
             ],
             [
              0.7777777777777778,
              "#fb9f3a"
             ],
             [
              0.8888888888888888,
              "#fdca26"
             ],
             [
              1,
              "#f0f921"
             ]
            ],
            "type": "heatmap"
           }
          ],
          "heatmapgl": [
           {
            "colorbar": {
             "outlinewidth": 0,
             "ticks": ""
            },
            "colorscale": [
             [
              0,
              "#0d0887"
             ],
             [
              0.1111111111111111,
              "#46039f"
             ],
             [
              0.2222222222222222,
              "#7201a8"
             ],
             [
              0.3333333333333333,
              "#9c179e"
             ],
             [
              0.4444444444444444,
              "#bd3786"
             ],
             [
              0.5555555555555556,
              "#d8576b"
             ],
             [
              0.6666666666666666,
              "#ed7953"
             ],
             [
              0.7777777777777778,
              "#fb9f3a"
             ],
             [
              0.8888888888888888,
              "#fdca26"
             ],
             [
              1,
              "#f0f921"
             ]
            ],
            "type": "heatmapgl"
           }
          ],
          "histogram": [
           {
            "marker": {
             "pattern": {
              "fillmode": "overlay",
              "size": 10,
              "solidity": 0.2
             }
            },
            "type": "histogram"
           }
          ],
          "histogram2d": [
           {
            "colorbar": {
             "outlinewidth": 0,
             "ticks": ""
            },
            "colorscale": [
             [
              0,
              "#0d0887"
             ],
             [
              0.1111111111111111,
              "#46039f"
             ],
             [
              0.2222222222222222,
              "#7201a8"
             ],
             [
              0.3333333333333333,
              "#9c179e"
             ],
             [
              0.4444444444444444,
              "#bd3786"
             ],
             [
              0.5555555555555556,
              "#d8576b"
             ],
             [
              0.6666666666666666,
              "#ed7953"
             ],
             [
              0.7777777777777778,
              "#fb9f3a"
             ],
             [
              0.8888888888888888,
              "#fdca26"
             ],
             [
              1,
              "#f0f921"
             ]
            ],
            "type": "histogram2d"
           }
          ],
          "histogram2dcontour": [
           {
            "colorbar": {
             "outlinewidth": 0,
             "ticks": ""
            },
            "colorscale": [
             [
              0,
              "#0d0887"
             ],
             [
              0.1111111111111111,
              "#46039f"
             ],
             [
              0.2222222222222222,
              "#7201a8"
             ],
             [
              0.3333333333333333,
              "#9c179e"
             ],
             [
              0.4444444444444444,
              "#bd3786"
             ],
             [
              0.5555555555555556,
              "#d8576b"
             ],
             [
              0.6666666666666666,
              "#ed7953"
             ],
             [
              0.7777777777777778,
              "#fb9f3a"
             ],
             [
              0.8888888888888888,
              "#fdca26"
             ],
             [
              1,
              "#f0f921"
             ]
            ],
            "type": "histogram2dcontour"
           }
          ],
          "mesh3d": [
           {
            "colorbar": {
             "outlinewidth": 0,
             "ticks": ""
            },
            "type": "mesh3d"
           }
          ],
          "parcoords": [
           {
            "line": {
             "colorbar": {
              "outlinewidth": 0,
              "ticks": ""
             }
            },
            "type": "parcoords"
           }
          ],
          "pie": [
           {
            "automargin": true,
            "type": "pie"
           }
          ],
          "scatter": [
           {
            "fillpattern": {
             "fillmode": "overlay",
             "size": 10,
             "solidity": 0.2
            },
            "type": "scatter"
           }
          ],
          "scatter3d": [
           {
            "line": {
             "colorbar": {
              "outlinewidth": 0,
              "ticks": ""
             }
            },
            "marker": {
             "colorbar": {
              "outlinewidth": 0,
              "ticks": ""
             }
            },
            "type": "scatter3d"
           }
          ],
          "scattercarpet": [
           {
            "marker": {
             "colorbar": {
              "outlinewidth": 0,
              "ticks": ""
             }
            },
            "type": "scattercarpet"
           }
          ],
          "scattergeo": [
           {
            "marker": {
             "colorbar": {
              "outlinewidth": 0,
              "ticks": ""
             }
            },
            "type": "scattergeo"
           }
          ],
          "scattergl": [
           {
            "marker": {
             "colorbar": {
              "outlinewidth": 0,
              "ticks": ""
             }
            },
            "type": "scattergl"
           }
          ],
          "scattermapbox": [
           {
            "marker": {
             "colorbar": {
              "outlinewidth": 0,
              "ticks": ""
             }
            },
            "type": "scattermapbox"
           }
          ],
          "scatterpolar": [
           {
            "marker": {
             "colorbar": {
              "outlinewidth": 0,
              "ticks": ""
             }
            },
            "type": "scatterpolar"
           }
          ],
          "scatterpolargl": [
           {
            "marker": {
             "colorbar": {
              "outlinewidth": 0,
              "ticks": ""
             }
            },
            "type": "scatterpolargl"
           }
          ],
          "scatterternary": [
           {
            "marker": {
             "colorbar": {
              "outlinewidth": 0,
              "ticks": ""
             }
            },
            "type": "scatterternary"
           }
          ],
          "surface": [
           {
            "colorbar": {
             "outlinewidth": 0,
             "ticks": ""
            },
            "colorscale": [
             [
              0,
              "#0d0887"
             ],
             [
              0.1111111111111111,
              "#46039f"
             ],
             [
              0.2222222222222222,
              "#7201a8"
             ],
             [
              0.3333333333333333,
              "#9c179e"
             ],
             [
              0.4444444444444444,
              "#bd3786"
             ],
             [
              0.5555555555555556,
              "#d8576b"
             ],
             [
              0.6666666666666666,
              "#ed7953"
             ],
             [
              0.7777777777777778,
              "#fb9f3a"
             ],
             [
              0.8888888888888888,
              "#fdca26"
             ],
             [
              1,
              "#f0f921"
             ]
            ],
            "type": "surface"
           }
          ],
          "table": [
           {
            "cells": {
             "fill": {
              "color": "#EBF0F8"
             },
             "line": {
              "color": "white"
             }
            },
            "header": {
             "fill": {
              "color": "#C8D4E3"
             },
             "line": {
              "color": "white"
             }
            },
            "type": "table"
           }
          ]
         },
         "layout": {
          "annotationdefaults": {
           "arrowcolor": "#2a3f5f",
           "arrowhead": 0,
           "arrowwidth": 1
          },
          "autotypenumbers": "strict",
          "coloraxis": {
           "colorbar": {
            "outlinewidth": 0,
            "ticks": ""
           }
          },
          "colorscale": {
           "diverging": [
            [
             0,
             "#8e0152"
            ],
            [
             0.1,
             "#c51b7d"
            ],
            [
             0.2,
             "#de77ae"
            ],
            [
             0.3,
             "#f1b6da"
            ],
            [
             0.4,
             "#fde0ef"
            ],
            [
             0.5,
             "#f7f7f7"
            ],
            [
             0.6,
             "#e6f5d0"
            ],
            [
             0.7,
             "#b8e186"
            ],
            [
             0.8,
             "#7fbc41"
            ],
            [
             0.9,
             "#4d9221"
            ],
            [
             1,
             "#276419"
            ]
           ],
           "sequential": [
            [
             0,
             "#0d0887"
            ],
            [
             0.1111111111111111,
             "#46039f"
            ],
            [
             0.2222222222222222,
             "#7201a8"
            ],
            [
             0.3333333333333333,
             "#9c179e"
            ],
            [
             0.4444444444444444,
             "#bd3786"
            ],
            [
             0.5555555555555556,
             "#d8576b"
            ],
            [
             0.6666666666666666,
             "#ed7953"
            ],
            [
             0.7777777777777778,
             "#fb9f3a"
            ],
            [
             0.8888888888888888,
             "#fdca26"
            ],
            [
             1,
             "#f0f921"
            ]
           ],
           "sequentialminus": [
            [
             0,
             "#0d0887"
            ],
            [
             0.1111111111111111,
             "#46039f"
            ],
            [
             0.2222222222222222,
             "#7201a8"
            ],
            [
             0.3333333333333333,
             "#9c179e"
            ],
            [
             0.4444444444444444,
             "#bd3786"
            ],
            [
             0.5555555555555556,
             "#d8576b"
            ],
            [
             0.6666666666666666,
             "#ed7953"
            ],
            [
             0.7777777777777778,
             "#fb9f3a"
            ],
            [
             0.8888888888888888,
             "#fdca26"
            ],
            [
             1,
             "#f0f921"
            ]
           ]
          },
          "colorway": [
           "#636efa",
           "#EF553B",
           "#00cc96",
           "#ab63fa",
           "#FFA15A",
           "#19d3f3",
           "#FF6692",
           "#B6E880",
           "#FF97FF",
           "#FECB52"
          ],
          "font": {
           "color": "#2a3f5f"
          },
          "geo": {
           "bgcolor": "white",
           "lakecolor": "white",
           "landcolor": "#E5ECF6",
           "showlakes": true,
           "showland": true,
           "subunitcolor": "white"
          },
          "hoverlabel": {
           "align": "left"
          },
          "hovermode": "closest",
          "mapbox": {
           "style": "light"
          },
          "paper_bgcolor": "white",
          "plot_bgcolor": "#E5ECF6",
          "polar": {
           "angularaxis": {
            "gridcolor": "white",
            "linecolor": "white",
            "ticks": ""
           },
           "bgcolor": "#E5ECF6",
           "radialaxis": {
            "gridcolor": "white",
            "linecolor": "white",
            "ticks": ""
           }
          },
          "scene": {
           "xaxis": {
            "backgroundcolor": "#E5ECF6",
            "gridcolor": "white",
            "gridwidth": 2,
            "linecolor": "white",
            "showbackground": true,
            "ticks": "",
            "zerolinecolor": "white"
           },
           "yaxis": {
            "backgroundcolor": "#E5ECF6",
            "gridcolor": "white",
            "gridwidth": 2,
            "linecolor": "white",
            "showbackground": true,
            "ticks": "",
            "zerolinecolor": "white"
           },
           "zaxis": {
            "backgroundcolor": "#E5ECF6",
            "gridcolor": "white",
            "gridwidth": 2,
            "linecolor": "white",
            "showbackground": true,
            "ticks": "",
            "zerolinecolor": "white"
           }
          },
          "shapedefaults": {
           "line": {
            "color": "#2a3f5f"
           }
          },
          "ternary": {
           "aaxis": {
            "gridcolor": "white",
            "linecolor": "white",
            "ticks": ""
           },
           "baxis": {
            "gridcolor": "white",
            "linecolor": "white",
            "ticks": ""
           },
           "bgcolor": "#E5ECF6",
           "caxis": {
            "gridcolor": "white",
            "linecolor": "white",
            "ticks": ""
           }
          },
          "title": {
           "x": 0.05
          },
          "xaxis": {
           "automargin": true,
           "gridcolor": "white",
           "linecolor": "white",
           "ticks": "",
           "title": {
            "standoff": 15
           },
           "zerolinecolor": "white",
           "zerolinewidth": 2
          },
          "yaxis": {
           "automargin": true,
           "gridcolor": "white",
           "linecolor": "white",
           "ticks": "",
           "title": {
            "standoff": 15
           },
           "zerolinecolor": "white",
           "zerolinewidth": 2
          }
         }
        },
        "title": {
         "text": "Semantic Map with Convex Hulls"
        },
        "width": 900,
        "xaxis": {
         "showgrid": false,
         "title": {
          "text": "Dimension 1"
         }
        },
        "yaxis": {
         "showgrid": false,
         "title": {
          "text": "Dimension 2"
         }
        }
       }
      }
     },
     "metadata": {},
     "output_type": "display_data"
    },
    {
     "name": "stderr",
     "output_type": "stream",
     "text": [
      "c:\\Users\\User\\anaconda3\\envs\\goofi-pipe\\lib\\site-packages\\seaborn\\matrix.py:260: FutureWarning:\n",
      "\n",
      "Format strings passed to MaskedConstant are ignored, but in future may error or produce different behavior\n",
      "\n"
     ]
    },
    {
     "data": {
      "image/png": "[encoded data removed]",
      "text/plain": [
       "<Figure size 1000x800 with 2 Axes>"
      ]
     },
     "metadata": {},
     "output_type": "display_data"
    },
    {
     "data": {
      "image/png": "[encoded data removed]",
      "text/plain": [
       "<Figure size 1000x500 with 1 Axes>"
      ]
     },
     "metadata": {},
     "output_type": "display_data"
    }
   ],
   "source": [
    "import numpy as np\n",
    "import plotly.graph_objects as go\n",
    "from sklearn.manifold import TSNE\n",
    "from shapely.geometry import MultiPoint\n",
    "from scipy.spatial import ConvexHull\n",
    "from transformers import CLIPTokenizer, CLIPModel\n",
    "import torch\n",
    "from sklearn.decomposition import PCA\n",
    "from umap import UMAP\n",
    "import seaborn as sns\n",
    "\n",
    "\n",
    "def map_words_to_semantic_space_dynamic(word_dict, scaling_factor=2000, dim_red=\"tsne\", perplexity=6):\n",
    "    # Load CLIP model and tokenizer\n",
    "    model_name = \"openai/clip-vit-base-patch32\"\n",
    "    tokenizer = CLIPTokenizer.from_pretrained(model_name)\n",
    "    model = CLIPModel.from_pretrained(model_name)\n",
    "\n",
    "    # Combine all words across archetypes\n",
    "    all_words = []\n",
    "    labels = []\n",
    "    for archetype, words in word_dict.items():\n",
    "        all_words.extend(words)\n",
    "        labels.extend([archetype] * len(words))\n",
    "\n",
    "    # Calculate embeddings for all words\n",
    "    word_vectors = []\n",
    "    for word in all_words:\n",
    "        tokenized = tokenizer(word, return_tensors=\"pt\", padding=True, truncation=True)\n",
    "        with torch.no_grad():\n",
    "            embedding = model.get_text_features(**tokenized)\n",
    "        word_vectors.append(embedding.squeeze(0).numpy())\n",
    "\n",
    "    word_vectors = np.array(word_vectors)\n",
    "\n",
    "    # Dimensionality reduction\n",
    "    # Dimensionality reduction\n",
    "    if dim_red == \"tsne\":\n",
    "        dim_red_model = TSNE(n_components=2, perplexity=perplexity, random_state=42)\n",
    "        word_vectors_2d = dim_red_model.fit_transform(word_vectors)\n",
    "    elif dim_red == \"pca\":\n",
    "        dim_red_model = PCA(n_components=2)\n",
    "        word_vectors_2d = dim_red_model.fit_transform(word_vectors)\n",
    "    elif dim_red == \"umap\":\n",
    "        dim_red_model = UMAP(n_components=2, random_state=42)\n",
    "        word_vectors_2d = dim_red_model.fit_transform(word_vectors)\n",
    "    else:\n",
    "        raise ValueError(f\"Invalid value for dim_red: {dim_red}. Supported values: 'tsne', 'pca', 'umap'.\")\n",
    "\n",
    "    return word_vectors_2d, labels, all_words, word_vectors\n",
    "\n",
    "\n",
    "def create_dynamic_plot(word_vectors_2d, labels, all_words):\n",
    "    # Create a Plotly figure\n",
    "    fig = go.Figure()\n",
    "\n",
    "    unique_archetypes = list(set(labels))\n",
    "    base_colors = [\n",
    "        'rgba(255, 0, 0, 1)',    # Red\n",
    "        'rgba(0, 0, 255, 1)',    # Blue\n",
    "        'rgba(0, 255, 0, 1)',    # Green\n",
    "        'rgba(128, 0, 128, 1)',  # Purple\n",
    "        'rgba(0, 255, 255, 1)',  # Cyan\n",
    "        'rgba(255, 255, 0, 1)',  # Yellow\n",
    "        'rgba(0, 0, 0, 1)',      # Black\n",
    "        'rgba(255, 0, 255, 1)',  # Magenta\n",
    "        'rgba(128, 128, 0, 1)',  # Olive\n",
    "        'rgba(0, 0, 128, 1)',    # Navy\n",
    "        'rgba(0, 128, 128, 1)',  # Teal\n",
    "        'rgba(0, 128, 0, 1)',    # Lime\n",
    "    ]\n",
    "\n",
    "    archetype_hulls = {}\n",
    "    areas = {}\n",
    "    for i, archetype in enumerate(unique_archetypes):\n",
    "        # Get points for the current archetype\n",
    "        archetype_indices = [j for j, label in enumerate(labels) if label == archetype]\n",
    "        x = word_vectors_2d[archetype_indices, 0]\n",
    "        y = word_vectors_2d[archetype_indices, 1]\n",
    "\n",
    "        # Calculate convex hull and area\n",
    "        archetype_points = MultiPoint([(x[j], y[j]) for j in range(len(x))])\n",
    "        hull = archetype_points.convex_hull\n",
    "        area = hull.area\n",
    "        archetype_hulls[archetype] = hull\n",
    "        areas[archetype] = area\n",
    "        print(f\"{archetype} area: {area:.2f}\")\n",
    "\n",
    "        # Add scatter plot for archetype points\n",
    "        fig.add_trace(go.Scatter(\n",
    "            x=x, y=y,\n",
    "            mode='markers+text',\n",
    "            marker=dict(size=10, color=base_colors[i % len(base_colors)], opacity=0.7),\n",
    "            text=np.array(all_words)[archetype_indices],\n",
    "            textposition=\"top center\",\n",
    "            name=f\"{archetype} Points\",\n",
    "            legendgroup=archetype,  # Group the points and hull together\n",
    "            showlegend=True         # Show legend only for the points\n",
    "        ))\n",
    "\n",
    "        # Add convex hull for archetype\n",
    "        if len(x) > 2:  # Only plot hull if it exists\n",
    "            hull_coords = np.array(hull.exterior.coords)\n",
    "            fig.add_trace(go.Scatter(\n",
    "                x=hull_coords[:, 0].tolist() + [hull_coords[0, 0]],\n",
    "                y=hull_coords[:, 1].tolist() + [hull_coords[0, 1]],\n",
    "                fill='toself',\n",
    "                fillcolor=base_colors[i % len(base_colors)].replace('1)', '0.1)'),\n",
    "                line=dict(color=base_colors[i % len(base_colors)]),\n",
    "                name=f\"{archetype} Hull\",\n",
    "                legendgroup=archetype,  # Group the hull with the points\n",
    "                showlegend=False        # Do not show a separate legend for the hull\n",
    "            ))\n",
    "\n",
    "    # Update plot layout\n",
    "    fig.update_layout(\n",
    "        title=\"Semantic Map with Convex Hulls\",\n",
    "        xaxis_title=\"Dimension 1\",\n",
    "        yaxis_title=\"Dimension 2\",\n",
    "        width=900,\n",
    "        height=800\n",
    "    )\n",
    "    # Remove gridlines\n",
    "    fig.update_xaxes(showgrid=False)\n",
    "    fig.update_yaxes(showgrid=False)\n",
    "    # Remove background color\n",
    "    fig.update_layout(plot_bgcolor='rgba(0,0,0,0)')\n",
    "    fig.write_html(\"dynamic_semantic_map.html\")\n",
    "    fig.show()\n",
    "\n",
    "    return archetype_hulls, areas\n",
    "\n",
    "\n",
    "lakota_symbols = {\n",
    "    \"BAG\": [\n",
    "        \"bag\", \"movement\", \"storage\", \"transport\", \"physical medicine\",\n",
    "        \"spiritual medicine\", \"peace pipe\", \"healing\", \"necessity\", \"holding\",\n",
    "        \"physical travel\", \"container\", \"physical protection\", \"carrying\", \"journey\", \"food\"\n",
    "    ],\n",
    "    \"CLOUDS\": [\n",
    "        \"clouds\", \"rain\", \"spiritual connection\", \"vision\", \"spiritual knowledge\",\n",
    "        \"spirit world\", \"portal\", \"transcendence\", \"wisdom\", \"openness of the plane\", \"vastness\"\n",
    "    ],\n",
    "    \"DRAGONFLY\": [\n",
    "        \"dragonfly\", \"resilience\", \"ancient connection\", \"ancestral\", \"confirmation\",\n",
    "        \"message\", \"spiritual travel\", \"flight\", \"astral travel\", \"lightly\", \"blessing\",\n",
    "        \"patience\", \"survival\"\n",
    "    ],\n",
    "    \"EARTH\": [\n",
    "        \"earth\", \"people\", \"animals\", \"living beings\", \"plants\", \"roots\", \"mother\",\n",
    "        \"geography\", \"mountain\", \"earthly\", \"mundane\", \"physical world\", \"harmony\",\n",
    "        \"life\", \"sustainability\", \"balance\", \"grounding\", \"anchor\", \"stability\"\n",
    "    ],\n",
    "    \"FEATHER\": [\n",
    "        \"feather\", \"achievement\", \"honor\", \"bravery\", \"merit\", \"counting coup\",\n",
    "        \"courage\", \"knowledge\", \"eagle\", \"bird\", \"ceremony\", \"humbleness\", \"nobility\",\n",
    "        \"virtue\", \"valor\", \"strength\"\n",
    "    ],\n",
    "    \"HORSE TRACK\": [\n",
    "        \"horse track\", \"wealth\", \"travelling\", \"movement\", \"path\", \"motion\",\n",
    "        \"riding\", \"hunting\", \"abundance\", \"dowry\", \"generosity\", \"west\", \"mobility\"\n",
    "    ],\n",
    "    \"HOUSE\": [\n",
    "        \"house\", \"nurturing\", \"protection\", \"security\", \"home\", \"community\",\n",
    "        \"matriarchy\", \"camp\", \"family\", \"care\", \"council\", \"grandmother\", \"safety\"\n",
    "    ],\n",
    "    \"LIGHTNING\": [\n",
    "        \"lightning\", \"power\", \"thunderbird\", \"sacred clown\", \"spirituality\", \"storm\",\n",
    "        \"spiritual connection\", \"electricity\", \"west\", \"fear\", \"grandfather\", \"danger\",\n",
    "        \"goes out of the eyes of the thunderbird\"\n",
    "    ],\n",
    "    \"STAR\": [\n",
    "        \"star\", \"medicine wheel\", \"four directions\", \"north\", \"ancestral connection\",\n",
    "        \"stardust in our bones\", \"elemental\", \"extraterrestrial\", \"star people\", \"soul\",\n",
    "        \"source\", \"light\", \"outer space\", \"balance\"\n",
    "    ],\n",
    "    \"THUNDER\": [\n",
    "        \"thunder\", \"storm\", \"sound\", \"cry\", \"rain\", \"alert\", \"spirits arrival\",\n",
    "        \"humility\", \"reminder of humanness\", \"fragility\", \"vulnerability\", \"out of the mouth of the thunderbird\"\n",
    "    ]\n",
    "}\n",
    "\n",
    "\n",
    "# Map words to semantic space\n",
    "word_vectors_2d, labels, all_words, word_vectors = map_words_to_semantic_space_dynamic(lakota_symbols, dim_red=\"tsne\", perplexity=15)\n",
    "\n",
    "# Create dynamic plot\n",
    "hulls, areas = create_dynamic_plot(word_vectors_2d, labels, all_words)\n",
    "plot_archetype_heatmap(hulls)\n",
    "\n",
    "# plot areas as bar chart\n",
    "areas_ordered = {k: v for k, v in sorted(areas.items(), key=lambda item: item[1])}\n",
    "import matplotlib.pyplot as plt\n",
    "plt.figure(figsize=(10, 5))\n",
    "plt.bar(areas_ordered.keys(), areas_ordered.values())\n",
    "plt.ylabel(\"Area of Convex Hull\")\n",
    "plt.title(\"Area of Convex Hull for Each Symbol\")\n",
    "plt.tight_layout()\n",
    "plt.show()\n",
    "\n"
   ]
  },
  {
   "cell_type": "markdown",
   "metadata": {},
   "source": [
    "### Average Cosine Similarity for each Symbol"
   ]
  },
  {
   "cell_type": "code",
   "execution_count": 57,
   "metadata": {},
   "outputs": [
    {
     "data": {
      "image/png": "[encoded data removed]",
      "text/plain": [
       "<Figure size 1000x500 with 1 Axes>"
      ]
     },
     "metadata": {},
     "output_type": "display_data"
    }
   ],
   "source": [
    "from sklearn.metrics.pairwise import cosine_similarity\n",
    "import numpy as np\n",
    "\n",
    "def compute_avg_cosine_similarity(word_vectors, labels):\n",
    "    \"\"\"\n",
    "    Compute the average cosine similarity between all word vectors for the same label.\n",
    "    \n",
    "    Args:\n",
    "        word_vectors (ndarray): 2D array of word embeddings.\n",
    "        labels (list): List of labels corresponding to each word embedding.\n",
    "    \n",
    "    Returns:\n",
    "        dict: Dictionary with symbols as keys and average cosine similarity as values.\n",
    "    \"\"\"\n",
    "    \n",
    "    unique_labels = set(labels)\n",
    "    avg_cosine_similarities = {}\n",
    "    \n",
    "    for label in unique_labels:\n",
    "        # Get indices of vectors with the current label\n",
    "        indices = [i for i, lbl in enumerate(labels) if lbl == label]\n",
    "        vectors = word_vectors[indices]\n",
    "        \n",
    "        # Compute pairwise cosine similarities\n",
    "        if len(vectors) > 1:\n",
    "            cosine_sims = cosine_similarity(vectors)\n",
    "            #print(cosine_sims)\n",
    "            # Exclude diagonal elements (self-similarity)\n",
    "            upper_tri_indices = np.triu_indices_from(cosine_sims, k=1)\n",
    "            avg_cosine_sim = cosine_sims[upper_tri_indices].mean()\n",
    "        else:\n",
    "            avg_cosine_sim = 1.0  # Self-similarity for a single vector\n",
    "        \n",
    "        avg_cosine_similarities[label] = avg_cosine_sim\n",
    "    \n",
    "    return avg_cosine_similarities\n",
    "\n",
    "avg_cos_sim = compute_avg_cosine_similarity(word_vectors, labels)\n",
    "avg_cos_sim\n",
    "\n",
    "# bar plot of average cosine similarity\n",
    "import matplotlib.pyplot as plt\n",
    "avg_cos_sim_ordered = {k: v for k, v in sorted(avg_cos_sim.items(), key=lambda item: item[1])}\n",
    "plt.figure(figsize=(10, 5))\n",
    "plt.bar(avg_cos_sim_ordered.keys(), avg_cos_sim_ordered.values())\n",
    "plt.ylabel(\"Average Cosine Similarity\")\n",
    "plt.title(\"Average Cosine Similarity for Each Symbol\")\n",
    "plt.ylim(0.75, 0.9)\n",
    "plt.tight_layout()\n",
    "plt.show()\n"
   ]
  },
  {
   "cell_type": "markdown",
   "metadata": {},
   "source": [
    "## Embedding generation of symbols descriptions"
   ]
  },
  {
   "cell_type": "code",
   "execution_count": 14,
   "metadata": {},
   "outputs": [
    {
     "name": "stdout",
     "output_type": "stream",
     "text": [
      "Mean embeddings saved to ../output/embeddings/mean_embeddings\\openai_clip_vit_base_patch32_mean_embeddings.csv\n",
      "Max embeddings saved to ../output/embeddings/max_embeddings\\openai_clip_vit_base_patch32_max_embeddings.csv\n",
      "Mean embeddings saved to ../output/embeddings/mean_embeddings\\openai_clip_vit_large_patch14_mean_embeddings.csv\n",
      "Max embeddings saved to ../output/embeddings/max_embeddings\\openai_clip_vit_large_patch14_max_embeddings.csv\n",
      "Mean embeddings saved to ../output/embeddings/mean_embeddings\\laion_CLIP_ViT_H_14_laion2B_s32B_b79K_mean_embeddings.csv\n",
      "Max embeddings saved to ../output/embeddings/max_embeddings\\laion_CLIP_ViT_H_14_laion2B_s32B_b79K_max_embeddings.csv\n",
      "Mean embeddings saved to ../output/embeddings/mean_embeddings\\all_MiniLM_L6_v2_mean_embeddings.csv\n",
      "Max embeddings saved to ../output/embeddings/max_embeddings\\all_MiniLM_L6_v2_max_embeddings.csv\n"
     ]
    }
   ],
   "source": [
    "import numpy as np\n",
    "import pandas as pd\n",
    "from transformers import CLIPTokenizer, CLIPModel\n",
    "from sentence_transformers import SentenceTransformer\n",
    "import torch\n",
    "import os\n",
    "\n",
    "def compute_symbol_embeddings_separate(word_dict, labels, model_name, \n",
    "                                       output_mean_dir=\"mean_embeddings\", \n",
    "                                       output_max_dir=\"max_embeddings\"):\n",
    "    \"\"\"\n",
    "    Compute one embedding per symbol using mean pooling and max pooling.\n",
    "    Saves the embeddings as two separate CSV files for each model.\n",
    "    \"\"\"\n",
    "    # Determine the type of model\n",
    "    if \"clip\" in model_name.lower():\n",
    "        # Load CLIP model and tokenizer\n",
    "        tokenizer = CLIPTokenizer.from_pretrained(model_name)\n",
    "        model = CLIPModel.from_pretrained(model_name)\n",
    "        use_clip = True\n",
    "    else:\n",
    "        # Load SentenceTransformer model\n",
    "        model = SentenceTransformer(model_name)\n",
    "        use_clip = False\n",
    "    \n",
    "    # Lists to store embeddings\n",
    "    mean_embeddings = []\n",
    "    max_embeddings = []\n",
    "    symbol_names = []\n",
    "    \n",
    "    # Compute embeddings for each symbol\n",
    "    for symbol, words in word_dict.items():\n",
    "        word_vectors = []\n",
    "        for word in words:\n",
    "            if use_clip:\n",
    "                # Tokenize and compute embedding using CLIP\n",
    "                tokenized = tokenizer(word, return_tensors=\"pt\", padding=True, truncation=True)\n",
    "                with torch.no_grad():\n",
    "                    embedding = model.get_text_features(**tokenized)\n",
    "                word_vectors.append(embedding.squeeze(0).numpy())\n",
    "            else:\n",
    "                # Compute embedding using SentenceTransformer\n",
    "                embedding = model.encode(word)\n",
    "                word_vectors.append(embedding)\n",
    "            \n",
    "        word_vectors = np.array(word_vectors)  # Convert to numpy array\n",
    "        mean_vector = word_vectors.mean(axis=0)  # Mean pooling\n",
    "        max_vector = word_vectors.max(axis=0)   # Max pooling\n",
    "        \n",
    "        # Append to lists\n",
    "        mean_embeddings.append(mean_vector)\n",
    "        max_embeddings.append(max_vector)\n",
    "        symbol_names.append(symbol)\n",
    "    \n",
    "    # Convert to 2D NumPy arrays\n",
    "    mean_embeddings = np.array(mean_embeddings)  # Shape: (symbols, dimensions)\n",
    "    max_embeddings = np.array(max_embeddings)\n",
    "    \n",
    "    # Ensure output directories exist\n",
    "    folderpath_ = \"../output/embeddings/\"\n",
    "    folderpath_mean = os.path.join(folderpath_, output_mean_dir)\n",
    "    folderpath_max = os.path.join(folderpath_, output_max_dir)\n",
    "    os.makedirs(folderpath_mean, exist_ok=True)\n",
    "    os.makedirs(folderpath_max, exist_ok=True)\n",
    "    \n",
    "    # Construct output filenames\n",
    "    sanitized_model_name = model_name.replace('/', '_').replace('-', '_')\n",
    "    mean_csv_filename = os.path.join(folderpath_mean, f\"{sanitized_model_name}_mean_embeddings.csv\")\n",
    "    max_csv_filename = os.path.join(folderpath_max, f\"{sanitized_model_name}_max_embeddings.csv\")\n",
    "    \n",
    "    # Save as CSV with symbol names as the index\n",
    "    mean_df = pd.DataFrame(mean_embeddings, index=labels)\n",
    "    max_df = pd.DataFrame(max_embeddings, index=labels)\n",
    "\n",
    "    # Ensure headers are meaningful (you can modify based on your dimensions)\n",
    "    headers = [f\"dim_{i}\" for i in range(mean_embeddings.shape[1])]\n",
    "\n",
    "    mean_df.columns = headers\n",
    "    max_df.columns = headers\n",
    "\n",
    "    # Save DataFrames with index\n",
    "    mean_df.to_csv(mean_csv_filename, index=True, header=True, float_format=\"%.8f\")\n",
    "    max_df.to_csv(max_csv_filename, index=True, header=True, float_format=\"%.8f\")\n",
    "    \n",
    "    print(f\"Mean embeddings saved to {mean_csv_filename}\")\n",
    "    print(f\"Max embeddings saved to {max_csv_filename}\")\n",
    "\n",
    "# List of models\n",
    "model_choices = [\n",
    "    \"openai/clip-vit-base-patch32\",\n",
    "    \"openai/clip-vit-large-patch14\",\n",
    "    \"laion/CLIP-ViT-H-14-laion2B-s32B-b79K\",\n",
    "    \"all-MiniLM-L6-v2\"\n",
    "]\n",
    "\n",
    "# Output directories\n",
    "output_mean_dir = \"mean_embeddings\"\n",
    "output_max_dir = \"max_embeddings\"\n",
    "\n",
    "symbol_labels = [\n",
    "    \"BAG\", \"CLOUDS\", \"DRAGONFLY\", \"EARTH\", \"FEATHER\", \n",
    "    \"HORSE TRACK\", \"HOUSE\", \"LIGHTNING\", \"STAR\", \"THUNDER\"\n",
    "]\n",
    "\n",
    "# Loop over models\n",
    "for model_name in model_choices:\n",
    "    compute_symbol_embeddings_separate(\n",
    "        lakota_symbols,\n",
    "        symbol_labels,\n",
    "        model_name=model_name,\n",
    "        output_mean_dir=output_mean_dir,\n",
    "        output_max_dir=output_max_dir\n",
    "    )\n"
   ]
  },
  {
   "cell_type": "markdown",
   "metadata": {},
   "source": [
    "## Embedding of list of nouns"
   ]
  },
  {
   "cell_type": "code",
   "execution_count": 17,
   "metadata": {},
   "outputs": [
    {
     "name": "stdout",
     "output_type": "stream",
     "text": [
      "Embeddings saved to embeddings\\openai_clip_vit_base_patch32_embeddings.csv\n",
      "Embeddings saved to embeddings\\openai_clip_vit_large_patch14_embeddings.csv\n",
      "Embeddings saved to embeddings\\laion_CLIP_ViT_H_14_laion2B_s32B_b79K_embeddings.csv\n",
      "Embeddings saved to embeddings\\all_MiniLM_L6_v2_embeddings.csv\n"
     ]
    }
   ],
   "source": [
    "import numpy as np\n",
    "import pandas as pd\n",
    "from transformers import CLIPTokenizer, CLIPModel\n",
    "from sentence_transformers import SentenceTransformer\n",
    "import torch\n",
    "import os\n",
    "\n",
    "def compute_word_embeddings(word_list, model_name, output_dir=\"embeddings\"):\n",
    "    \"\"\"\n",
    "    Compute embeddings for a list of words and save to a CSV file with the first column being the labels.\n",
    "    \"\"\"\n",
    "    # Determine the type of model\n",
    "    if \"clip\" in model_name.lower():\n",
    "        # Load CLIP model and tokenizer\n",
    "        tokenizer = CLIPTokenizer.from_pretrained(model_name)\n",
    "        model = CLIPModel.from_pretrained(model_name)\n",
    "        use_clip = True\n",
    "    else:\n",
    "        # Load SentenceTransformer model\n",
    "        model = SentenceTransformer(model_name)\n",
    "        use_clip = False\n",
    "    \n",
    "    # Compute embeddings for each word\n",
    "    embeddings = []\n",
    "    for word in word_list:\n",
    "        if use_clip:\n",
    "            # Tokenize and compute embedding using CLIP\n",
    "            tokenized = tokenizer(word, return_tensors=\"pt\", padding=True, truncation=True)\n",
    "            with torch.no_grad():\n",
    "                embedding = model.get_text_features(**tokenized)\n",
    "            embeddings.append(embedding.squeeze(0).numpy())\n",
    "        else:\n",
    "            # Compute embedding using SentenceTransformer\n",
    "            embedding = model.encode(word)\n",
    "            embeddings.append(embedding)\n",
    "    \n",
    "    # Convert to 2D NumPy array\n",
    "    embeddings = np.array(embeddings)  # Shape: (words, dimensions)\n",
    "    \n",
    "    # Ensure output directory exists\n",
    "    os.makedirs(output_dir, exist_ok=True)\n",
    "    \n",
    "    # Construct output filename\n",
    "    sanitized_model_name = model_name.replace('/', '_').replace('-', '_')\n",
    "    output_csv_filename = os.path.join(output_dir, f\"{sanitized_model_name}_embeddings.csv\")\n",
    "    \n",
    "    # Prepare the DataFrame\n",
    "    headers = [f\"dim_{i}\" for i in range(embeddings.shape[1])]\n",
    "    df = pd.DataFrame(embeddings, columns=headers)\n",
    "    df.insert(0, \"Label\", word_list)  # Add the labels as the first column\n",
    "    \n",
    "    # Save DataFrame to CSV\n",
    "    df.to_csv(output_csv_filename, index=False, header=True, float_format=\"%.8f\")\n",
    "    \n",
    "    print(f\"Embeddings saved to {output_csv_filename}\")\n",
    "\n",
    "# Load the list of words from your CSV file\n",
    "input_csv_path = \"../output/word_list.csv\"\n",
    "words_df = pd.read_csv(input_csv_path)\n",
    "word_list = words_df[\"Nouns\"].tolist()  # Assuming the column name is 'Nouns'\n",
    "\n",
    "# List of models to compute embeddings\n",
    "model_choices = [\n",
    "    \"openai/clip-vit-base-patch32\",\n",
    "    \"openai/clip-vit-large-patch14\",\n",
    "    \"laion/CLIP-ViT-H-14-laion2B-s32B-b79K\",\n",
    "    \"all-MiniLM-L6-v2\"\n",
    "]\n",
    "\n",
    "# Output directory for embeddings\n",
    "output_dir = \"embeddings\"\n",
    "\n",
    "# Loop over models and compute embeddings\n",
    "for model_name in model_choices:\n",
    "    compute_word_embeddings(word_list, model_name, output_dir=output_dir)\n"
   ]
  },
  {
   "cell_type": "markdown",
   "metadata": {},
   "source": [
    "## Visualisations"
   ]
  },
  {
   "cell_type": "code",
   "execution_count": 3,
   "metadata": {},
   "outputs": [
    {
     "data": {
      "image/png": "[encoded data removed]",
      "text/plain": [
       "<Figure size 1000x800 with 1 Axes>"
      ]
     },
     "metadata": {},
     "output_type": "display_data"
    },
    {
     "data": {
      "image/png": "[encoded data removed]",
      "text/plain": [
       "<Figure size 1000x800 with 1 Axes>"
      ]
     },
     "metadata": {},
     "output_type": "display_data"
    },
    {
     "data": {
      "image/png": "[encoded data removed]",
      "text/plain": [
       "<Figure size 1000x800 with 1 Axes>"
      ]
     },
     "metadata": {},
     "output_type": "display_data"
    },
    {
     "data": {
      "image/png": "[encoded data removed]",
      "text/plain": [
       "<Figure size 1000x800 with 1 Axes>"
      ]
     },
     "metadata": {},
     "output_type": "display_data"
    },
    {
     "data": {
      "image/png": "[encoded data removed]",
      "text/plain": [
       "<Figure size 1000x800 with 1 Axes>"
      ]
     },
     "metadata": {},
     "output_type": "display_data"
    },
    {
     "data": {
      "image/png": "[encoded data removed]",
      "text/plain": [
       "<Figure size 1000x800 with 1 Axes>"
      ]
     },
     "metadata": {},
     "output_type": "display_data"
    },
    {
     "data": {
      "image/png": "[encoded data removed]",
      "text/plain": [
       "<Figure size 1000x800 with 1 Axes>"
      ]
     },
     "metadata": {},
     "output_type": "display_data"
    },
    {
     "data": {
      "image/png": "[encoded data removed]",
      "text/plain": [
       "<Figure size 1000x800 with 1 Axes>"
      ]
     },
     "metadata": {},
     "output_type": "display_data"
    }
   ],
   "source": [
    "import numpy as np\n",
    "import pandas as pd\n",
    "import matplotlib.pyplot as plt\n",
    "from sklearn.manifold import TSNE\n",
    "import os\n",
    "\n",
    "# Labels for the symbols in order\n",
    "symbol_labels = [\n",
    "    \"BAG\", \"CLOUDS\", \"DRAGONFLY\", \"EARTH\", \"FEATHER\", \n",
    "    \"HORSE TRACK\", \"HOUSE\", \"LIGHTNING\", \"STAR\", \"THUNDER\"\n",
    "]\n",
    "\n",
    "def plot_tsne(embeddings, labels, title, output_path, perplexity=30, n_iter=1000):\n",
    "    \"\"\"\n",
    "    Perform t-SNE and plot the 2D results.\n",
    "    \n",
    "    Args:\n",
    "        embeddings (ndarray): Embedding vectors.\n",
    "        labels (list): Labels for the embeddings.\n",
    "        title (str): Title of the plot.\n",
    "        output_path (str): Path to save the plot.\n",
    "        perplexity (int): t-SNE perplexity parameter.\n",
    "        n_iter (int): Number of iterations for t-SNE optimization.\n",
    "    \"\"\"\n",
    "    # Perform t-SNE\n",
    "    tsne = TSNE(n_components=2, perplexity=perplexity, n_iter=n_iter, random_state=42)\n",
    "    tsne_results = tsne.fit_transform(embeddings)\n",
    "    \n",
    "    # Plot the t-SNE results\n",
    "    plt.figure(figsize=(10, 8))\n",
    "    for i, label in enumerate(labels):\n",
    "        plt.scatter(tsne_results[i, 0], tsne_results[i, 1], label=label, alpha=0.8, s=100)\n",
    "        plt.text(tsne_results[i, 0], tsne_results[i, 1], label, fontsize=9)\n",
    "    \n",
    "    plt.title(title)\n",
    "    plt.xlabel(\"t-SNE Dimension 1\")\n",
    "    plt.ylabel(\"t-SNE Dimension 2\")\n",
    "    plt.grid(alpha=0.3)\n",
    "    plt.savefig(output_path)\n",
    "    plt.show()\n",
    "\n",
    "\n",
    "def load_and_plot_tsne_separate(mean_dir, max_dir, model_names, perplexity=30, n_iter=1000):\n",
    "    \"\"\"\n",
    "    Load mean and max embedding files and create separate t-SNE plots for each.\n",
    "    \n",
    "    Args:\n",
    "        mean_dir (str): Directory containing mean embedding CSV files.\n",
    "        max_dir (str): Directory containing max embedding CSV files.\n",
    "        model_names (list): List of model names used for embeddings.\n",
    "        perplexity (int): t-SNE perplexity parameter.\n",
    "        n_iter (int): Number of iterations for t-SNE optimization.\n",
    "    \"\"\"\n",
    "    for model_name in model_names:\n",
    "        # Load mean and max embeddings\n",
    "        sanitized_model_name = model_name.replace('/', '_').replace('-', '_')\n",
    "        mean_csv = os.path.join(mean_dir, f\"{sanitized_model_name}_mean_embeddings.csv\")\n",
    "        max_csv = os.path.join(max_dir, f\"{sanitized_model_name}_max_embeddings.csv\")\n",
    "        \n",
    "        if not os.path.exists(mean_csv) or not os.path.exists(max_csv):\n",
    "            print(f\"Files not found for model: {model_name}. Skipping...\")\n",
    "            continue\n",
    "        \n",
    "        mean_embeddings = pd.read_csv(mean_csv, header=None).values\n",
    "        max_embeddings = pd.read_csv(max_csv, header=None).values\n",
    "        \n",
    "        # Plot t-SNE for mean embeddings\n",
    "        plot_tsne(\n",
    "            embeddings=mean_embeddings,\n",
    "            labels=symbol_labels,\n",
    "            title=f\"t-SNE for Mean Embeddings ({model_name})\",\n",
    "            output_path=f\"tsne_mean_{sanitized_model_name}.png\",\n",
    "            perplexity=perplexity,\n",
    "            n_iter=n_iter\n",
    "        )\n",
    "        \n",
    "        # Plot t-SNE for max embeddings\n",
    "        plot_tsne(\n",
    "            embeddings=max_embeddings,\n",
    "            labels=symbol_labels,\n",
    "            title=f\"t-SNE for Max Embeddings ({model_name})\",\n",
    "            output_path=f\"tsne_max_{sanitized_model_name}.png\",\n",
    "            perplexity=perplexity,\n",
    "            n_iter=n_iter\n",
    "        )\n",
    "\n",
    "\n",
    "# Example Usage\n",
    "mean_dir = \"mean_embeddings\"\n",
    "max_dir = \"max_embeddings\"\n",
    "model_names = [\n",
    "    \"openai/clip-vit-base-patch32\",\n",
    "    \"openai/clip-vit-large-patch14\",\n",
    "    \"laion/CLIP-ViT-H-14-laion2B-s32B-b79K\",\n",
    "    \"all-MiniLM-L6-v2\"\n",
    "]\n",
    "\n",
    "load_and_plot_tsne_separate(mean_dir, max_dir, model_names, perplexity=5, n_iter=1000)\n"
   ]
  },
  {
   "cell_type": "code",
   "execution_count": 4,
   "metadata": {},
   "outputs": [
    {
     "data": {
      "image/png": "[encoded data removed]",
      "text/plain": [
       "<Figure size 1000x800 with 1 Axes>"
      ]
     },
     "metadata": {},
     "output_type": "display_data"
    }
   ],
   "source": [
    "from transformers import CLIPTokenizer, CLIPModel\n",
    "from sentence_transformers import SentenceTransformer\n",
    "import numpy as np\n",
    "import pandas as pd\n",
    "import matplotlib.pyplot as plt\n",
    "from sklearn.manifold import TSNE\n",
    "import os\n",
    "import torch\n",
    "\n",
    "# Labels for the symbols in order, including MY_DREAM\n",
    "symbol_labels = [\n",
    "    \"BAG\", \"CLOUDS\", \"DRAGONFLY\", \"EARTH\", \"FEATHER\", \n",
    "    \"HORSE TRACK\", \"HOUSE\", \"LIGHTNING\", \"STAR\", \"THUNDER\", \"MY_DREAM\"\n",
    "]\n",
    "\n",
    "# Define the dream sentence\n",
    "dream_sentence = \"I was the leader of the tribe, guiding my people with wisdom and courage.\"\n",
    "\n",
    "def compute_dream_embedding(model_name, sentence, model_type=\"CLIP\"):\n",
    "    \"\"\"\n",
    "    Compute the embedding for the dream sentence using the specified model.\n",
    "    \n",
    "    Args:\n",
    "        model_name (str): Name of the model.\n",
    "        sentence (str): Dream sentence to embed.\n",
    "        model_type (str): Type of the model (\"CLIP\" or \"SBERT\").\n",
    "    \n",
    "    Returns:\n",
    "        np.ndarray: Embedding vector for the sentence.\n",
    "    \"\"\"\n",
    "    if model_type == \"CLIP\":\n",
    "        tokenizer = CLIPTokenizer.from_pretrained(model_name)\n",
    "        model = CLIPModel.from_pretrained(model_name)\n",
    "        tokenized = tokenizer(sentence, return_tensors=\"pt\", padding=True, truncation=True)\n",
    "        with torch.no_grad():\n",
    "            embedding = model.get_text_features(**tokenized).squeeze(0).numpy()\n",
    "    elif model_type == \"SBERT\":\n",
    "        model = SentenceTransformer(model_name)\n",
    "        embedding = model.encode(sentence)\n",
    "    else:\n",
    "        raise ValueError(\"Invalid model_type. Choose 'CLIP' or 'SBERT'.\")\n",
    "    return embedding\n",
    "\n",
    "\n",
    "def plot_tsne_with_dream(mean_embeddings, dream_embedding, labels, title, output_path, perplexity=30, n_iter=1000):\n",
    "    \"\"\"\n",
    "    Perform t-SNE and plot the 2D results, including the dream embedding.\n",
    "    \n",
    "    Args:\n",
    "        mean_embeddings (ndarray): Mean embedding vectors for symbols.\n",
    "        dream_embedding (ndarray): Embedding vector for the dream.\n",
    "        labels (list): Labels for the embeddings.\n",
    "        title (str): Title of the plot.\n",
    "        output_path (str): Path to save the plot.\n",
    "        perplexity (int): t-SNE perplexity parameter.\n",
    "        n_iter (int): Number of iterations for t-SNE optimization.\n",
    "    \"\"\"\n",
    "    # Add the dream embedding to the mean embeddings\n",
    "    all_embeddings = np.vstack([mean_embeddings, dream_embedding])\n",
    "    \n",
    "    # Perform t-SNE\n",
    "    tsne = TSNE(n_components=2, perplexity=perplexity, n_iter=n_iter, random_state=42)\n",
    "    tsne_results = tsne.fit_transform(all_embeddings)\n",
    "    \n",
    "    # Plot the t-SNE results\n",
    "    plt.figure(figsize=(10, 8))\n",
    "    for i, label in enumerate(labels):\n",
    "        if label == \"MY_DREAM\":\n",
    "            plt.scatter(tsne_results[i, 0], tsne_results[i, 1], label=label, alpha=1.0, s=150, c=\"red\")\n",
    "        else:\n",
    "            plt.scatter(tsne_results[i, 0], tsne_results[i, 1], label=label, alpha=0.8, s=100)\n",
    "            plt.text(tsne_results[i, 0], tsne_results[i, 1], label, fontsize=9)\n",
    "    \n",
    "    plt.title(title)\n",
    "    plt.xlabel(\"t-SNE Dimension 1\")\n",
    "    plt.ylabel(\"t-SNE Dimension 2\")\n",
    "    plt.grid(alpha=0.3)\n",
    "    plt.legend()\n",
    "    plt.savefig(output_path)\n",
    "    plt.show()\n",
    "\n",
    "\n",
    "def load_and_plot_tsne_with_dream(mean_dir, model_name, dream_sentence, model_type=\"CLIP\", perplexity=30, n_iter=1000):\n",
    "    \"\"\"\n",
    "    Load mean embedding file, compute dream embedding, and create a t-SNE plot with the dream included.\n",
    "    \n",
    "    Args:\n",
    "        mean_dir (str): Directory containing mean embedding CSV files.\n",
    "        model_name (str): Name of the model to use.\n",
    "        dream_sentence (str): Dream sentence to embed.\n",
    "        model_type (str): Type of the model (\"CLIP\" or \"SBERT\").\n",
    "        perplexity (int): t-SNE perplexity parameter.\n",
    "        n_iter (int): Number of iterations for t-SNE optimization.\n",
    "    \n",
    "    Returns:\n",
    "        None\n",
    "    \"\"\"\n",
    "    # Load mean embeddings\n",
    "    sanitized_model_name = model_name.replace('/', '_').replace('-', '_')\n",
    "    mean_csv = os.path.join(mean_dir, f\"{sanitized_model_name}_mean_embeddings.csv\")\n",
    "    \n",
    "    if not os.path.exists(mean_csv):\n",
    "        print(f\"Mean embedding file not found for model: {model_name}. Skipping...\")\n",
    "        return\n",
    "    \n",
    "    mean_embeddings = pd.read_csv(mean_csv, header=None).values\n",
    "    \n",
    "    # Compute the embedding for the dream\n",
    "    dream_embedding = compute_dream_embedding(model_name, dream_sentence, model_type)\n",
    "    \n",
    "    # Plot t-SNE with the dream embedding\n",
    "    plot_tsne_with_dream(\n",
    "        mean_embeddings=mean_embeddings,\n",
    "        dream_embedding=dream_embedding,\n",
    "        labels=symbol_labels,\n",
    "        title=f\"t-SNE for Mean Embeddings with Dream ({model_name}, {model_type})\",\n",
    "        output_path=f\"tsne_mean_with_dream_{sanitized_model_name}_{model_type}.png\",\n",
    "        perplexity=perplexity,\n",
    "        n_iter=n_iter\n",
    "    )\n",
    "\n",
    "\n",
    "# Example Usage for CLIP\n",
    "mean_dir = \"mean_embeddings\"\n",
    "clip_model_name = \"openai/clip-vit-base-patch32\"\n",
    "\n",
    "# load_and_plot_tsne_with_dream(\n",
    "#     mean_dir=mean_dir,\n",
    "#     model_name=clip_model_name,\n",
    "#     dream_sentence=dream_sentence,\n",
    "#     model_type=\"CLIP\",\n",
    "#     perplexity=5,\n",
    "#     n_iter=1000\n",
    "# )\n",
    "\n",
    "# Example Usage for SBERT\n",
    "sbert_model_name = \"all-MiniLM-L6-v2\"\n",
    "\n",
    "load_and_plot_tsne_with_dream(\n",
    "    mean_dir=mean_dir,\n",
    "    model_name=sbert_model_name,\n",
    "    dream_sentence=dream_sentence,\n",
    "    model_type=\"SBERT\",\n",
    "    perplexity=5,\n",
    "    n_iter=1000\n",
    ")\n"
   ]
  },
  {
   "cell_type": "code",
   "execution_count": 8,
   "metadata": {},
   "outputs": [
    {
     "name": "stderr",
     "output_type": "stream",
     "text": [
      "c:\\Users\\User\\anaconda3\\envs\\goofi-pipe\\lib\\site-packages\\sklearn\\manifold\\_t_sne.py:1162: FutureWarning:\n",
      "\n",
      "'n_iter' was renamed to 'max_iter' in version 1.5 and will be removed in 1.7.\n",
      "\n"
     ]
    },
    {
     "data": {
      "application/vnd.plotly.v1+json": {
       "config": {
        "plotlyServerURL": "https://plot.ly"
       },
       "data": [
        {
         "marker": {
          "color": "#1f77b4",
          "opacity": 0.8,
          "size": 5
         },
         "mode": "markers+text",
         "name": "BAG",
         "text": [
          "BAG"
         ],
         "textposition": "top center",
         "type": "scatter3d",
         "x": [
          58.949825286865234
         ],
         "y": [
          220.25323486328125
         ],
         "z": [
          90.42222595214844
         ]
        },
        {
         "marker": {
          "color": "#ff7f0e",
          "opacity": 0.8,
          "size": 5
         },
         "mode": "markers+text",
         "name": "CLOUDS",
         "text": [
          "CLOUDS"
         ],
         "textposition": "top center",
         "type": "scatter3d",
         "x": [
          -122.1025161743164
         ],
         "y": [
          35.68596267700195
         ],
         "z": [
          90.54411315917969
         ]
        },
        {
         "marker": {
          "color": "#2ca02c",
          "opacity": 0.8,
          "size": 5
         },
         "mode": "markers+text",
         "name": "DRAGONFLY",
         "text": [
          "DRAGONFLY"
         ],
         "textposition": "top center",
         "type": "scatter3d",
         "x": [
          -15.327237129211426
         ],
         "y": [
          8.230523109436035
         ],
         "z": [
          183.2836456298828
         ]
        },
        {
         "marker": {
          "color": "#d62728",
          "opacity": 0.8,
          "size": 5
         },
         "mode": "markers+text",
         "name": "EARTH",
         "text": [
          "EARTH"
         ],
         "textposition": "top center",
         "type": "scatter3d",
         "x": [
          21.208961486816406
         ],
         "y": [
          -19.43952178955078
         ],
         "z": [
          -198.24327087402344
         ]
        },
        {
         "marker": {
          "color": "#9467bd",
          "opacity": 0.8,
          "size": 5
         },
         "mode": "markers+text",
         "name": "FEATHER",
         "text": [
          "FEATHER"
         ],
         "textposition": "top center",
         "type": "scatter3d",
         "x": [
          105.99034881591797
         ],
         "y": [
          -63.35478591918945
         ],
         "z": [
          -53.314613342285156
         ]
        },
        {
         "marker": {
          "color": "#8c564b",
          "opacity": 0.8,
          "size": 5
         },
         "mode": "markers+text",
         "name": "HORSE TRACK",
         "text": [
          "HORSE TRACK"
         ],
         "textposition": "top center",
         "type": "scatter3d",
         "x": [
          -89.98440551757812
         ],
         "y": [
          -72.71967315673828
         ],
         "z": [
          -100.33918762207031
         ]
        },
        {
         "marker": {
          "color": "#e377c2",
          "opacity": 0.8,
          "size": 5
         },
         "mode": "markers+text",
         "name": "HOUSE",
         "text": [
          "HOUSE"
         ],
         "textposition": "top center",
         "type": "scatter3d",
         "x": [
          108.67142486572266
         ],
         "y": [
          103.73517608642578
         ],
         "z": [
          -135.81497192382812
         ]
        },
        {
         "marker": {
          "color": "#7f7f7f",
          "opacity": 0.8,
          "size": 5
         },
         "mode": "markers+text",
         "name": "LIGHTNING",
         "text": [
          "LIGHTNING"
         ],
         "textposition": "top center",
         "type": "scatter3d",
         "x": [
          -59.782405853271484
         ],
         "y": [
          102.97563934326172
         ],
         "z": [
          -34.41276550292969
         ]
        },
        {
         "marker": {
          "color": "#bcbd22",
          "opacity": 0.8,
          "size": 5
         },
         "mode": "markers+text",
         "name": "STAR",
         "text": [
          "STAR"
         ],
         "textposition": "top center",
         "type": "scatter3d",
         "x": [
          79.31706237792969
         ],
         "y": [
          59.63069534301758
         ],
         "z": [
          61.66386795043945
         ]
        },
        {
         "marker": {
          "color": "#17becf",
          "opacity": 0.8,
          "size": 5
         },
         "mode": "markers+text",
         "name": "THUNDER",
         "text": [
          "THUNDER"
         ],
         "textposition": "top center",
         "type": "scatter3d",
         "x": [
          -4.327705383300781
         ],
         "y": [
          -118.31227111816406
         ],
         "z": [
          71.1192855834961
         ]
        },
        {
         "marker": {
          "color": "#d62728",
          "opacity": 1,
          "size": 25
         },
         "mode": "markers+text",
         "name": "MY_DREAM",
         "text": [
          "MY_DREAM"
         ],
         "textposition": "top center",
         "type": "scatter3d",
         "x": [
          130.67831420898438
         ],
         "y": [
          -239.96290588378906
         ],
         "z": [
          6.454801082611084
         ]
        },
        {
         "line": {
          "color": "red",
          "dash": "dash",
          "width": 2
         },
         "mode": "lines",
         "showlegend": false,
         "type": "scatter3d",
         "x": [
          130.67831420898438,
          105.99034881591797
         ],
         "y": [
          -239.96290588378906,
          -63.35478591918945
         ],
         "z": [
          6.454801082611084,
          -53.314613342285156
         ]
        },
        {
         "line": {
          "color": "red",
          "dash": "dash",
          "width": 2
         },
         "mode": "lines",
         "showlegend": false,
         "type": "scatter3d",
         "x": [
          130.67831420898438,
          -4.327705383300781
         ],
         "y": [
          -239.96290588378906,
          -118.31227111816406
         ],
         "z": [
          6.454801082611084,
          71.1192855834961
         ]
        },
        {
         "line": {
          "color": "red",
          "dash": "dash",
          "width": 2
         },
         "mode": "lines",
         "showlegend": false,
         "type": "scatter3d",
         "x": [
          130.67831420898438,
          -89.98440551757812
         ],
         "y": [
          -239.96290588378906,
          -72.71967315673828
         ],
         "z": [
          6.454801082611084,
          -100.33918762207031
         ]
        }
       ],
       "layout": {
        "margin": {
         "b": 0,
         "l": 0,
         "r": 0,
         "t": 40
        },
        "scene": {
         "xaxis": {
          "showbackground": false,
          "showgrid": false,
          "title": {
           "text": "t-SNE Dimension 1"
          },
          "zeroline": false
         },
         "yaxis": {
          "showbackground": false,
          "showgrid": false,
          "title": {
           "text": "t-SNE Dimension 2"
          },
          "zeroline": false
         },
         "zaxis": {
          "showbackground": false,
          "showgrid": false,
          "title": {
           "text": "t-SNE Dimension 3"
          },
          "zeroline": false
         }
        },
        "template": {
         "data": {
          "bar": [
           {
            "error_x": {
             "color": "#2a3f5f"
            },
            "error_y": {
             "color": "#2a3f5f"
            },
            "marker": {
             "line": {
              "color": "#E5ECF6",
              "width": 0.5
             },
             "pattern": {
              "fillmode": "overlay",
              "size": 10,
              "solidity": 0.2
             }
            },
            "type": "bar"
           }
          ],
          "barpolar": [
           {
            "marker": {
             "line": {
              "color": "#E5ECF6",
              "width": 0.5
             },
             "pattern": {
              "fillmode": "overlay",
              "size": 10,
              "solidity": 0.2
             }
            },
            "type": "barpolar"
           }
          ],
          "carpet": [
           {
            "aaxis": {
             "endlinecolor": "#2a3f5f",
             "gridcolor": "white",
             "linecolor": "white",
             "minorgridcolor": "white",
             "startlinecolor": "#2a3f5f"
            },
            "baxis": {
             "endlinecolor": "#2a3f5f",
             "gridcolor": "white",
             "linecolor": "white",
             "minorgridcolor": "white",
             "startlinecolor": "#2a3f5f"
            },
            "type": "carpet"
           }
          ],
          "choropleth": [
           {
            "colorbar": {
             "outlinewidth": 0,
             "ticks": ""
            },
            "type": "choropleth"
           }
          ],
          "contour": [
           {
            "colorbar": {
             "outlinewidth": 0,
             "ticks": ""
            },
            "colorscale": [
             [
              0,
              "#0d0887"
             ],
             [
              0.1111111111111111,
              "#46039f"
             ],
             [
              0.2222222222222222,
              "#7201a8"
             ],
             [
              0.3333333333333333,
              "#9c179e"
             ],
             [
              0.4444444444444444,
              "#bd3786"
             ],
             [
              0.5555555555555556,
              "#d8576b"
             ],
             [
              0.6666666666666666,
              "#ed7953"
             ],
             [
              0.7777777777777778,
              "#fb9f3a"
             ],
             [
              0.8888888888888888,
              "#fdca26"
             ],
             [
              1,
              "#f0f921"
             ]
            ],
            "type": "contour"
           }
          ],
          "contourcarpet": [
           {
            "colorbar": {
             "outlinewidth": 0,
             "ticks": ""
            },
            "type": "contourcarpet"
           }
          ],
          "heatmap": [
           {
            "colorbar": {
             "outlinewidth": 0,
             "ticks": ""
            },
            "colorscale": [
             [
              0,
              "#0d0887"
             ],
             [
              0.1111111111111111,
              "#46039f"
             ],
             [
              0.2222222222222222,
              "#7201a8"
             ],
             [
              0.3333333333333333,
              "#9c179e"
             ],
             [
              0.4444444444444444,
              "#bd3786"
             ],
             [
              0.5555555555555556,
              "#d8576b"
             ],
             [
              0.6666666666666666,
              "#ed7953"
             ],
             [
              0.7777777777777778,
              "#fb9f3a"
             ],
             [
              0.8888888888888888,
              "#fdca26"
             ],
             [
              1,
              "#f0f921"
             ]
            ],
            "type": "heatmap"
           }
          ],
          "heatmapgl": [
           {
            "colorbar": {
             "outlinewidth": 0,
             "ticks": ""
            },
            "colorscale": [
             [
              0,
              "#0d0887"
             ],
             [
              0.1111111111111111,
              "#46039f"
             ],
             [
              0.2222222222222222,
              "#7201a8"
             ],
             [
              0.3333333333333333,
              "#9c179e"
             ],
             [
              0.4444444444444444,
              "#bd3786"
             ],
             [
              0.5555555555555556,
              "#d8576b"
             ],
             [
              0.6666666666666666,
              "#ed7953"
             ],
             [
              0.7777777777777778,
              "#fb9f3a"
             ],
             [
              0.8888888888888888,
              "#fdca26"
             ],
             [
              1,
              "#f0f921"
             ]
            ],
            "type": "heatmapgl"
           }
          ],
          "histogram": [
           {
            "marker": {
             "pattern": {
              "fillmode": "overlay",
              "size": 10,
              "solidity": 0.2
             }
            },
            "type": "histogram"
           }
          ],
          "histogram2d": [
           {
            "colorbar": {
             "outlinewidth": 0,
             "ticks": ""
            },
            "colorscale": [
             [
              0,
              "#0d0887"
             ],
             [
              0.1111111111111111,
              "#46039f"
             ],
             [
              0.2222222222222222,
              "#7201a8"
             ],
             [
              0.3333333333333333,
              "#9c179e"
             ],
             [
              0.4444444444444444,
              "#bd3786"
             ],
             [
              0.5555555555555556,
              "#d8576b"
             ],
             [
              0.6666666666666666,
              "#ed7953"
             ],
             [
              0.7777777777777778,
              "#fb9f3a"
             ],
             [
              0.8888888888888888,
              "#fdca26"
             ],
             [
              1,
              "#f0f921"
             ]
            ],
            "type": "histogram2d"
           }
          ],
          "histogram2dcontour": [
           {
            "colorbar": {
             "outlinewidth": 0,
             "ticks": ""
            },
            "colorscale": [
             [
              0,
              "#0d0887"
             ],
             [
              0.1111111111111111,
              "#46039f"
             ],
             [
              0.2222222222222222,
              "#7201a8"
             ],
             [
              0.3333333333333333,
              "#9c179e"
             ],
             [
              0.4444444444444444,
              "#bd3786"
             ],
             [
              0.5555555555555556,
              "#d8576b"
             ],
             [
              0.6666666666666666,
              "#ed7953"
             ],
             [
              0.7777777777777778,
              "#fb9f3a"
             ],
             [
              0.8888888888888888,
              "#fdca26"
             ],
             [
              1,
              "#f0f921"
             ]
            ],
            "type": "histogram2dcontour"
           }
          ],
          "mesh3d": [
           {
            "colorbar": {
             "outlinewidth": 0,
             "ticks": ""
            },
            "type": "mesh3d"
           }
          ],
          "parcoords": [
           {
            "line": {
             "colorbar": {
              "outlinewidth": 0,
              "ticks": ""
             }
            },
            "type": "parcoords"
           }
          ],
          "pie": [
           {
            "automargin": true,
            "type": "pie"
           }
          ],
          "scatter": [
           {
            "fillpattern": {
             "fillmode": "overlay",
             "size": 10,
             "solidity": 0.2
            },
            "type": "scatter"
           }
          ],
          "scatter3d": [
           {
            "line": {
             "colorbar": {
              "outlinewidth": 0,
              "ticks": ""
             }
            },
            "marker": {
             "colorbar": {
              "outlinewidth": 0,
              "ticks": ""
             }
            },
            "type": "scatter3d"
           }
          ],
          "scattercarpet": [
           {
            "marker": {
             "colorbar": {
              "outlinewidth": 0,
              "ticks": ""
             }
            },
            "type": "scattercarpet"
           }
          ],
          "scattergeo": [
           {
            "marker": {
             "colorbar": {
              "outlinewidth": 0,
              "ticks": ""
             }
            },
            "type": "scattergeo"
           }
          ],
          "scattergl": [
           {
            "marker": {
             "colorbar": {
              "outlinewidth": 0,
              "ticks": ""
             }
            },
            "type": "scattergl"
           }
          ],
          "scattermapbox": [
           {
            "marker": {
             "colorbar": {
              "outlinewidth": 0,
              "ticks": ""
             }
            },
            "type": "scattermapbox"
           }
          ],
          "scatterpolar": [
           {
            "marker": {
             "colorbar": {
              "outlinewidth": 0,
              "ticks": ""
             }
            },
            "type": "scatterpolar"
           }
          ],
          "scatterpolargl": [
           {
            "marker": {
             "colorbar": {
              "outlinewidth": 0,
              "ticks": ""
             }
            },
            "type": "scatterpolargl"
           }
          ],
          "scatterternary": [
           {
            "marker": {
             "colorbar": {
              "outlinewidth": 0,
              "ticks": ""
             }
            },
            "type": "scatterternary"
           }
          ],
          "surface": [
           {
            "colorbar": {
             "outlinewidth": 0,
             "ticks": ""
            },
            "colorscale": [
             [
              0,
              "#0d0887"
             ],
             [
              0.1111111111111111,
              "#46039f"
             ],
             [
              0.2222222222222222,
              "#7201a8"
             ],
             [
              0.3333333333333333,
              "#9c179e"
             ],
             [
              0.4444444444444444,
              "#bd3786"
             ],
             [
              0.5555555555555556,
              "#d8576b"
             ],
             [
              0.6666666666666666,
              "#ed7953"
             ],
             [
              0.7777777777777778,
              "#fb9f3a"
             ],
             [
              0.8888888888888888,
              "#fdca26"
             ],
             [
              1,
              "#f0f921"
             ]
            ],
            "type": "surface"
           }
          ],
          "table": [
           {
            "cells": {
             "fill": {
              "color": "#EBF0F8"
             },
             "line": {
              "color": "white"
             }
            },
            "header": {
             "fill": {
              "color": "#C8D4E3"
             },
             "line": {
              "color": "white"
             }
            },
            "type": "table"
           }
          ]
         },
         "layout": {
          "annotationdefaults": {
           "arrowcolor": "#2a3f5f",
           "arrowhead": 0,
           "arrowwidth": 1
          },
          "autotypenumbers": "strict",
          "coloraxis": {
           "colorbar": {
            "outlinewidth": 0,
            "ticks": ""
           }
          },
          "colorscale": {
           "diverging": [
            [
             0,
             "#8e0152"
            ],
            [
             0.1,
             "#c51b7d"
            ],
            [
             0.2,
             "#de77ae"
            ],
            [
             0.3,
             "#f1b6da"
            ],
            [
             0.4,
             "#fde0ef"
            ],
            [
             0.5,
             "#f7f7f7"
            ],
            [
             0.6,
             "#e6f5d0"
            ],
            [
             0.7,
             "#b8e186"
            ],
            [
             0.8,
             "#7fbc41"
            ],
            [
             0.9,
             "#4d9221"
            ],
            [
             1,
             "#276419"
            ]
           ],
           "sequential": [
            [
             0,
             "#0d0887"
            ],
            [
             0.1111111111111111,
             "#46039f"
            ],
            [
             0.2222222222222222,
             "#7201a8"
            ],
            [
             0.3333333333333333,
             "#9c179e"
            ],
            [
             0.4444444444444444,
             "#bd3786"
            ],
            [
             0.5555555555555556,
             "#d8576b"
            ],
            [
             0.6666666666666666,
             "#ed7953"
            ],
            [
             0.7777777777777778,
             "#fb9f3a"
            ],
            [
             0.8888888888888888,
             "#fdca26"
            ],
            [
             1,
             "#f0f921"
            ]
           ],
           "sequentialminus": [
            [
             0,
             "#0d0887"
            ],
            [
             0.1111111111111111,
             "#46039f"
            ],
            [
             0.2222222222222222,
             "#7201a8"
            ],
            [
             0.3333333333333333,
             "#9c179e"
            ],
            [
             0.4444444444444444,
             "#bd3786"
            ],
            [
             0.5555555555555556,
             "#d8576b"
            ],
            [
             0.6666666666666666,
             "#ed7953"
            ],
            [
             0.7777777777777778,
             "#fb9f3a"
            ],
            [
             0.8888888888888888,
             "#fdca26"
            ],
            [
             1,
             "#f0f921"
            ]
           ]
          },
          "colorway": [
           "#636efa",
           "#EF553B",
           "#00cc96",
           "#ab63fa",
           "#FFA15A",
           "#19d3f3",
           "#FF6692",
           "#B6E880",
           "#FF97FF",
           "#FECB52"
          ],
          "font": {
           "color": "#2a3f5f"
          },
          "geo": {
           "bgcolor": "white",
           "lakecolor": "white",
           "landcolor": "#E5ECF6",
           "showlakes": true,
           "showland": true,
           "subunitcolor": "white"
          },
          "hoverlabel": {
           "align": "left"
          },
          "hovermode": "closest",
          "mapbox": {
           "style": "light"
          },
          "paper_bgcolor": "white",
          "plot_bgcolor": "#E5ECF6",
          "polar": {
           "angularaxis": {
            "gridcolor": "white",
            "linecolor": "white",
            "ticks": ""
           },
           "bgcolor": "#E5ECF6",
           "radialaxis": {
            "gridcolor": "white",
            "linecolor": "white",
            "ticks": ""
           }
          },
          "scene": {
           "xaxis": {
            "backgroundcolor": "#E5ECF6",
            "gridcolor": "white",
            "gridwidth": 2,
            "linecolor": "white",
            "showbackground": true,
            "ticks": "",
            "zerolinecolor": "white"
           },
           "yaxis": {
            "backgroundcolor": "#E5ECF6",
            "gridcolor": "white",
            "gridwidth": 2,
            "linecolor": "white",
            "showbackground": true,
            "ticks": "",
            "zerolinecolor": "white"
           },
           "zaxis": {
            "backgroundcolor": "#E5ECF6",
            "gridcolor": "white",
            "gridwidth": 2,
            "linecolor": "white",
            "showbackground": true,
            "ticks": "",
            "zerolinecolor": "white"
           }
          },
          "shapedefaults": {
           "line": {
            "color": "#2a3f5f"
           }
          },
          "ternary": {
           "aaxis": {
            "gridcolor": "white",
            "linecolor": "white",
            "ticks": ""
           },
           "baxis": {
            "gridcolor": "white",
            "linecolor": "white",
            "ticks": ""
           },
           "bgcolor": "#E5ECF6",
           "caxis": {
            "gridcolor": "white",
            "linecolor": "white",
            "ticks": ""
           }
          },
          "title": {
           "x": 0.05
          },
          "xaxis": {
           "automargin": true,
           "gridcolor": "white",
           "linecolor": "white",
           "ticks": "",
           "title": {
            "standoff": 15
           },
           "zerolinecolor": "white",
           "zerolinewidth": 2
          },
          "yaxis": {
           "automargin": true,
           "gridcolor": "white",
           "linecolor": "white",
           "ticks": "",
           "title": {
            "standoff": 15
           },
           "zerolinecolor": "white",
           "zerolinewidth": 2
          }
         }
        },
        "title": {
         "text": "t-SNE 3D with Links (openai/clip-vit-base-patch32, CLIP)"
        }
       }
      }
     },
     "metadata": {},
     "output_type": "display_data"
    }
   ],
   "source": [
    "import numpy as np\n",
    "import plotly.graph_objects as go\n",
    "from sklearn.manifold import TSNE\n",
    "import pandas as pd\n",
    "import os\n",
    "from transformers import CLIPTokenizer, CLIPModel\n",
    "from sentence_transformers import SentenceTransformer\n",
    "import torch\n",
    "from scipy.spatial.distance import cdist\n",
    "\n",
    "# Define a color palette for the symbols\n",
    "symbol_colors = [\n",
    "    \"#1f77b4\",  # Blue\n",
    "    \"#ff7f0e\",  # Orange\n",
    "    \"#2ca02c\",  # Green\n",
    "    \"#d62728\",  # Red\n",
    "    \"#9467bd\",  # Purple\n",
    "    \"#8c564b\",  # Brown\n",
    "    \"#e377c2\",  # Pink\n",
    "    \"#7f7f7f\",  # Gray\n",
    "    \"#bcbd22\",  # Olive\n",
    "    \"#17becf\",  # Cyan\n",
    "    \"#d62728\"   # Highlighted Red for MY_DREAM\n",
    "]\n",
    "\n",
    "def compute_dream_embedding(model_name, sentence, model_type=\"CLIP\"):\n",
    "    \"\"\"\n",
    "    Compute the embedding for the dream sentence using the specified model.\n",
    "    \"\"\"\n",
    "    if model_type == \"CLIP\":\n",
    "        tokenizer = CLIPTokenizer.from_pretrained(model_name)\n",
    "        model = CLIPModel.from_pretrained(model_name)\n",
    "        tokenized = tokenizer(sentence, return_tensors=\"pt\", padding=True, truncation=True)\n",
    "        with torch.no_grad():\n",
    "            embedding = model.get_text_features(**tokenized).squeeze(0).numpy()\n",
    "    elif model_type == \"SBERT\":\n",
    "        model = SentenceTransformer(model_name)\n",
    "        embedding = model.encode(sentence)\n",
    "    else:\n",
    "        raise ValueError(\"Invalid model_type. Choose 'CLIP' or 'SBERT'.\")\n",
    "    return embedding\n",
    "\n",
    "def plot_tsne_3d_with_links(mean_embeddings, dream_embedding, labels, title, output_path, perplexity=30, n_iter=1000, top_n=3):\n",
    "    \"\"\"\n",
    "    Perform t-SNE and plot the 3D results, including dashed lines linking \"MY_DREAM\" to the top-N closest symbols.\n",
    "    \"\"\"\n",
    "    # Add the dream embedding to the mean embeddings\n",
    "    all_embeddings = np.vstack([mean_embeddings, dream_embedding])\n",
    "    \n",
    "    # Perform t-SNE in 3D\n",
    "    tsne = TSNE(n_components=3, perplexity=perplexity, n_iter=n_iter, random_state=42)\n",
    "    tsne_results = tsne.fit_transform(all_embeddings)\n",
    "    \n",
    "    # Split results into X, Y, Z\n",
    "    x, y, z = tsne_results[:, 0], tsne_results[:, 1], tsne_results[:, 2]\n",
    "    \n",
    "    # Compute distances from MY_DREAM to all other points\n",
    "    dream_idx = len(labels) - 1  # Index of MY_DREAM\n",
    "    distances = cdist([tsne_results[dream_idx]], tsne_results[:-1])  # Exclude MY_DREAM itself\n",
    "    closest_indices = distances.argsort()[0][:top_n]  # Indices of top-N closest symbols\n",
    "    \n",
    "    # Create a 3D scatter plot\n",
    "    fig = go.Figure()\n",
    "\n",
    "    for i, label in enumerate(labels):\n",
    "        fig.add_trace(go.Scatter3d(\n",
    "            x=[x[i]], y=[y[i]], z=[z[i]],\n",
    "            mode='markers+text',\n",
    "            marker=dict(\n",
    "                size=25 if label == \"MY_DREAM\" else 5,\n",
    "                color=symbol_colors[i],\n",
    "                opacity=1.0 if label == \"MY_DREAM\" else 0.8\n",
    "            ),\n",
    "            text=[label],\n",
    "            textposition=\"top center\",\n",
    "            name=label\n",
    "        ))\n",
    "        \n",
    "    # Add dashed lines connecting MY_DREAM to closest symbols\n",
    "    for idx in closest_indices:\n",
    "        fig.add_trace(go.Scatter3d(\n",
    "            x=[x[dream_idx], x[idx]],\n",
    "            y=[y[dream_idx], y[idx]],\n",
    "            z=[z[dream_idx], z[idx]],\n",
    "            mode='lines',\n",
    "            line=dict(color=\"red\", dash=\"dash\", width=2),\n",
    "            showlegend=False\n",
    "        ))\n",
    "    \n",
    "    # Update layout for better visualization\n",
    "    # Update layout for better visualization\n",
    "    fig.update_layout(\n",
    "        title=title,\n",
    "        scene=dict(\n",
    "            xaxis=dict(\n",
    "                title=\"t-SNE Dimension 1\",\n",
    "                showbackground=False,  # Remove background plane\n",
    "                showgrid=False,        # Remove gridlines\n",
    "                zeroline=False         # Remove axis line at zero\n",
    "            ),\n",
    "            yaxis=dict(\n",
    "                title=\"t-SNE Dimension 2\",\n",
    "                showbackground=False,  # Remove background plane\n",
    "                showgrid=False,        # Remove gridlines\n",
    "                zeroline=False         # Remove axis line at zero\n",
    "            ),\n",
    "            zaxis=dict(\n",
    "                title=\"t-SNE Dimension 3\",\n",
    "                showbackground=False,  # Remove background plane\n",
    "                showgrid=False,        # Remove gridlines\n",
    "                zeroline=False         # Remove axis line at zero\n",
    "            )\n",
    "        ),\n",
    "        margin=dict(l=0, r=0, b=0, t=40)\n",
    "    )\n",
    "    \n",
    "    fig.write_html(output_path)\n",
    "    fig.show()\n",
    "\n",
    "def load_and_plot_tsne_3d_with_links(mean_dir, model_name, dream_sentence, model_type=\"CLIP\", perplexity=30, n_iter=1000, top_n=3):\n",
    "    \"\"\"\n",
    "    Load mean embedding file, compute dream embedding, and create a 3D t-SNE plot with links to closest symbols.\n",
    "    \"\"\"\n",
    "    # Load mean embeddings\n",
    "    sanitized_model_name = model_name.replace('/', '_').replace('-', '_')\n",
    "    mean_csv = os.path.join(mean_dir, f\"{sanitized_model_name}_mean_embeddings.csv\")\n",
    "    \n",
    "    if not os.path.exists(mean_csv):\n",
    "        print(f\"Mean embedding file not found for model: {model_name}. Skipping...\")\n",
    "        return\n",
    "    \n",
    "    mean_embeddings = pd.read_csv(mean_csv, header=None).values\n",
    "    \n",
    "    # Compute the embedding for the dream\n",
    "    dream_embedding = compute_dream_embedding(model_name, dream_sentence, model_type)\n",
    "    \n",
    "    # Plot t-SNE with the dream embedding and links\n",
    "    plot_tsne_3d_with_links(\n",
    "        mean_embeddings=mean_embeddings,\n",
    "        dream_embedding=dream_embedding,\n",
    "        labels=symbol_labels,\n",
    "        title=f\"t-SNE 3D with Links ({model_name}, {model_type})\",\n",
    "        output_path=f\"tsne_3d_with_links_{sanitized_model_name}_{model_type}.html\",\n",
    "        perplexity=perplexity,\n",
    "        n_iter=n_iter,\n",
    "        top_n=top_n\n",
    "    )\n",
    "\n",
    "\n",
    "symbol_labels = [\n",
    "    \"BAG\", \"CLOUDS\", \"DRAGONFLY\", \"EARTH\", \"FEATHER\", \n",
    "    \"HORSE TRACK\", \"HOUSE\", \"LIGHTNING\", \"STAR\", \"THUNDER\", \"MY_DREAM\"\n",
    "]\n",
    "\n",
    "dream_sentence = \"There a was a messenger next to me, it was flying around. The power was embodying me.\"\n",
    "\n",
    "mean_dir = \"../output/embeddings/text_mean_embeddings\"\n",
    "clip_model_name = \"openai/clip-vit-base-patch32\"\n",
    "\n",
    "sbert_model_name = \"all-MiniLM-L6-v2\"\n",
    "\n",
    "load_and_plot_tsne_3d_with_links(\n",
    "    mean_dir=mean_dir,\n",
    "    model_name=clip_model_name,\n",
    "    dream_sentence=dream_sentence,\n",
    "    model_type=\"CLIP\",\n",
    "    perplexity=7,\n",
    "    n_iter=1000\n",
    ")\n"
   ]
  },
  {
   "cell_type": "markdown",
   "metadata": {},
   "source": [
    "## Data Augmentation"
   ]
  },
  {
   "cell_type": "code",
   "execution_count": null,
   "metadata": {},
   "outputs": [
    {
     "name": "stderr",
     "output_type": "stream",
     "text": [
      "[nltk_data] Downloading package wordnet to\n",
      "[nltk_data]     C:\\Users\\User\\AppData\\Roaming\\nltk_data...\n",
      "[nltk_data]   Package wordnet is already up-to-date!\n",
      "[nltk_data] Downloading package omw-1.4 to\n",
      "[nltk_data]     C:\\Users\\User\\AppData\\Roaming\\nltk_data...\n",
      "[nltk_data]   Package omw-1.4 is already up-to-date!\n"
     ]
    },
    {
     "name": "stdout",
     "output_type": "stream",
     "text": [
      "{'purpose treasure hidden potential', 'purpose treasure hidden electric potential'}\n",
      "2\n",
      "{'treasure potential hidden purpose', 'Paraphrasephrase', 'purpose treasure hidden electric potential', 'paraphrasephrase', 'Paraphrase', 'purpose treasure hidden potential', 'function gem hide potential'}\n",
      "7\n",
      "{'treasure potential hidden purpose', 'Paraphrasephrase', 'purpose treasure hidden electric potential', 'treasure purpose hidden potential', 'paraphrasephrase', 'Paraphrase', 'purpose treasure hidden potential', 'function gem hide potential', 'function treasure hide electric potential'}\n",
      "9\n",
      "{'impermanence veil drift illumination'}\n",
      "1\n",
      "{'', 'paraphrase:', 'impermanence veil drift illumination', 'paraphrase', 'impermanence drift veil illumination'}\n",
      "5\n",
      "{'', 'paraphrase:', 'impermanence veil drift illumination', 'paraphrase', 'illumination drift impermanence veil', 'impermanence drift veil illumination'}\n",
      "6\n",
      "{'', 'drift illumination veil impermanence', 'paraphrase:', 'impermanence veil drift illumination', 'paraphrase', 'illumination drift impermanence veil', 'impermanence drift veil illumination'}\n",
      "7\n",
      "{'', 'drift illumination veil impermanence', 'paraphrase:', 'impermanence veil drift illumination', 'paraphrase', 'illumination drift impermanence veil', 'impermanence drift veil illumination'}\n",
      "7\n",
      "{'', 'drift illumination veil impermanence', 'paraphrase:', 'impermanence veil drift illumination', 'paraphrase', 'veil illumination impermanence drift', 'illumination drift impermanence veil', 'impermanence drift veil illumination'}\n",
      "8\n",
      "{'', 'drift illumination veil impermanence', 'paraphrase:', 'impermanence veil drift illumination', 'paraphrase', 'drift veil illumination impermanence', 'veil illumination impermanence drift', 'illumination drift impermanence veil', 'impermanence drift veil illumination'}\n",
      "9\n",
      "{'agility metamorphosis firelight', 'agility transfiguration firelight'}\n",
      "2\n",
      "{'', 'agility metamorphosis firelight', 'agility transfiguration firelight', 'paraphrase', 'Paraphrase', 'firelight metamorphosis agility'}\n",
      "6\n",
      "{'', 'agility metamorphosis firelight', 'agility transfiguration firelight', 'paraphrase', 'Paraphrase', 'firelight metamorphosis agility'}\n",
      "6\n",
      "{'', 'agility metamorphosis firelight', 'agility transfiguration firelight', 'paraphrase', 'Paraphrase', 'metamorphosis agility firelight', 'firelight metamorphosis agility'}\n",
      "7\n",
      "{'', 'metamorphosis firelight agility', 'agility metamorphosis firelight', 'agility transfiguration firelight', 'paraphrase', 'Paraphrase', 'metamorphosis agility firelight', 'firelight metamorphosis agility'}\n",
      "8\n",
      "{'', 'metamorphosis firelight agility', 'agility metamorphosis firelight', 'agility transfiguration firelight', 'paraphrase', 'Paraphrase', 'metamorphosis agility firelight', 'firelight metamorphosis agility'}\n",
      "8\n",
      "{'', 'metamorphosis firelight agility', 'agility metamorphosis firelight', 'agility transfiguration firelight', 'paraphrase', 'Paraphrase', 'metamorphosis agility firelight', 'firelight metamorphosis agility'}\n",
      "8\n",
      "{'', 'metamorphosis firelight agility', 'agility metamorphosis firelight', 'agility transfiguration firelight', 'paraphrase', 'Paraphrase', 'metamorphosis agility firelight', 'firelight metamorphosis agility'}\n",
      "8\n",
      "{'', 'metamorphosis firelight agility', 'agility metamorphosis firelight', 'agility transfiguration firelight', 'paraphrase', 'Paraphrase', 'metamorphosis agility firelight', 'firelight metamorphosis agility'}\n",
      "8\n",
      "{'', 'metamorphosis firelight agility', 'agility metamorphosis firelight', 'agility transfiguration firelight', 'paraphrase', 'Paraphrase', 'firelight agility metamorphosis', 'metamorphosis agility firelight', 'firelight metamorphosis agility'}\n",
      "9\n",
      "{'', 'metamorphosis firelight agility', 'agility metamorphosis firelight', 'agility transfiguration firelight', 'paraphrase', 'Paraphrase', 'firelight agility metamorphosis', 'metamorphosis agility firelight', 'firelight metamorphosis agility'}\n",
      "9\n",
      "{'', 'metamorphosis firelight agility', 'agility metamorphosis firelight', 'agility transfiguration firelight', 'paraphrase', 'Paraphrase', 'firelight agility metamorphosis', 'metamorphosis agility firelight', 'firelight metamorphosis agility'}\n",
      "9\n",
      "{'', 'metamorphosis firelight agility', 'agility metamorphosis firelight', 'agility transfiguration firelight', 'paraphrase', 'Paraphrase', 'firelight agility metamorphosis', 'metamorphosis agility firelight', 'firelight metamorphosis agility'}\n",
      "9\n",
      "{'', 'metamorphosis firelight agility', 'agility metamorphosis firelight', 'agility transfiguration firelight', 'paraphrase', 'Paraphrase', 'firelight agility metamorphosis', 'metamorphosis agility firelight', 'firelight metamorphosis agility'}\n",
      "9\n",
      "{'', 'metamorphosis firelight agility', 'agility metamorphosis firelight', 'agility transfiguration firelight', 'paraphrase', 'Paraphrase', 'firelight agility metamorphosis', 'metamorphosis agility firelight', 'firelight metamorphosis agility'}\n",
      "9\n",
      "{'', 'metamorphosis firelight agility', 'agility metamorphosis firelight', 'agility transfiguration firelight', 'paraphrase', 'Paraphrase', 'firelight agility metamorphosis', 'metamorphosis agility firelight', 'firelight metamorphosis agility'}\n",
      "9\n",
      "{'', 'metamorphosis firelight agility', 'agility metamorphosis firelight', 'agility transfiguration firelight', 'paraphrase', 'Paraphrase', 'firelight agility metamorphosis', 'metamorphosis agility firelight', 'firelight metamorphosis agility'}\n",
      "9\n",
      "{'', 'metamorphosis firelight agility', 'agility metamorphosis firelight', 'agility transfiguration firelight', 'paraphrase', 'Paraphrase', 'firelight agility metamorphosis', 'metamorphosis agility firelight', 'firelight metamorphosis agility'}\n",
      "9\n",
      "{'', 'metamorphosis firelight agility', 'agility metamorphosis firelight', 'agility transfiguration firelight', 'paraphrase', 'Paraphrase', 'firelight agility metamorphosis', 'metamorphosis agility firelight', 'firelight metamorphosis agility'}\n",
      "9\n",
      "{'', 'metamorphosis firelight agility', 'agility metamorphosis firelight', 'agility transfiguration firelight', 'paraphrase', 'Paraphrase', 'firelight agility metamorphosis', 'metamorphosis agility firelight', 'firelight metamorphosis agility'}\n",
      "9\n",
      "{'', 'metamorphosis firelight agility', 'agility metamorphosis firelight', 'agility transfiguration firelight', 'paraphrase', 'Paraphrase', 'firelight agility metamorphosis', 'metamorphosis agility firelight', 'firelight metamorphosis agility'}\n",
      "9\n",
      "{'', 'metamorphosis firelight agility', 'agility metamorphosis firelight', 'agility transfiguration firelight', 'paraphrase', 'Paraphrase', 'firelight agility metamorphosis', 'metamorphosis agility firelight', 'firelight metamorphosis agility'}\n",
      "9\n",
      "{'', 'metamorphosis firelight agility', 'agility metamorphosis firelight', 'agility transfiguration firelight', 'paraphrase', 'Paraphrase', 'firelight agility metamorphosis', 'metamorphosis agility firelight', 'firelight metamorphosis agility'}\n",
      "9\n",
      "{'', 'metamorphosis firelight agility', 'agility metamorphosis firelight', 'agility transfiguration firelight', 'paraphrase', 'Paraphrase', 'firelight agility metamorphosis', 'metamorphosis agility firelight', 'firelight metamorphosis agility'}\n",
      "9\n",
      "{'', 'metamorphosis firelight agility', 'agility metamorphosis firelight', 'agility transfiguration firelight', 'paraphrase', 'Paraphrase', 'firelight agility metamorphosis', 'metamorphosis agility firelight', 'firelight metamorphosis agility'}\n",
      "9\n",
      "{'', 'metamorphosis firelight agility', 'agility metamorphosis firelight', 'agility transfiguration firelight', 'paraphrase', 'Paraphrase', 'firelight agility metamorphosis', 'metamorphosis agility firelight', 'firelight metamorphosis agility'}\n",
      "9\n",
      "{'', 'metamorphosis firelight agility', 'agility metamorphosis firelight', 'agility transfiguration firelight', 'paraphrase', 'Paraphrase', 'firelight agility metamorphosis', 'metamorphosis agility firelight', 'firelight metamorphosis agility'}\n",
      "9\n",
      "\n",
      "Symbol: BAG\n",
      "1. treasure potential hidden purpose\n",
      "2. Paraphrasephrase\n",
      "3. hidden treasure potential purpose\n",
      "4. purpose treasure hidden electric potential\n",
      "5. treasure purpose hidden potential\n",
      "6. paraphrasephrase\n",
      "7. Paraphrase\n",
      "8. purpose treasure hidden potential\n",
      "9. function gem hide potential\n",
      "10. function treasure hide electric potential\n",
      "\n",
      "Symbol: CLOUDS\n",
      "1. \n",
      "2. drift illumination veil impermanence\n",
      "3. paraphrase:\n",
      "4. illumination veil impermanence drift\n",
      "5. impermanence veil drift illumination\n",
      "6. paraphrase\n",
      "7. drift veil illumination impermanence\n",
      "8. veil illumination impermanence drift\n",
      "9. illumination drift impermanence veil\n",
      "10. impermanence drift veil illumination\n",
      "\n",
      "Symbol: DRAGONFLY\n",
      "1. \n",
      "2. metamorphosis firelight agility\n",
      "3. agility metamorphosis firelight\n",
      "4. agility transfiguration firelight\n",
      "5. paraphrase\n",
      "6. Paraphrase\n",
      "7. firelight agility metamorphosis\n",
      "8. metamorphosis agility firelight\n",
      "9. firelight metamorphosis agility\n",
      "10. agility firelight metamorphosis\n"
     ]
    }
   ],
   "source": [
    "import random\n",
    "from transformers import pipeline\n",
    "from nltk.corpus import wordnet\n",
    "import nltk\n",
    "\n",
    "# Ensure WordNet is downloaded for synonym replacement\n",
    "nltk.download('wordnet')\n",
    "nltk.download('omw-1.4')\n",
    "\n",
    "# Load the paraphrasing model\n",
    "paraphraser = pipeline(\"text2text-generation\", model=\"t5-small\", device=-1)  # Use CPU, replace with GPU if available\n",
    "\n",
    "\n",
    "# 1. Synonym Replacement\n",
    "def synonym_replacement(sentence, n=2):\n",
    "    \"\"\"Replace up to n words in the sentence with synonyms.\"\"\"\n",
    "    words = sentence.split()\n",
    "    new_words = words.copy()\n",
    "    replace_indices = random.sample(range(len(words)), min(n, len(words)))  # Random positions to replace\n",
    "    \n",
    "    for idx in replace_indices:\n",
    "        synonyms = wordnet.synsets(words[idx])  # Find synonyms\n",
    "        #print(synonyms)\n",
    "        if synonyms:\n",
    "            try:\n",
    "                synonym = synonyms[1].lemmas()[0].name().replace(\"_\", \" \")  # Replace with first synonym\n",
    "            except:\n",
    "                synonym = synonyms[0].lemmas()[0].name().replace(\"_\", \" \")  # Replace with first synonym\n",
    "            new_words[idx] = synonym  # Replace by position\n",
    "    \n",
    "    return ' '.join(new_words)\n",
    "\n",
    "\n",
    "\n",
    "# 2. Paraphrasing\n",
    "def paraphrase_sentence(sentence, num_return_sequences=3):\n",
    "    \"\"\"Generate paraphrased versions of a sentence using beam search.\"\"\"\n",
    "    try:\n",
    "        outputs = paraphraser(\n",
    "            sentence,\n",
    "            max_length=30,\n",
    "            num_return_sequences=num_return_sequences,\n",
    "            num_beams=num_return_sequences,  # Enable beam search\n",
    "            early_stopping=True\n",
    "        )\n",
    "        return [output['generated_text'] for output in outputs]\n",
    "    except Exception as e:\n",
    "        print(f\"Paraphrasing failed for sentence: {sentence}. Error: {e}\")\n",
    "        return [sentence]\n",
    "\n",
    "\n",
    "# 4. Word Order Shuffling\n",
    "def shuffle_words(sentence):\n",
    "    \"\"\"Shuffle the words in a sentence.\"\"\"\n",
    "    words = sentence.split()\n",
    "    random.shuffle(words)\n",
    "    return ' '.join(words)\n",
    "\n",
    "\n",
    "# Main Augmentation Function\n",
    "def augment_sentences_for_symbols(word_dict, num_sentences=30):\n",
    "    \"\"\"\n",
    "    Create a dictionary with augmented sentences for each symbol.\n",
    "    \n",
    "    Args:\n",
    "        word_dict (dict): Dictionary of symbols and associated words.\n",
    "        num_sentences (int): Number of augmented sentences per symbol.\n",
    "    \n",
    "    Returns:\n",
    "        dict: A dictionary with symbols as keys and a list of augmented sentences as values.\n",
    "    \"\"\"\n",
    "    augmented_dict = {}\n",
    "\n",
    "    for symbol, words in word_dict.items():\n",
    "        base_sentence = \" \".join(words)  # Combine words into a base sentence\n",
    "        augmented_sentences = set()  # Use a set to avoid duplicates\n",
    "        \n",
    "        # Add original sentence\n",
    "        augmented_sentences.add(base_sentence)\n",
    "\n",
    "        # Generate augmented sentences\n",
    "        while len(augmented_sentences) < num_sentences:\n",
    "            # Apply Synonym Replacement\n",
    "            augmented_sentences.add(synonym_replacement(base_sentence, n=random.randint(1, 3)))\n",
    "            print(augmented_sentences)\n",
    "            print(len(augmented_sentences))\n",
    "            # Apply Paraphrasing\n",
    "            for paraphrased in paraphrase_sentence(base_sentence, num_return_sequences=3):\n",
    "                augmented_sentences.add(paraphrased)\n",
    "                if len(augmented_sentences) >= num_sentences:\n",
    "                    break\n",
    "\n",
    "            # Apply Word Order Shuffling\n",
    "            augmented_sentences.add(shuffle_words(base_sentence))\n",
    "        \n",
    "        # Ensure exactly num_sentences\n",
    "        augmented_dict[symbol] = list(augmented_sentences)[:num_sentences]\n",
    "\n",
    "    return augmented_dict\n",
    "\n",
    "\n",
    "# Example Input\n",
    "lakota_symbols = {\n",
    "    \"BAG\": [\"purpose\", \"treasure\", \"hidden potential\"],\n",
    "    \"CLOUDS\": [\"impermanence\", \"veil\", \"drift\", \"illumination\"],\n",
    "    \"DRAGONFLY\": [\"agility\", \"metamorphosis\", \"firelight\"],\n",
    "}\n",
    "\n",
    "# Run Augmentation\n",
    "augmented_sentences_dict = augment_sentences_for_symbols(lakota_symbols, num_sentences=10)\n",
    "\n",
    "# Print Results\n",
    "for symbol, sentences in augmented_sentences_dict.items():\n",
    "    print(f\"\\nSymbol: {symbol}\")\n",
    "    for i, sentence in enumerate(sentences, 1):\n",
    "        print(f\"{i}. {sentence}\")\n"
   ]
  },
  {
   "cell_type": "code",
   "execution_count": 83,
   "metadata": {},
   "outputs": [
    {
     "data": {
      "text/plain": [
       "['Ich bin tired of jumping.', 'Ich bin tired of jumping. jumping.']"
      ]
     },
     "execution_count": 83,
     "metadata": {},
     "output_type": "execute_result"
    }
   ],
   "source": [
    "def paraphrase_sentence(sentence, num_return_sequences=3):\n",
    "    \"\"\"Generate paraphrased versions of a sentence using beam search.\"\"\"\n",
    "    try:\n",
    "        outputs = paraphraser(\n",
    "            sentence,\n",
    "            max_length=10,\n",
    "            num_return_sequences=num_return_sequences,\n",
    "            num_beams=num_return_sequences,  # Enable beam search\n",
    "            early_stopping=False\n",
    "        )\n",
    "        return [output['generated_text'] for output in outputs]\n",
    "    except Exception as e:\n",
    "        print(f\"Paraphrasing failed for sentence: {sentence}. Error: {e}\")\n",
    "        return [sentence]\n",
    "\n",
    "sentence = \"I am tired of jumping\"\n",
    "paraphrase_sentence(sentence, num_return_sequences=2)"
   ]
  }
 ],
 "metadata": {
  "kernelspec": {
   "display_name": "goofi",
   "language": "python",
   "name": "python3"
  },
  "language_info": {
   "codemirror_mode": {
    "name": "ipython",
    "version": 3
   },
   "file_extension": ".py",
   "mimetype": "text/x-python",
   "name": "python",
   "nbconvert_exporter": "python",
   "pygments_lexer": "ipython3",
   "version": "3.11.11"
  }
 },
 "nbformat": 4,
 "nbformat_minor": 2
}
