{
 "cells": [
  {
   "cell_type": "markdown",
   "metadata": {},
   "source": [
    "## Vizualise Textual Embeddings of Symbols Meaning Landscape and Dream Content  "
   ]
  },
  {
   "cell_type": "code",
   "execution_count": 1,
   "metadata": {},
   "outputs": [],
   "source": [
    "import numpy as np\n",
    "import matplotlib.pyplot as plt\n",
    "from sklearn.manifold import TSNE\n",
    "from shapely.geometry import MultiPoint\n",
    "from scipy.spatial import ConvexHull\n",
    "from transformers import CLIPTokenizer, CLIPModel\n",
    "import torch\n",
    "import seaborn as sns\n",
    "\n",
    "\n",
    "def map_words_to_semantic_space(word_dict, scaling_factor=2000, dim_red=\"tsne\", savefig=False, savename='test'):\n",
    "    # Load CLIP model and tokenizer\n",
    "    model_name = \"openai/clip-vit-base-patch32\"\n",
    "    tokenizer = CLIPTokenizer.from_pretrained(model_name)\n",
    "    model = CLIPModel.from_pretrained(model_name)\n",
    "\n",
    "    # Combine all words across authors\n",
    "    all_words = []\n",
    "    labels = []\n",
    "    for author, words in word_dict.items():\n",
    "        all_words.extend(words)\n",
    "        labels.extend([author] * len(words))\n",
    "\n",
    "    # Calculate embeddings for all words\n",
    "    word_vectors = []\n",
    "    for word in all_words:\n",
    "        tokenized = tokenizer(word, return_tensors=\"pt\", padding=True, truncation=True)\n",
    "        with torch.no_grad():\n",
    "            embedding = model.get_text_features(**tokenized)\n",
    "        word_vectors.append(embedding.squeeze(0).numpy())\n",
    "\n",
    "    word_vectors = np.array(word_vectors)\n",
    "\n",
    "    # Dimensionality reduction\n",
    "    if dim_red == \"tsne\":\n",
    "        dim_red_model = TSNE(n_components=2, perplexity=6, random_state=42)\n",
    "        word_vectors_2d = dim_red_model.fit_transform(word_vectors)\n",
    "    else:\n",
    "        raise ValueError(f\"Invalid value for dim_red: {dim_red}. Only 'tsne' is supported.\")\n",
    "\n",
    "    # Create scatter plot and calculate convex hulls\n",
    "    plt.figure(figsize=(10, 10))\n",
    "    unique_authors = list(set(labels))\n",
    "    colors = ['red', 'blue', 'green', 'purple', 'cyan', 'yellow', 'black', 'magenta', 'olive', 'navy', 'teal', 'lime', 'maroon']\n",
    "    markers = ['.', ',', 'o', 'v', '^', '<', '>', 's', 'p', '*', 'h', 'H', '+', 'x', 'D', 'd']\n",
    "    archetype_hulls = {}\n",
    "\n",
    "    for i, author in enumerate(unique_authors):\n",
    "        author_indices = [j for j, label in enumerate(labels) if label == author]\n",
    "        x = word_vectors_2d[author_indices, 0]\n",
    "        y = word_vectors_2d[author_indices, 1]\n",
    "        archetype_points = MultiPoint([(x[j], y[j]) for j in range(len(x))])\n",
    "        area = archetype_points.convex_hull.area\n",
    "        print(author, 'area:', area)\n",
    "        archetype_hulls[author] = archetype_points.convex_hull\n",
    "        plt.scatter(x, y, marker=markers[i % len(markers)], alpha=0.5, color=colors[i], label=author)\n",
    "\n",
    "        # Annotate each word on the scatter plot\n",
    "        for j, word in enumerate(np.array(all_words)[author_indices]):\n",
    "            plt.annotate(word, (x[j], y[j]), fontsize=8, ha='center', va='center', color='black')\n",
    "\n",
    "    for e, (author, hull) in enumerate(archetype_hulls.items()):\n",
    "        plt.fill(*zip(*hull.exterior.coords), alpha=0.2, color=colors[e])\n",
    "\n",
    "    plt.legend(title='Archetypes', fontsize=12, title_fontsize=14, loc='upper right')\n",
    "    plt.title('CLIP Word Embeddings Visualized')\n",
    "\n",
    "    if savefig:\n",
    "        plt.savefig(savename + '.png', dpi=300)\n",
    "    else:\n",
    "        plt.show()\n",
    "\n",
    "    return archetype_hulls\n",
    "\n",
    "\n",
    "\n",
    "\n",
    "def plot_archetype_heatmap(archetype_hulls):\n",
    "    archetypes = list(archetype_hulls.keys())\n",
    "    num_archetypes = len(archetypes)\n",
    "    heatmap = np.zeros((num_archetypes, num_archetypes))\n",
    "\n",
    "    for i in range(num_archetypes):\n",
    "        for j in range(num_archetypes):\n",
    "            if i >= j:\n",
    "                continue\n",
    "            hull1 = MultiPoint([point for point in archetype_hulls[archetypes[i]].exterior.coords])\n",
    "            hull2 = MultiPoint([point for point in archetype_hulls[archetypes[j]].exterior.coords])\n",
    "            intersection = hull1.convex_hull.intersection(hull2.convex_hull).area\n",
    "            heatmap[i, j] = intersection\n",
    "            heatmap[j, i] = intersection\n",
    "\n",
    "    mask = np.triu(np.ones_like(heatmap, dtype=bool))\n",
    "    plt.figure(figsize=(10, 8))\n",
    "    sns.heatmap(heatmap, mask=mask, annot=True, fmt=\".2f\", cmap=\"viridis\", xticklabels=archetypes, yticklabels=archetypes)\n",
    "    plt.title(\"Shared Areas Between Symbols\")\n",
    "    plt.show()\n",
    "\n",
    "\n"
   ]
  },
  {
   "cell_type": "code",
   "execution_count": 2,
   "metadata": {},
   "outputs": [
    {
     "name": "stderr",
     "output_type": "stream",
     "text": [
      "c:\\Users\\User\\anaconda3\\envs\\goofi\\lib\\site-packages\\torch\\_utils.py:831: UserWarning: TypedStorage is deprecated. It will be removed in the future and UntypedStorage will be the only storage class. This should only matter to you if you are using storages directly.  To access UntypedStorage directly, use tensor.untyped_storage() instead of tensor.storage()\n",
      "  return self.fget.__get__(instance, owner)()\n",
      "c:\\Users\\User\\anaconda3\\envs\\goofi\\lib\\site-packages\\joblib\\externals\\loky\\backend\\context.py:136: UserWarning: Could not find the number of physical cores for the following reason:\n",
      "found 0 physical cores < 1\n",
      "Returning the number of logical cores instead. You can silence this warning by setting LOKY_MAX_CPU_COUNT to the number of cores you want to use.\n",
      "  warnings.warn(\n",
      "  File \"c:\\Users\\User\\anaconda3\\envs\\goofi\\lib\\site-packages\\joblib\\externals\\loky\\backend\\context.py\", line 282, in _count_physical_cores\n",
      "    raise ValueError(f\"found {cpu_count_physical} physical cores < 1\")\n"
     ]
    },
    {
     "name": "stdout",
     "output_type": "stream",
     "text": [
      "BAG area: 3700.62\n",
      "LIGHTNING area: 5639.88\n",
      "HORSE TRACK area: 1691.90\n",
      "STAR area: 4371.13\n",
      "FEATHER area: 2714.47\n",
      "EARTH area: 4177.53\n",
      "DRAGONFLY area: 3918.35\n",
      "HOUSE area: 2004.57\n",
      "CLOUDS area: 5256.64\n",
      "THUNDER area: 3800.93\n"
     ]
    },
    {
     "data": {
      "application/vnd.plotly.v1+json": {
       "config": {
        "plotlyServerURL": "https://plot.ly"
       },
       "data": [
        {
         "legendgroup": "BAG",
         "marker": {
          "color": "rgba(255, 0, 0, 1)",
          "opacity": 0.7,
          "size": 10
         },
         "mode": "markers+text",
         "name": "BAG Points",
         "showlegend": true,
         "text": [
          "bag",
          "movement",
          "storage",
          "transport",
          "physical medicine",
          "spiritual medicine",
          "peace pipe",
          "healing",
          "necessity",
          "holding",
          "physical travel",
          "container",
          "physical protection",
          "carrying",
          "journey",
          "food"
         ],
         "textposition": "top center",
         "type": "scatter",
         "x": [
          -37.647274017333984,
          0.4577901065349579,
          -35.59697723388672,
          -23.592056274414062,
          35.442195892333984,
          22.66754913330078,
          -10.429856300354004,
          -7.458839416503906,
          1.4372447729110718,
          -35.41999435424805,
          35.820648193359375,
          -36.55717849731445,
          44.875038146972656,
          -36.799156188964844,
          -17.312625885009766,
          -1.8874213695526123
         ],
         "y": [
          -28.453609466552734,
          -22.052974700927734,
          -22.996509552001953,
          -25.28240203857422,
          24.478534698486328,
          20.258983612060547,
          51.16843795776367,
          0.9582223296165466,
          24.064966201782227,
          -39.17194747924805,
          17.495439529418945,
          -19.97562026977539,
          11.348091125488281,
          -36.26605224609375,
          -28.248750686645508,
          -5.865946292877197
         ]
        },
        {
         "fill": "toself",
         "fillcolor": "rgba(255, 0, 0, 0.1)",
         "legendgroup": "BAG",
         "line": {
          "color": "rgba(255, 0, 0, 1)"
         },
         "name": "BAG Hull",
         "showlegend": false,
         "type": "scatter",
         "x": [
          -35.41999435424805,
          -36.799156188964844,
          -37.647274017333984,
          -36.55717849731445,
          -10.429856300354004,
          35.442195892333984,
          44.875038146972656,
          0.4577901065349579,
          -35.41999435424805,
          -35.41999435424805
         ],
         "y": [
          -39.17194747924805,
          -36.26605224609375,
          -28.453609466552734,
          -19.97562026977539,
          51.16843795776367,
          24.478534698486328,
          11.348091125488281,
          -22.052974700927734,
          -39.17194747924805,
          -39.17194747924805
         ]
        },
        {
         "legendgroup": "LIGHTNING",
         "marker": {
          "color": "rgba(0, 0, 255, 1)",
          "opacity": 0.7,
          "size": 10
         },
         "mode": "markers+text",
         "name": "LIGHTNING Points",
         "showlegend": true,
         "text": [
          "lightning",
          "power",
          "thunderbird",
          "sacred clown",
          "spirituality",
          "storm",
          "spiritual connection",
          "electricity",
          "west",
          "fear",
          "grandfather",
          "danger",
          "goes out of the eyes of the thunderbird"
         ],
         "textposition": "top center",
         "type": "scatter",
         "x": [
          25.416492462158203,
          3.633697032928467,
          -30.775598526000977,
          25.608173370361328,
          22.991735458374023,
          19.343122482299805,
          -52.80525588989258,
          28.300527572631836,
          -3.9889414310455322,
          9.824865341186523,
          -44.378841400146484,
          -39.949485778808594,
          -34.50792694091797
         ],
         "y": [
          -51.40505599975586,
          4.03093957901001,
          53.101654052734375,
          26.38789176940918,
          16.074514389038086,
          -57.19035720825195,
          -2.7794437408447266,
          -47.75752258300781,
          -42.325618743896484,
          3.5866072177886963,
          28.921783447265625,
          11.447423934936523,
          50.14256286621094
         ]
        },
        {
         "fill": "toself",
         "fillcolor": "rgba(0, 0, 255, 0.1)",
         "legendgroup": "LIGHTNING",
         "line": {
          "color": "rgba(0, 0, 255, 1)"
         },
         "name": "LIGHTNING Hull",
         "showlegend": false,
         "type": "scatter",
         "x": [
          19.343122482299805,
          -3.9889414310455322,
          -52.80525588989258,
          -44.378841400146484,
          -34.50792694091797,
          -30.775598526000977,
          25.608173370361328,
          28.300527572631836,
          25.416492462158203,
          19.343122482299805,
          19.343122482299805
         ],
         "y": [
          -57.19035720825195,
          -42.325618743896484,
          -2.7794437408447266,
          28.921783447265625,
          50.14256286621094,
          53.101654052734375,
          26.38789176940918,
          -47.75752258300781,
          -51.40505599975586,
          -57.19035720825195,
          -57.19035720825195
         ]
        },
        {
         "legendgroup": "HORSE TRACK",
         "marker": {
          "color": "rgba(0, 255, 0, 1)",
          "opacity": 0.7,
          "size": 10
         },
         "mode": "markers+text",
         "name": "HORSE TRACK Points",
         "showlegend": true,
         "text": [
          "horse track",
          "wealth",
          "travelling",
          "movement",
          "path",
          "motion",
          "riding",
          "hunting",
          "abundance",
          "dowry",
          "generosity",
          "west",
          "mobility"
         ],
         "textposition": "top center",
         "type": "scatter",
         "x": [
          -25.683504104614258,
          3.5426011085510254,
          -20.950828552246094,
          -2.27109432220459,
          -12.488479614257812,
          -2.0410749912261963,
          -25.359115600585938,
          -20.0389404296875,
          26.853702545166016,
          34.941062927246094,
          31.094470977783203,
          -3.9889414310455322,
          9.78563117980957
         ],
         "y": [
          -17.67473602294922,
          -2.899221658706665,
          -29.665508270263672,
          -21.259191513061523,
          -31.235231399536133,
          -26.023998260498047,
          -31.036556243896484,
          -35.7361946105957,
          5.697377681732178,
          -19.522268295288086,
          -11.240410804748535,
          -42.325618743896484,
          -19.99286460876465
         ]
        },
        {
         "fill": "toself",
         "fillcolor": "rgba(0, 255, 0, 0.1)",
         "legendgroup": "HORSE TRACK",
         "line": {
          "color": "rgba(0, 255, 0, 1)"
         },
         "name": "HORSE TRACK Hull",
         "showlegend": false,
         "type": "scatter",
         "x": [
          -3.9889414310455322,
          -20.0389404296875,
          -25.359115600585938,
          -25.683504104614258,
          3.5426011085510254,
          26.853702545166016,
          34.941062927246094,
          -3.9889414310455322,
          -3.9889414310455322
         ],
         "y": [
          -42.325618743896484,
          -35.7361946105957,
          -31.036556243896484,
          -17.67473602294922,
          -2.899221658706665,
          5.697377681732178,
          -19.522268295288086,
          -42.325618743896484,
          -42.325618743896484
         ]
        },
        {
         "legendgroup": "STAR",
         "marker": {
          "color": "rgba(128, 0, 128, 1)",
          "opacity": 0.7,
          "size": 10
         },
         "mode": "markers+text",
         "name": "STAR Points",
         "showlegend": true,
         "text": [
          "star",
          "medicine wheel",
          "four directions",
          "north",
          "ancestral connection",
          "stardust in our bones",
          "elemental",
          "extraterrestrial",
          "star people",
          "soul",
          "source",
          "light",
          "outer space",
          "balance"
         ],
         "textposition": "top center",
         "type": "scatter",
         "x": [
          -3.0947859287261963,
          30.935062408447266,
          -16.382797241210938,
          -5.523254871368408,
          -42.9566764831543,
          7.966464042663574,
          11.163154602050781,
          10.197132110595703,
          -2.2248382568359375,
          -0.3556498885154724,
          4.827108383178711,
          26.7175350189209,
          8.753901481628418,
          30.15609359741211
         ],
         "y": [
          41.941654205322266,
          32.68885803222656,
          -18.464414596557617,
          -37.91163635253906,
          -4.333186149597168,
          40.83652114868164,
          53.40764617919922,
          48.87472915649414,
          39.08838653564453,
          2.409945249557495,
          11.56434154510498,
          -33.359886169433594,
          44.7130012512207,
          48.642086029052734
         ]
        },
        {
         "fill": "toself",
         "fillcolor": "rgba(128, 0, 128, 0.1)",
         "legendgroup": "STAR",
         "line": {
          "color": "rgba(128, 0, 128, 1)"
         },
         "name": "STAR Hull",
         "showlegend": false,
         "type": "scatter",
         "x": [
          -5.523254871368408,
          -42.9566764831543,
          -3.0947859287261963,
          11.163154602050781,
          30.15609359741211,
          30.935062408447266,
          26.7175350189209,
          -5.523254871368408,
          -5.523254871368408
         ],
         "y": [
          -37.91163635253906,
          -4.333186149597168,
          41.941654205322266,
          53.40764617919922,
          48.642086029052734,
          32.68885803222656,
          -33.359886169433594,
          -37.91163635253906,
          -37.91163635253906
         ]
        },
        {
         "legendgroup": "FEATHER",
         "marker": {
          "color": "rgba(0, 255, 255, 1)",
          "opacity": 0.7,
          "size": 10
         },
         "mode": "markers+text",
         "name": "FEATHER Points",
         "showlegend": true,
         "text": [
          "feather",
          "achievement",
          "honor",
          "bravery",
          "merit",
          "counting coup",
          "courage",
          "knowledge",
          "eagle",
          "bird",
          "ceremony",
          "humbleness",
          "nobility",
          "virtue",
          "valor",
          "strength"
         ],
         "textposition": "top center",
         "type": "scatter",
         "x": [
          -17.42753028869629,
          -2.292818784713745,
          -25.435361862182617,
          17.574935913085938,
          -0.7639812231063843,
          -28.434383392333984,
          14.701212882995605,
          12.570512771606445,
          -22.31884765625,
          -19.315269470214844,
          -22.193702697753906,
          28.128957748413086,
          16.257171630859375,
          7.642260551452637,
          -28.976186752319336,
          12.2872314453125
         ],
         "y": [
          52.436222076416016,
          9.749347686767578,
          12.26622200012207,
          2.2905874252319336,
          -35.297542572021484,
          -0.15934957563877106,
          0.6006218194961548,
          13.048364639282227,
          56.28438949584961,
          56.6043701171875,
          27.90259552001953,
          -7.3572468757629395,
          -21.316364288330078,
          -28.113431930541992,
          15.277764320373535,
          -6.4363250732421875
         ]
        },
        {
         "fill": "toself",
         "fillcolor": "rgba(0, 255, 255, 0.1)",
         "legendgroup": "FEATHER",
         "line": {
          "color": "rgba(0, 255, 255, 1)"
         },
         "name": "FEATHER Hull",
         "showlegend": false,
         "type": "scatter",
         "x": [
          -0.7639812231063843,
          -28.434383392333984,
          -28.976186752319336,
          -22.31884765625,
          -19.315269470214844,
          28.128957748413086,
          16.257171630859375,
          -0.7639812231063843,
          -0.7639812231063843
         ],
         "y": [
          -35.297542572021484,
          -0.15934957563877106,
          15.277764320373535,
          56.28438949584961,
          56.6043701171875,
          -7.3572468757629395,
          -21.316364288330078,
          -35.297542572021484,
          -35.297542572021484
         ]
        },
        {
         "legendgroup": "EARTH",
         "marker": {
          "color": "rgba(255, 255, 0, 1)",
          "opacity": 0.7,
          "size": 10
         },
         "mode": "markers+text",
         "name": "EARTH Points",
         "showlegend": true,
         "text": [
          "earth",
          "people",
          "animals",
          "living beings",
          "plants",
          "roots",
          "mother",
          "geography",
          "mountain",
          "earthly",
          "mundane",
          "physical world",
          "harmony",
          "life",
          "sustainability",
          "balance",
          "grounding",
          "anchor",
          "stability"
         ],
         "textposition": "top center",
         "type": "scatter",
         "x": [
          12.532938957214355,
          -8.28796672821045,
          -14.871377944946289,
          -10.887179374694824,
          11.72012996673584,
          18.828449249267578,
          -38.59858703613281,
          18.279035568237305,
          7.190188407897949,
          14.517334938049316,
          27.26786231994629,
          39.170780181884766,
          -22.41060447692871,
          0.7427272796630859,
          9.605192184448242,
          30.15609359741211,
          34.99363327026367,
          -6.891595363616943,
          13.061969757080078
         ],
         "y": [
          -34.73910903930664,
          23.636707305908203,
          10.291403770446777,
          9.333127975463867,
          -43.54344177246094,
          -12.4041166305542,
          25.375659942626953,
          -36.79866409301758,
          -37.92878723144531,
          -32.23297882080078,
          1.1942861080169678,
          17.49636459350586,
          8.113765716552734,
          20.020530700683594,
          -13.00317096710205,
          48.642086029052734,
          1.1508734226226807,
          46.010169982910156,
          -16.679615020751953
         ]
        },
        {
         "fill": "toself",
         "fillcolor": "rgba(255, 255, 0, 0.1)",
         "legendgroup": "EARTH",
         "line": {
          "color": "rgba(255, 255, 0, 1)"
         },
         "name": "EARTH Hull",
         "showlegend": false,
         "type": "scatter",
         "x": [
          11.72012996673584,
          7.190188407897949,
          -38.59858703613281,
          -6.891595363616943,
          30.15609359741211,
          39.170780181884766,
          34.99363327026367,
          18.279035568237305,
          11.72012996673584,
          11.72012996673584
         ],
         "y": [
          -43.54344177246094,
          -37.92878723144531,
          25.375659942626953,
          46.010169982910156,
          48.642086029052734,
          17.49636459350586,
          1.1508734226226807,
          -36.79866409301758,
          -43.54344177246094,
          -43.54344177246094
         ]
        },
        {
         "legendgroup": "DRAGONFLY",
         "marker": {
          "color": "rgba(0, 0, 0, 1)",
          "opacity": 0.7,
          "size": 10
         },
         "mode": "markers+text",
         "name": "DRAGONFLY Points",
         "showlegend": true,
         "text": [
          "dragonfly",
          "resilience",
          "ancient connection",
          "ancestral",
          "confirmation",
          "message",
          "spiritual travel",
          "flight",
          "astral travel",
          "lightly",
          "blessing",
          "patience",
          "survival"
         ],
         "textposition": "top center",
         "type": "scatter",
         "x": [
          -19.923337936401367,
          15.469711303710938,
          46.73020935058594,
          -39.23459243774414,
          -19.610172271728516,
          6.8409342765808105,
          27.036136627197266,
          -7.464719295501709,
          30.347007751464844,
          27.414709091186523,
          -6.443497657775879,
          18.4302921295166,
          3.74859619140625
         ],
         "y": [
          48.435462951660156,
          -8.298849105834961,
          -16.588258743286133,
          -4.437438011169434,
          30.038068771362305,
          16.26240348815918,
          18.99749755859375,
          -24.271881103515625,
          15.842826843261719,
          -30.227771759033203,
          4.312143802642822,
          -5.510266304016113,
          -7.673859119415283
         ]
        },
        {
         "fill": "toself",
         "fillcolor": "rgba(0, 0, 0, 0.1)",
         "legendgroup": "DRAGONFLY",
         "line": {
          "color": "rgba(0, 0, 0, 1)"
         },
         "name": "DRAGONFLY Hull",
         "showlegend": false,
         "type": "scatter",
         "x": [
          27.414709091186523,
          -7.464719295501709,
          -39.23459243774414,
          -19.923337936401367,
          27.036136627197266,
          30.347007751464844,
          46.73020935058594,
          27.414709091186523,
          27.414709091186523
         ],
         "y": [
          -30.227771759033203,
          -24.271881103515625,
          -4.437438011169434,
          48.435462951660156,
          18.99749755859375,
          15.842826843261719,
          -16.588258743286133,
          -30.227771759033203,
          -30.227771759033203
         ]
        },
        {
         "legendgroup": "HOUSE",
         "marker": {
          "color": "rgba(255, 0, 255, 1)",
          "opacity": 0.7,
          "size": 10
         },
         "mode": "markers+text",
         "name": "HOUSE Points",
         "showlegend": true,
         "text": [
          "house",
          "nurturing",
          "protection",
          "security",
          "home",
          "community",
          "matriarchy",
          "camp",
          "family",
          "care",
          "council",
          "grandmother",
          "safety"
         ],
         "textposition": "top center",
         "type": "scatter",
         "x": [
          -23.30879783630371,
          42.46409606933594,
          45.91783142089844,
          51.17996597290039,
          -17.046430587768555,
          -10.48764705657959,
          -33.34596633911133,
          -16.293006896972656,
          -19.217016220092773,
          -10.534368515014648,
          -14.740731239318848,
          -41.41249465942383,
          47.96733856201172
         ],
         "y": [
          -10.18501091003418,
          -5.155177593231201,
          8.197521209716797,
          8.781274795532227,
          -3.073133707046509,
          19.84609031677246,
          19.512523651123047,
          -6.4470343589782715,
          2.8030104637145996,
          -4.19571590423584,
          19.42461585998535,
          27.310237884521484,
          4.635578632354736
         ]
        },
        {
         "fill": "toself",
         "fillcolor": "rgba(255, 0, 255, 0.1)",
         "legendgroup": "HOUSE",
         "line": {
          "color": "rgba(255, 0, 255, 1)"
         },
         "name": "HOUSE Hull",
         "showlegend": false,
         "type": "scatter",
         "x": [
          -23.30879783630371,
          -41.41249465942383,
          51.17996597290039,
          42.46409606933594,
          -23.30879783630371,
          -23.30879783630371
         ],
         "y": [
          -10.18501091003418,
          27.310237884521484,
          8.781274795532227,
          -5.155177593231201,
          -10.18501091003418,
          -10.18501091003418
         ]
        },
        {
         "legendgroup": "CLOUDS",
         "marker": {
          "color": "rgba(128, 128, 0, 1)",
          "opacity": 0.7,
          "size": 10
         },
         "mode": "markers+text",
         "name": "CLOUDS Points",
         "showlegend": true,
         "text": [
          "clouds",
          "rain",
          "spiritual connection",
          "vision",
          "spiritual knowledge",
          "spirit world",
          "portal",
          "transcendence",
          "wisdom",
          "openness of the plane",
          "vastness"
         ],
         "textposition": "top center",
         "type": "scatter",
         "x": [
          21.153369903564453,
          11.903576850891113,
          -52.80525588989258,
          7.011929512023926,
          19.118684768676758,
          -6.463465690612793,
          11.277620315551758,
          23.103790283203125,
          10.810656547546387,
          18.39634132385254,
          34.08832931518555
         ],
         "y": [
          -62.62176513671875,
          -58.14423751831055,
          -2.7794437408447266,
          -0.010783753357827663,
          16.257173538208008,
          -14.009380340576172,
          58.488426208496094,
          9.052240371704102,
          16.39984703063965,
          32.56010818481445,
          -30.888633728027344
         ]
        },
        {
         "fill": "toself",
         "fillcolor": "rgba(128, 128, 0, 0.1)",
         "legendgroup": "CLOUDS",
         "line": {
          "color": "rgba(128, 128, 0, 1)"
         },
         "name": "CLOUDS Hull",
         "showlegend": false,
         "type": "scatter",
         "x": [
          21.153369903564453,
          11.903576850891113,
          -52.80525588989258,
          11.277620315551758,
          18.39634132385254,
          34.08832931518555,
          21.153369903564453,
          21.153369903564453
         ],
         "y": [
          -62.62176513671875,
          -58.14423751831055,
          -2.7794437408447266,
          58.488426208496094,
          32.56010818481445,
          -30.888633728027344,
          -62.62176513671875,
          -62.62176513671875
         ]
        },
        {
         "legendgroup": "THUNDER",
         "marker": {
          "color": "rgba(0, 0, 128, 1)",
          "opacity": 0.7,
          "size": 10
         },
         "mode": "markers+text",
         "name": "THUNDER Points",
         "showlegend": true,
         "text": [
          "thunder",
          "storm",
          "sound",
          "cry",
          "rain",
          "alert",
          "spirits arrival",
          "humility",
          "reminder of humanness",
          "fragility",
          "vulnerability",
          "out of the mouth of the thunderbird"
         ],
         "textposition": "top center",
         "type": "scatter",
         "x": [
          20.778390884399414,
          22.277217864990234,
          1.5303685665130615,
          -2.0474979877471924,
          11.903576850891113,
          -37.01521301269531,
          -10.042799949645996,
          25.35043716430664,
          12.234373092651367,
          24.11528968811035,
          22.606582641601562,
          -36.07851791381836
         ],
         "y": [
          -52.250728607177734,
          -57.30679702758789,
          13.768932342529297,
          15.476449012756348,
          -58.14423751831055,
          10.962717056274414,
          -15.430298805236816,
          -8.30738353729248,
          22.82524299621582,
          -24.161510467529297,
          -20.794639587402344,
          52.61071014404297
         ]
        },
        {
         "fill": "toself",
         "fillcolor": "rgba(0, 0, 128, 0.1)",
         "legendgroup": "THUNDER",
         "line": {
          "color": "rgba(0, 0, 128, 1)"
         },
         "name": "THUNDER Hull",
         "showlegend": false,
         "type": "scatter",
         "x": [
          11.903576850891113,
          -37.01521301269531,
          -36.07851791381836,
          12.234373092651367,
          25.35043716430664,
          22.277217864990234,
          11.903576850891113,
          11.903576850891113
         ],
         "y": [
          -58.14423751831055,
          10.962717056274414,
          52.61071014404297,
          22.82524299621582,
          -8.30738353729248,
          -57.30679702758789,
          -58.14423751831055,
          -58.14423751831055
         ]
        }
       ],
       "layout": {
        "height": 800,
        "plot_bgcolor": "rgba(0,0,0,0)",
        "template": {
         "data": {
          "bar": [
           {
            "error_x": {
             "color": "#2a3f5f"
            },
            "error_y": {
             "color": "#2a3f5f"
            },
            "marker": {
             "line": {
              "color": "#E5ECF6",
              "width": 0.5
             },
             "pattern": {
              "fillmode": "overlay",
              "size": 10,
              "solidity": 0.2
             }
            },
            "type": "bar"
           }
          ],
          "barpolar": [
           {
            "marker": {
             "line": {
              "color": "#E5ECF6",
              "width": 0.5
             },
             "pattern": {
              "fillmode": "overlay",
              "size": 10,
              "solidity": 0.2
             }
            },
            "type": "barpolar"
           }
          ],
          "carpet": [
           {
            "aaxis": {
             "endlinecolor": "#2a3f5f",
             "gridcolor": "white",
             "linecolor": "white",
             "minorgridcolor": "white",
             "startlinecolor": "#2a3f5f"
            },
            "baxis": {
             "endlinecolor": "#2a3f5f",
             "gridcolor": "white",
             "linecolor": "white",
             "minorgridcolor": "white",
             "startlinecolor": "#2a3f5f"
            },
            "type": "carpet"
           }
          ],
          "choropleth": [
           {
            "colorbar": {
             "outlinewidth": 0,
             "ticks": ""
            },
            "type": "choropleth"
           }
          ],
          "contour": [
           {
            "colorbar": {
             "outlinewidth": 0,
             "ticks": ""
            },
            "colorscale": [
             [
              0,
              "#0d0887"
             ],
             [
              0.1111111111111111,
              "#46039f"
             ],
             [
              0.2222222222222222,
              "#7201a8"
             ],
             [
              0.3333333333333333,
              "#9c179e"
             ],
             [
              0.4444444444444444,
              "#bd3786"
             ],
             [
              0.5555555555555556,
              "#d8576b"
             ],
             [
              0.6666666666666666,
              "#ed7953"
             ],
             [
              0.7777777777777778,
              "#fb9f3a"
             ],
             [
              0.8888888888888888,
              "#fdca26"
             ],
             [
              1,
              "#f0f921"
             ]
            ],
            "type": "contour"
           }
          ],
          "contourcarpet": [
           {
            "colorbar": {
             "outlinewidth": 0,
             "ticks": ""
            },
            "type": "contourcarpet"
           }
          ],
          "heatmap": [
           {
            "colorbar": {
             "outlinewidth": 0,
             "ticks": ""
            },
            "colorscale": [
             [
              0,
              "#0d0887"
             ],
             [
              0.1111111111111111,
              "#46039f"
             ],
             [
              0.2222222222222222,
              "#7201a8"
             ],
             [
              0.3333333333333333,
              "#9c179e"
             ],
             [
              0.4444444444444444,
              "#bd3786"
             ],
             [
              0.5555555555555556,
              "#d8576b"
             ],
             [
              0.6666666666666666,
              "#ed7953"
             ],
             [
              0.7777777777777778,
              "#fb9f3a"
             ],
             [
              0.8888888888888888,
              "#fdca26"
             ],
             [
              1,
              "#f0f921"
             ]
            ],
            "type": "heatmap"
           }
          ],
          "heatmapgl": [
           {
            "colorbar": {
             "outlinewidth": 0,
             "ticks": ""
            },
            "colorscale": [
             [
              0,
              "#0d0887"
             ],
             [
              0.1111111111111111,
              "#46039f"
             ],
             [
              0.2222222222222222,
              "#7201a8"
             ],
             [
              0.3333333333333333,
              "#9c179e"
             ],
             [
              0.4444444444444444,
              "#bd3786"
             ],
             [
              0.5555555555555556,
              "#d8576b"
             ],
             [
              0.6666666666666666,
              "#ed7953"
             ],
             [
              0.7777777777777778,
              "#fb9f3a"
             ],
             [
              0.8888888888888888,
              "#fdca26"
             ],
             [
              1,
              "#f0f921"
             ]
            ],
            "type": "heatmapgl"
           }
          ],
          "histogram": [
           {
            "marker": {
             "pattern": {
              "fillmode": "overlay",
              "size": 10,
              "solidity": 0.2
             }
            },
            "type": "histogram"
           }
          ],
          "histogram2d": [
           {
            "colorbar": {
             "outlinewidth": 0,
             "ticks": ""
            },
            "colorscale": [
             [
              0,
              "#0d0887"
             ],
             [
              0.1111111111111111,
              "#46039f"
             ],
             [
              0.2222222222222222,
              "#7201a8"
             ],
             [
              0.3333333333333333,
              "#9c179e"
             ],
             [
              0.4444444444444444,
              "#bd3786"
             ],
             [
              0.5555555555555556,
              "#d8576b"
             ],
             [
              0.6666666666666666,
              "#ed7953"
             ],
             [
              0.7777777777777778,
              "#fb9f3a"
             ],
             [
              0.8888888888888888,
              "#fdca26"
             ],
             [
              1,
              "#f0f921"
             ]
            ],
            "type": "histogram2d"
           }
          ],
          "histogram2dcontour": [
           {
            "colorbar": {
             "outlinewidth": 0,
             "ticks": ""
            },
            "colorscale": [
             [
              0,
              "#0d0887"
             ],
             [
              0.1111111111111111,
              "#46039f"
             ],
             [
              0.2222222222222222,
              "#7201a8"
             ],
             [
              0.3333333333333333,
              "#9c179e"
             ],
             [
              0.4444444444444444,
              "#bd3786"
             ],
             [
              0.5555555555555556,
              "#d8576b"
             ],
             [
              0.6666666666666666,
              "#ed7953"
             ],
             [
              0.7777777777777778,
              "#fb9f3a"
             ],
             [
              0.8888888888888888,
              "#fdca26"
             ],
             [
              1,
              "#f0f921"
             ]
            ],
            "type": "histogram2dcontour"
           }
          ],
          "mesh3d": [
           {
            "colorbar": {
             "outlinewidth": 0,
             "ticks": ""
            },
            "type": "mesh3d"
           }
          ],
          "parcoords": [
           {
            "line": {
             "colorbar": {
              "outlinewidth": 0,
              "ticks": ""
             }
            },
            "type": "parcoords"
           }
          ],
          "pie": [
           {
            "automargin": true,
            "type": "pie"
           }
          ],
          "scatter": [
           {
            "fillpattern": {
             "fillmode": "overlay",
             "size": 10,
             "solidity": 0.2
            },
            "type": "scatter"
           }
          ],
          "scatter3d": [
           {
            "line": {
             "colorbar": {
              "outlinewidth": 0,
              "ticks": ""
             }
            },
            "marker": {
             "colorbar": {
              "outlinewidth": 0,
              "ticks": ""
             }
            },
            "type": "scatter3d"
           }
          ],
          "scattercarpet": [
           {
            "marker": {
             "colorbar": {
              "outlinewidth": 0,
              "ticks": ""
             }
            },
            "type": "scattercarpet"
           }
          ],
          "scattergeo": [
           {
            "marker": {
             "colorbar": {
              "outlinewidth": 0,
              "ticks": ""
             }
            },
            "type": "scattergeo"
           }
          ],
          "scattergl": [
           {
            "marker": {
             "colorbar": {
              "outlinewidth": 0,
              "ticks": ""
             }
            },
            "type": "scattergl"
           }
          ],
          "scattermapbox": [
           {
            "marker": {
             "colorbar": {
              "outlinewidth": 0,
              "ticks": ""
             }
            },
            "type": "scattermapbox"
           }
          ],
          "scatterpolar": [
           {
            "marker": {
             "colorbar": {
              "outlinewidth": 0,
              "ticks": ""
             }
            },
            "type": "scatterpolar"
           }
          ],
          "scatterpolargl": [
           {
            "marker": {
             "colorbar": {
              "outlinewidth": 0,
              "ticks": ""
             }
            },
            "type": "scatterpolargl"
           }
          ],
          "scatterternary": [
           {
            "marker": {
             "colorbar": {
              "outlinewidth": 0,
              "ticks": ""
             }
            },
            "type": "scatterternary"
           }
          ],
          "surface": [
           {
            "colorbar": {
             "outlinewidth": 0,
             "ticks": ""
            },
            "colorscale": [
             [
              0,
              "#0d0887"
             ],
             [
              0.1111111111111111,
              "#46039f"
             ],
             [
              0.2222222222222222,
              "#7201a8"
             ],
             [
              0.3333333333333333,
              "#9c179e"
             ],
             [
              0.4444444444444444,
              "#bd3786"
             ],
             [
              0.5555555555555556,
              "#d8576b"
             ],
             [
              0.6666666666666666,
              "#ed7953"
             ],
             [
              0.7777777777777778,
              "#fb9f3a"
             ],
             [
              0.8888888888888888,
              "#fdca26"
             ],
             [
              1,
              "#f0f921"
             ]
            ],
            "type": "surface"
           }
          ],
          "table": [
           {
            "cells": {
             "fill": {
              "color": "#EBF0F8"
             },
             "line": {
              "color": "white"
             }
            },
            "header": {
             "fill": {
              "color": "#C8D4E3"
             },
             "line": {
              "color": "white"
             }
            },
            "type": "table"
           }
          ]
         },
         "layout": {
          "annotationdefaults": {
           "arrowcolor": "#2a3f5f",
           "arrowhead": 0,
           "arrowwidth": 1
          },
          "autotypenumbers": "strict",
          "coloraxis": {
           "colorbar": {
            "outlinewidth": 0,
            "ticks": ""
           }
          },
          "colorscale": {
           "diverging": [
            [
             0,
             "#8e0152"
            ],
            [
             0.1,
             "#c51b7d"
            ],
            [
             0.2,
             "#de77ae"
            ],
            [
             0.3,
             "#f1b6da"
            ],
            [
             0.4,
             "#fde0ef"
            ],
            [
             0.5,
             "#f7f7f7"
            ],
            [
             0.6,
             "#e6f5d0"
            ],
            [
             0.7,
             "#b8e186"
            ],
            [
             0.8,
             "#7fbc41"
            ],
            [
             0.9,
             "#4d9221"
            ],
            [
             1,
             "#276419"
            ]
           ],
           "sequential": [
            [
             0,
             "#0d0887"
            ],
            [
             0.1111111111111111,
             "#46039f"
            ],
            [
             0.2222222222222222,
             "#7201a8"
            ],
            [
             0.3333333333333333,
             "#9c179e"
            ],
            [
             0.4444444444444444,
             "#bd3786"
            ],
            [
             0.5555555555555556,
             "#d8576b"
            ],
            [
             0.6666666666666666,
             "#ed7953"
            ],
            [
             0.7777777777777778,
             "#fb9f3a"
            ],
            [
             0.8888888888888888,
             "#fdca26"
            ],
            [
             1,
             "#f0f921"
            ]
           ],
           "sequentialminus": [
            [
             0,
             "#0d0887"
            ],
            [
             0.1111111111111111,
             "#46039f"
            ],
            [
             0.2222222222222222,
             "#7201a8"
            ],
            [
             0.3333333333333333,
             "#9c179e"
            ],
            [
             0.4444444444444444,
             "#bd3786"
            ],
            [
             0.5555555555555556,
             "#d8576b"
            ],
            [
             0.6666666666666666,
             "#ed7953"
            ],
            [
             0.7777777777777778,
             "#fb9f3a"
            ],
            [
             0.8888888888888888,
             "#fdca26"
            ],
            [
             1,
             "#f0f921"
            ]
           ]
          },
          "colorway": [
           "#636efa",
           "#EF553B",
           "#00cc96",
           "#ab63fa",
           "#FFA15A",
           "#19d3f3",
           "#FF6692",
           "#B6E880",
           "#FF97FF",
           "#FECB52"
          ],
          "font": {
           "color": "#2a3f5f"
          },
          "geo": {
           "bgcolor": "white",
           "lakecolor": "white",
           "landcolor": "#E5ECF6",
           "showlakes": true,
           "showland": true,
           "subunitcolor": "white"
          },
          "hoverlabel": {
           "align": "left"
          },
          "hovermode": "closest",
          "mapbox": {
           "style": "light"
          },
          "paper_bgcolor": "white",
          "plot_bgcolor": "#E5ECF6",
          "polar": {
           "angularaxis": {
            "gridcolor": "white",
            "linecolor": "white",
            "ticks": ""
           },
           "bgcolor": "#E5ECF6",
           "radialaxis": {
            "gridcolor": "white",
            "linecolor": "white",
            "ticks": ""
           }
          },
          "scene": {
           "xaxis": {
            "backgroundcolor": "#E5ECF6",
            "gridcolor": "white",
            "gridwidth": 2,
            "linecolor": "white",
            "showbackground": true,
            "ticks": "",
            "zerolinecolor": "white"
           },
           "yaxis": {
            "backgroundcolor": "#E5ECF6",
            "gridcolor": "white",
            "gridwidth": 2,
            "linecolor": "white",
            "showbackground": true,
            "ticks": "",
            "zerolinecolor": "white"
           },
           "zaxis": {
            "backgroundcolor": "#E5ECF6",
            "gridcolor": "white",
            "gridwidth": 2,
            "linecolor": "white",
            "showbackground": true,
            "ticks": "",
            "zerolinecolor": "white"
           }
          },
          "shapedefaults": {
           "line": {
            "color": "#2a3f5f"
           }
          },
          "ternary": {
           "aaxis": {
            "gridcolor": "white",
            "linecolor": "white",
            "ticks": ""
           },
           "baxis": {
            "gridcolor": "white",
            "linecolor": "white",
            "ticks": ""
           },
           "bgcolor": "#E5ECF6",
           "caxis": {
            "gridcolor": "white",
            "linecolor": "white",
            "ticks": ""
           }
          },
          "title": {
           "x": 0.05
          },
          "xaxis": {
           "automargin": true,
           "gridcolor": "white",
           "linecolor": "white",
           "ticks": "",
           "title": {
            "standoff": 15
           },
           "zerolinecolor": "white",
           "zerolinewidth": 2
          },
          "yaxis": {
           "automargin": true,
           "gridcolor": "white",
           "linecolor": "white",
           "ticks": "",
           "title": {
            "standoff": 15
           },
           "zerolinecolor": "white",
           "zerolinewidth": 2
          }
         }
        },
        "title": {
         "text": "Semantic Map with Convex Hulls"
        },
        "width": 900,
        "xaxis": {
         "showgrid": false,
         "title": {
          "text": "Dimension 1"
         }
        },
        "yaxis": {
         "showgrid": false,
         "title": {
          "text": "Dimension 2"
         }
        }
       }
      }
     },
     "metadata": {},
     "output_type": "display_data"
    },
    {
     "data": {
      "image/png": "[encoded data removed]",
      "text/plain": [
       "<Figure size 1000x800 with 2 Axes>"
      ]
     },
     "metadata": {},
     "output_type": "display_data"
    },
    {
     "data": {
      "image/png": "[encoded data removed]",
      "text/plain": [
       "<Figure size 1000x500 with 1 Axes>"
      ]
     },
     "metadata": {},
     "output_type": "display_data"
    }
   ],
   "source": [
    "import numpy as np\n",
    "import plotly.graph_objects as go\n",
    "from sklearn.manifold import TSNE\n",
    "from shapely.geometry import MultiPoint\n",
    "from scipy.spatial import ConvexHull\n",
    "from transformers import CLIPTokenizer, CLIPModel\n",
    "import torch\n",
    "from sklearn.decomposition import PCA\n",
    "from umap import UMAP\n",
    "import seaborn as sns\n",
    "\n",
    "\n",
    "def map_words_to_semantic_space_dynamic(word_dict, scaling_factor=2000, dim_red=\"tsne\", perplexity=6):\n",
    "    # Load CLIP model and tokenizer\n",
    "    model_name = \"openai/clip-vit-base-patch32\"\n",
    "    tokenizer = CLIPTokenizer.from_pretrained(model_name)\n",
    "    model = CLIPModel.from_pretrained(model_name)\n",
    "\n",
    "    # Combine all words across archetypes\n",
    "    all_words = []\n",
    "    labels = []\n",
    "    for archetype, words in word_dict.items():\n",
    "        all_words.extend(words)\n",
    "        labels.extend([archetype] * len(words))\n",
    "\n",
    "    # Calculate embeddings for all words\n",
    "    word_vectors = []\n",
    "    for word in all_words:\n",
    "        tokenized = tokenizer(word, return_tensors=\"pt\", padding=True, truncation=True)\n",
    "        with torch.no_grad():\n",
    "            embedding = model.get_text_features(**tokenized)\n",
    "        word_vectors.append(embedding.squeeze(0).numpy())\n",
    "\n",
    "    word_vectors = np.array(word_vectors)\n",
    "\n",
    "    # Dimensionality reduction\n",
    "    # Dimensionality reduction\n",
    "    if dim_red == \"tsne\":\n",
    "        dim_red_model = TSNE(n_components=2, perplexity=perplexity, random_state=42)\n",
    "        word_vectors_2d = dim_red_model.fit_transform(word_vectors)\n",
    "    elif dim_red == \"pca\":\n",
    "        dim_red_model = PCA(n_components=2)\n",
    "        word_vectors_2d = dim_red_model.fit_transform(word_vectors)\n",
    "    elif dim_red == \"umap\":\n",
    "        dim_red_model = UMAP(n_components=2, random_state=42)\n",
    "        word_vectors_2d = dim_red_model.fit_transform(word_vectors)\n",
    "    else:\n",
    "        raise ValueError(f\"Invalid value for dim_red: {dim_red}. Supported values: 'tsne', 'pca', 'umap'.\")\n",
    "\n",
    "    return word_vectors_2d, labels, all_words, word_vectors\n",
    "\n",
    "\n",
    "def create_dynamic_plot(word_vectors_2d, labels, all_words):\n",
    "    # Create a Plotly figure\n",
    "    fig = go.Figure()\n",
    "\n",
    "    unique_archetypes = list(set(labels))\n",
    "    base_colors = [\n",
    "        'rgba(255, 0, 0, 1)',    # Red\n",
    "        'rgba(0, 0, 255, 1)',    # Blue\n",
    "        'rgba(0, 255, 0, 1)',    # Green\n",
    "        'rgba(128, 0, 128, 1)',  # Purple\n",
    "        'rgba(0, 255, 255, 1)',  # Cyan\n",
    "        'rgba(255, 255, 0, 1)',  # Yellow\n",
    "        'rgba(0, 0, 0, 1)',      # Black\n",
    "        'rgba(255, 0, 255, 1)',  # Magenta\n",
    "        'rgba(128, 128, 0, 1)',  # Olive\n",
    "        'rgba(0, 0, 128, 1)',    # Navy\n",
    "        'rgba(0, 128, 128, 1)',  # Teal\n",
    "        'rgba(0, 128, 0, 1)',    # Lime\n",
    "    ]\n",
    "\n",
    "    archetype_hulls = {}\n",
    "    areas = {}\n",
    "    for i, archetype in enumerate(unique_archetypes):\n",
    "        # Get points for the current archetype\n",
    "        archetype_indices = [j for j, label in enumerate(labels) if label == archetype]\n",
    "        x = word_vectors_2d[archetype_indices, 0]\n",
    "        y = word_vectors_2d[archetype_indices, 1]\n",
    "\n",
    "        # Calculate convex hull and area\n",
    "        archetype_points = MultiPoint([(x[j], y[j]) for j in range(len(x))])\n",
    "        hull = archetype_points.convex_hull\n",
    "        area = hull.area\n",
    "        archetype_hulls[archetype] = hull\n",
    "        areas[archetype] = area\n",
    "        print(f\"{archetype} area: {area:.2f}\")\n",
    "\n",
    "        # Add scatter plot for archetype points\n",
    "        fig.add_trace(go.Scatter(\n",
    "            x=x, y=y,\n",
    "            mode='markers+text',\n",
    "            marker=dict(size=10, color=base_colors[i % len(base_colors)], opacity=0.7),\n",
    "            text=np.array(all_words)[archetype_indices],\n",
    "            textposition=\"top center\",\n",
    "            name=f\"{archetype} Points\",\n",
    "            legendgroup=archetype,  # Group the points and hull together\n",
    "            showlegend=True         # Show legend only for the points\n",
    "        ))\n",
    "\n",
    "        # Add convex hull for archetype\n",
    "        if len(x) > 2:  # Only plot hull if it exists\n",
    "            hull_coords = np.array(hull.exterior.coords)\n",
    "            fig.add_trace(go.Scatter(\n",
    "                x=hull_coords[:, 0].tolist() + [hull_coords[0, 0]],\n",
    "                y=hull_coords[:, 1].tolist() + [hull_coords[0, 1]],\n",
    "                fill='toself',\n",
    "                fillcolor=base_colors[i % len(base_colors)].replace('1)', '0.1)'),\n",
    "                line=dict(color=base_colors[i % len(base_colors)]),\n",
    "                name=f\"{archetype} Hull\",\n",
    "                legendgroup=archetype,  # Group the hull with the points\n",
    "                showlegend=False        # Do not show a separate legend for the hull\n",
    "            ))\n",
    "\n",
    "    # Update plot layout\n",
    "    fig.update_layout(\n",
    "        title=\"Semantic Map with Convex Hulls\",\n",
    "        xaxis_title=\"Dimension 1\",\n",
    "        yaxis_title=\"Dimension 2\",\n",
    "        width=900,\n",
    "        height=800\n",
    "    )\n",
    "    # Remove gridlines\n",
    "    fig.update_xaxes(showgrid=False)\n",
    "    fig.update_yaxes(showgrid=False)\n",
    "    # Remove background color\n",
    "    fig.update_layout(plot_bgcolor='rgba(0,0,0,0)')\n",
    "    fig.write_html(\"dynamic_semantic_map.html\")\n",
    "    fig.show()\n",
    "\n",
    "    return archetype_hulls, areas\n",
    "\n",
    "\n",
    "lakota_symbols = {\n",
    "    \"BAG\": [\n",
    "        \"bag\", \"movement\", \"storage\", \"transport\", \"physical medicine\",\n",
    "        \"spiritual medicine\", \"peace pipe\", \"healing\", \"necessity\", \"holding\",\n",
    "        \"physical travel\", \"container\", \"physical protection\", \"carrying\", \"journey\", \"food\"\n",
    "    ],\n",
    "    \"CLOUDS\": [\n",
    "        \"clouds\", \"rain\", \"spiritual connection\", \"vision\", \"spiritual knowledge\",\n",
    "        \"spirit world\", \"portal\", \"transcendence\", \"wisdom\", \"openness of the plane\", \"vastness\"\n",
    "    ],\n",
    "    \"DRAGONFLY\": [\n",
    "        \"dragonfly\", \"resilience\", \"ancient connection\", \"ancestral\", \"confirmation\",\n",
    "        \"message\", \"spiritual travel\", \"flight\", \"astral travel\", \"lightly\", \"blessing\",\n",
    "        \"patience\", \"survival\"\n",
    "    ],\n",
    "    \"EARTH\": [\n",
    "        \"earth\", \"people\", \"animals\", \"living beings\", \"plants\", \"roots\", \"mother\",\n",
    "        \"geography\", \"mountain\", \"earthly\", \"mundane\", \"physical world\", \"harmony\",\n",
    "        \"life\", \"sustainability\", \"balance\", \"grounding\", \"anchor\", \"stability\"\n",
    "    ],\n",
    "    \"FEATHER\": [\n",
    "        \"feather\", \"achievement\", \"honor\", \"bravery\", \"merit\", \"counting coup\",\n",
    "        \"courage\", \"knowledge\", \"eagle\", \"bird\", \"ceremony\", \"humbleness\", \"nobility\",\n",
    "        \"virtue\", \"valor\", \"strength\"\n",
    "    ],\n",
    "    \"HORSE TRACK\": [\n",
    "        \"horse track\", \"wealth\", \"travelling\", \"movement\", \"path\", \"motion\",\n",
    "        \"riding\", \"hunting\", \"abundance\", \"dowry\", \"generosity\", \"west\", \"mobility\"\n",
    "    ],\n",
    "    \"HOUSE\": [\n",
    "        \"house\", \"nurturing\", \"protection\", \"security\", \"home\", \"community\",\n",
    "        \"matriarchy\", \"camp\", \"family\", \"care\", \"council\", \"grandmother\", \"safety\"\n",
    "    ],\n",
    "    \"LIGHTNING\": [\n",
    "        \"lightning\", \"power\", \"thunderbird\", \"sacred clown\", \"spirituality\", \"storm\",\n",
    "        \"spiritual connection\", \"electricity\", \"west\", \"fear\", \"grandfather\", \"danger\",\n",
    "        \"goes out of the eyes of the thunderbird\"\n",
    "    ],\n",
    "    \"STAR\": [\n",
    "        \"star\", \"medicine wheel\", \"four directions\", \"north\", \"ancestral connection\",\n",
    "        \"stardust in our bones\", \"elemental\", \"extraterrestrial\", \"star people\", \"soul\",\n",
    "        \"source\", \"light\", \"outer space\", \"balance\"\n",
    "    ],\n",
    "    \"THUNDER\": [\n",
    "        \"thunder\", \"storm\", \"sound\", \"cry\", \"rain\", \"alert\", \"spirits arrival\",\n",
    "        \"humility\", \"reminder of humanness\", \"fragility\", \"vulnerability\", \"out of the mouth of the thunderbird\"\n",
    "    ]\n",
    "}\n",
    "\n",
    "\n",
    "# Map words to semantic space\n",
    "word_vectors_2d, labels, all_words, word_vectors = map_words_to_semantic_space_dynamic(lakota_symbols, dim_red=\"tsne\", perplexity=15)\n",
    "\n",
    "# Create dynamic plot\n",
    "hulls, areas = create_dynamic_plot(word_vectors_2d, labels, all_words)\n",
    "plot_archetype_heatmap(hulls)\n",
    "\n",
    "# plot areas as bar chart\n",
    "areas_ordered = {k: v for k, v in sorted(areas.items(), key=lambda item: item[1])}\n",
    "import matplotlib.pyplot as plt\n",
    "plt.figure(figsize=(10, 5))\n",
    "plt.bar(areas_ordered.keys(), areas_ordered.values())\n",
    "plt.ylabel(\"Area of Convex Hull\")\n",
    "plt.title(\"Area of Convex Hull for Each Symbol\")\n",
    "plt.tight_layout()\n",
    "plt.show()\n",
    "\n"
   ]
  },
  {
   "cell_type": "markdown",
   "metadata": {},
   "source": [
    "### Average Cosine Similarity for each Symbol"
   ]
  },
  {
   "cell_type": "code",
   "execution_count": 57,
   "metadata": {},
   "outputs": [
    {
     "data": {
      "image/png": "[encoded data removed]",
      "text/plain": [
       "<Figure size 1000x500 with 1 Axes>"
      ]
     },
     "metadata": {},
     "output_type": "display_data"
    }
   ],
   "source": [
    "from sklearn.metrics.pairwise import cosine_similarity\n",
    "import numpy as np\n",
    "\n",
    "def compute_avg_cosine_similarity(word_vectors, labels):\n",
    "    \"\"\"\n",
    "    Compute the average cosine similarity between all word vectors for the same label.\n",
    "    \n",
    "    Args:\n",
    "        word_vectors (ndarray): 2D array of word embeddings.\n",
    "        labels (list): List of labels corresponding to each word embedding.\n",
    "    \n",
    "    Returns:\n",
    "        dict: Dictionary with symbols as keys and average cosine similarity as values.\n",
    "    \"\"\"\n",
    "    \n",
    "    unique_labels = set(labels)\n",
    "    avg_cosine_similarities = {}\n",
    "    \n",
    "    for label in unique_labels:\n",
    "        # Get indices of vectors with the current label\n",
    "        indices = [i for i, lbl in enumerate(labels) if lbl == label]\n",
    "        vectors = word_vectors[indices]\n",
    "        \n",
    "        # Compute pairwise cosine similarities\n",
    "        if len(vectors) > 1:\n",
    "            cosine_sims = cosine_similarity(vectors)\n",
    "            #print(cosine_sims)\n",
    "            # Exclude diagonal elements (self-similarity)\n",
    "            upper_tri_indices = np.triu_indices_from(cosine_sims, k=1)\n",
    "            avg_cosine_sim = cosine_sims[upper_tri_indices].mean()\n",
    "        else:\n",
    "            avg_cosine_sim = 1.0  # Self-similarity for a single vector\n",
    "        \n",
    "        avg_cosine_similarities[label] = avg_cosine_sim\n",
    "    \n",
    "    return avg_cosine_similarities\n",
    "\n",
    "avg_cos_sim = compute_avg_cosine_similarity(word_vectors, labels)\n",
    "avg_cos_sim\n",
    "\n",
    "# bar plot of average cosine similarity\n",
    "import matplotlib.pyplot as plt\n",
    "avg_cos_sim_ordered = {k: v for k, v in sorted(avg_cos_sim.items(), key=lambda item: item[1])}\n",
    "plt.figure(figsize=(10, 5))\n",
    "plt.bar(avg_cos_sim_ordered.keys(), avg_cos_sim_ordered.values())\n",
    "plt.ylabel(\"Average Cosine Similarity\")\n",
    "plt.title(\"Average Cosine Similarity for Each Symbol\")\n",
    "plt.ylim(0.75, 0.9)\n",
    "plt.tight_layout()\n",
    "plt.show()\n"
   ]
  },
  {
   "cell_type": "markdown",
   "metadata": {},
   "source": [
    "## Embedding generation"
   ]
  },
  {
   "cell_type": "code",
   "execution_count": 3,
   "metadata": {},
   "outputs": [
    {
     "name": "stdout",
     "output_type": "stream",
     "text": [
      "Mean embeddings saved to mean_embeddings\\openai_clip_vit_base_patch32_mean_embeddings.csv\n",
      "Max embeddings saved to max_embeddings\\openai_clip_vit_base_patch32_max_embeddings.csv\n",
      "Mean embeddings saved to mean_embeddings\\openai_clip_vit_large_patch14_mean_embeddings.csv\n",
      "Max embeddings saved to max_embeddings\\openai_clip_vit_large_patch14_max_embeddings.csv\n",
      "Mean embeddings saved to mean_embeddings\\laion_CLIP_ViT_H_14_laion2B_s32B_b79K_mean_embeddings.csv\n",
      "Max embeddings saved to max_embeddings\\laion_CLIP_ViT_H_14_laion2B_s32B_b79K_max_embeddings.csv\n",
      "Mean embeddings saved to mean_embeddings\\all_MiniLM_L6_v2_mean_embeddings.csv\n",
      "Max embeddings saved to max_embeddings\\all_MiniLM_L6_v2_max_embeddings.csv\n"
     ]
    }
   ],
   "source": [
    "import numpy as np\n",
    "import pandas as pd\n",
    "from transformers import CLIPTokenizer, CLIPModel\n",
    "from sentence_transformers import SentenceTransformer\n",
    "import torch\n",
    "import os\n",
    "\n",
    "def compute_symbol_embeddings_separate(word_dict, model_name, \n",
    "                                       output_mean_dir=\"mean_embeddings\", \n",
    "                                       output_max_dir=\"max_embeddings\"):\n",
    "    \"\"\"\n",
    "    Compute one embedding per symbol using mean pooling and max pooling.\n",
    "    Saves the embeddings as two separate CSV files for each model.\n",
    "    \"\"\"\n",
    "    # Determine the type of model\n",
    "    if \"clip\" in model_name.lower():\n",
    "        # Load CLIP model and tokenizer\n",
    "        tokenizer = CLIPTokenizer.from_pretrained(model_name)\n",
    "        model = CLIPModel.from_pretrained(model_name)\n",
    "        use_clip = True\n",
    "    else:\n",
    "        # Load SentenceTransformer model\n",
    "        model = SentenceTransformer(model_name)\n",
    "        use_clip = False\n",
    "    \n",
    "    # Lists to store embeddings\n",
    "    mean_embeddings = []\n",
    "    max_embeddings = []\n",
    "    symbol_names = []\n",
    "    \n",
    "    # Compute embeddings for each symbol\n",
    "    for symbol, words in word_dict.items():\n",
    "        word_vectors = []\n",
    "        for word in words:\n",
    "            if use_clip:\n",
    "                # Tokenize and compute embedding using CLIP\n",
    "                tokenized = tokenizer(word, return_tensors=\"pt\", padding=True, truncation=True)\n",
    "                with torch.no_grad():\n",
    "                    embedding = model.get_text_features(**tokenized)\n",
    "                word_vectors.append(embedding.squeeze(0).numpy())\n",
    "            else:\n",
    "                # Compute embedding using SentenceTransformer\n",
    "                embedding = model.encode(word)\n",
    "                word_vectors.append(embedding)\n",
    "            \n",
    "        word_vectors = np.array(word_vectors)  # Convert to numpy array\n",
    "        mean_vector = word_vectors.mean(axis=0)  # Mean pooling\n",
    "        max_vector = word_vectors.max(axis=0)   # Max pooling\n",
    "        \n",
    "        # Append to lists\n",
    "        mean_embeddings.append(mean_vector)\n",
    "        max_embeddings.append(max_vector)\n",
    "        symbol_names.append(symbol)\n",
    "    \n",
    "    # Convert to 2D NumPy arrays\n",
    "    mean_embeddings = np.array(mean_embeddings)  # Shape: (symbols, dimensions)\n",
    "    max_embeddings = np.array(max_embeddings)\n",
    "    \n",
    "    # Ensure output directories exist\n",
    "    os.makedirs(output_mean_dir, exist_ok=True)\n",
    "    os.makedirs(output_max_dir, exist_ok=True)\n",
    "    \n",
    "    # Construct output filenames\n",
    "    sanitized_model_name = model_name.replace('/', '_').replace('-', '_')\n",
    "    mean_csv_filename = os.path.join(output_mean_dir, f\"{sanitized_model_name}_mean_embeddings.csv\")\n",
    "    max_csv_filename = os.path.join(output_max_dir, f\"{sanitized_model_name}_max_embeddings.csv\")\n",
    "    \n",
    "    # Save as CSV\n",
    "    pd.DataFrame(mean_embeddings).to_csv(mean_csv_filename, index=False, header=False, float_format=\"%.8f\")\n",
    "    pd.DataFrame(max_embeddings).to_csv(max_csv_filename, index=False, header=False, float_format=\"%.8f\")\n",
    "    \n",
    "    print(f\"Mean embeddings saved to {mean_csv_filename}\")\n",
    "    print(f\"Max embeddings saved to {max_csv_filename}\")\n",
    "\n",
    "# List of models\n",
    "model_choices = [\n",
    "    \"openai/clip-vit-base-patch32\",\n",
    "    \"openai/clip-vit-large-patch14\",\n",
    "    \"laion/CLIP-ViT-H-14-laion2B-s32B-b79K\",\n",
    "    \"all-MiniLM-L6-v2\"\n",
    "]\n",
    "\n",
    "# Output directories\n",
    "output_mean_dir = \"mean_embeddings\"\n",
    "output_max_dir = \"max_embeddings\"\n",
    "\n",
    "# Loop over models\n",
    "for model_name in model_choices:\n",
    "    compute_symbol_embeddings_separate(\n",
    "        lakota_symbols,\n",
    "        model_name=model_name,\n",
    "        output_mean_dir=output_mean_dir,\n",
    "        output_max_dir=output_max_dir\n",
    "    )\n"
   ]
  },
  {
   "cell_type": "code",
   "execution_count": 3,
   "metadata": {},
   "outputs": [
    {
     "data": {
      "image/png": "[encoded data removed]",
      "text/plain": [
       "<Figure size 1000x800 with 1 Axes>"
      ]
     },
     "metadata": {},
     "output_type": "display_data"
    },
    {
     "data": {
      "image/png": "[encoded data removed]",
      "text/plain": [
       "<Figure size 1000x800 with 1 Axes>"
      ]
     },
     "metadata": {},
     "output_type": "display_data"
    },
    {
     "data": {
      "image/png": "[encoded data removed]",
      "text/plain": [
       "<Figure size 1000x800 with 1 Axes>"
      ]
     },
     "metadata": {},
     "output_type": "display_data"
    },
    {
     "data": {
      "image/png": "[encoded data removed]",
      "text/plain": [
       "<Figure size 1000x800 with 1 Axes>"
      ]
     },
     "metadata": {},
     "output_type": "display_data"
    },
    {
     "data": {
      "image/png": "[encoded data removed]",
      "text/plain": [
       "<Figure size 1000x800 with 1 Axes>"
      ]
     },
     "metadata": {},
     "output_type": "display_data"
    },
    {
     "data": {
      "image/png": "[encoded data removed]",
      "text/plain": [
       "<Figure size 1000x800 with 1 Axes>"
      ]
     },
     "metadata": {},
     "output_type": "display_data"
    },
    {
     "data": {
      "image/png": "[encoded data removed]",
      "text/plain": [
       "<Figure size 1000x800 with 1 Axes>"
      ]
     },
     "metadata": {},
     "output_type": "display_data"
    },
    {
     "data": {
      "image/png": "[encoded data removed]",
      "text/plain": [
       "<Figure size 1000x800 with 1 Axes>"
      ]
     },
     "metadata": {},
     "output_type": "display_data"
    }
   ],
   "source": [
    "import numpy as np\n",
    "import pandas as pd\n",
    "import matplotlib.pyplot as plt\n",
    "from sklearn.manifold import TSNE\n",
    "import os\n",
    "\n",
    "# Labels for the symbols in order\n",
    "symbol_labels = [\n",
    "    \"BAG\", \"CLOUDS\", \"DRAGONFLY\", \"EARTH\", \"FEATHER\", \n",
    "    \"HORSE TRACK\", \"HOUSE\", \"LIGHTNING\", \"STAR\", \"THUNDER\"\n",
    "]\n",
    "\n",
    "def plot_tsne(embeddings, labels, title, output_path, perplexity=30, n_iter=1000):\n",
    "    \"\"\"\n",
    "    Perform t-SNE and plot the 2D results.\n",
    "    \n",
    "    Args:\n",
    "        embeddings (ndarray): Embedding vectors.\n",
    "        labels (list): Labels for the embeddings.\n",
    "        title (str): Title of the plot.\n",
    "        output_path (str): Path to save the plot.\n",
    "        perplexity (int): t-SNE perplexity parameter.\n",
    "        n_iter (int): Number of iterations for t-SNE optimization.\n",
    "    \"\"\"\n",
    "    # Perform t-SNE\n",
    "    tsne = TSNE(n_components=2, perplexity=perplexity, n_iter=n_iter, random_state=42)\n",
    "    tsne_results = tsne.fit_transform(embeddings)\n",
    "    \n",
    "    # Plot the t-SNE results\n",
    "    plt.figure(figsize=(10, 8))\n",
    "    for i, label in enumerate(labels):\n",
    "        plt.scatter(tsne_results[i, 0], tsne_results[i, 1], label=label, alpha=0.8, s=100)\n",
    "        plt.text(tsne_results[i, 0], tsne_results[i, 1], label, fontsize=9)\n",
    "    \n",
    "    plt.title(title)\n",
    "    plt.xlabel(\"t-SNE Dimension 1\")\n",
    "    plt.ylabel(\"t-SNE Dimension 2\")\n",
    "    plt.grid(alpha=0.3)\n",
    "    plt.savefig(output_path)\n",
    "    plt.show()\n",
    "\n",
    "\n",
    "def load_and_plot_tsne_separate(mean_dir, max_dir, model_names, perplexity=30, n_iter=1000):\n",
    "    \"\"\"\n",
    "    Load mean and max embedding files and create separate t-SNE plots for each.\n",
    "    \n",
    "    Args:\n",
    "        mean_dir (str): Directory containing mean embedding CSV files.\n",
    "        max_dir (str): Directory containing max embedding CSV files.\n",
    "        model_names (list): List of model names used for embeddings.\n",
    "        perplexity (int): t-SNE perplexity parameter.\n",
    "        n_iter (int): Number of iterations for t-SNE optimization.\n",
    "    \"\"\"\n",
    "    for model_name in model_names:\n",
    "        # Load mean and max embeddings\n",
    "        sanitized_model_name = model_name.replace('/', '_').replace('-', '_')\n",
    "        mean_csv = os.path.join(mean_dir, f\"{sanitized_model_name}_mean_embeddings.csv\")\n",
    "        max_csv = os.path.join(max_dir, f\"{sanitized_model_name}_max_embeddings.csv\")\n",
    "        \n",
    "        if not os.path.exists(mean_csv) or not os.path.exists(max_csv):\n",
    "            print(f\"Files not found for model: {model_name}. Skipping...\")\n",
    "            continue\n",
    "        \n",
    "        mean_embeddings = pd.read_csv(mean_csv, header=None).values\n",
    "        max_embeddings = pd.read_csv(max_csv, header=None).values\n",
    "        \n",
    "        # Plot t-SNE for mean embeddings\n",
    "        plot_tsne(\n",
    "            embeddings=mean_embeddings,\n",
    "            labels=symbol_labels,\n",
    "            title=f\"t-SNE for Mean Embeddings ({model_name})\",\n",
    "            output_path=f\"tsne_mean_{sanitized_model_name}.png\",\n",
    "            perplexity=perplexity,\n",
    "            n_iter=n_iter\n",
    "        )\n",
    "        \n",
    "        # Plot t-SNE for max embeddings\n",
    "        plot_tsne(\n",
    "            embeddings=max_embeddings,\n",
    "            labels=symbol_labels,\n",
    "            title=f\"t-SNE for Max Embeddings ({model_name})\",\n",
    "            output_path=f\"tsne_max_{sanitized_model_name}.png\",\n",
    "            perplexity=perplexity,\n",
    "            n_iter=n_iter\n",
    "        )\n",
    "\n",
    "\n",
    "# Example Usage\n",
    "mean_dir = \"mean_embeddings\"\n",
    "max_dir = \"max_embeddings\"\n",
    "model_names = [\n",
    "    \"openai/clip-vit-base-patch32\",\n",
    "    \"openai/clip-vit-large-patch14\",\n",
    "    \"laion/CLIP-ViT-H-14-laion2B-s32B-b79K\",\n",
    "    \"all-MiniLM-L6-v2\"\n",
    "]\n",
    "\n",
    "load_and_plot_tsne_separate(mean_dir, max_dir, model_names, perplexity=5, n_iter=1000)\n"
   ]
  },
  {
   "cell_type": "code",
   "execution_count": 4,
   "metadata": {},
   "outputs": [
    {
     "data": {
      "image/png": "[encoded data removed]",
      "text/plain": [
       "<Figure size 1000x800 with 1 Axes>"
      ]
     },
     "metadata": {},
     "output_type": "display_data"
    }
   ],
   "source": [
    "from transformers import CLIPTokenizer, CLIPModel\n",
    "from sentence_transformers import SentenceTransformer\n",
    "import numpy as np\n",
    "import pandas as pd\n",
    "import matplotlib.pyplot as plt\n",
    "from sklearn.manifold import TSNE\n",
    "import os\n",
    "import torch\n",
    "\n",
    "# Labels for the symbols in order, including MY_DREAM\n",
    "symbol_labels = [\n",
    "    \"BAG\", \"CLOUDS\", \"DRAGONFLY\", \"EARTH\", \"FEATHER\", \n",
    "    \"HORSE TRACK\", \"HOUSE\", \"LIGHTNING\", \"STAR\", \"THUNDER\", \"MY_DREAM\"\n",
    "]\n",
    "\n",
    "# Define the dream sentence\n",
    "dream_sentence = \"I was the leader of the tribe, guiding my people with wisdom and courage.\"\n",
    "\n",
    "def compute_dream_embedding(model_name, sentence, model_type=\"CLIP\"):\n",
    "    \"\"\"\n",
    "    Compute the embedding for the dream sentence using the specified model.\n",
    "    \n",
    "    Args:\n",
    "        model_name (str): Name of the model.\n",
    "        sentence (str): Dream sentence to embed.\n",
    "        model_type (str): Type of the model (\"CLIP\" or \"SBERT\").\n",
    "    \n",
    "    Returns:\n",
    "        np.ndarray: Embedding vector for the sentence.\n",
    "    \"\"\"\n",
    "    if model_type == \"CLIP\":\n",
    "        tokenizer = CLIPTokenizer.from_pretrained(model_name)\n",
    "        model = CLIPModel.from_pretrained(model_name)\n",
    "        tokenized = tokenizer(sentence, return_tensors=\"pt\", padding=True, truncation=True)\n",
    "        with torch.no_grad():\n",
    "            embedding = model.get_text_features(**tokenized).squeeze(0).numpy()\n",
    "    elif model_type == \"SBERT\":\n",
    "        model = SentenceTransformer(model_name)\n",
    "        embedding = model.encode(sentence)\n",
    "    else:\n",
    "        raise ValueError(\"Invalid model_type. Choose 'CLIP' or 'SBERT'.\")\n",
    "    return embedding\n",
    "\n",
    "\n",
    "def plot_tsne_with_dream(mean_embeddings, dream_embedding, labels, title, output_path, perplexity=30, n_iter=1000):\n",
    "    \"\"\"\n",
    "    Perform t-SNE and plot the 2D results, including the dream embedding.\n",
    "    \n",
    "    Args:\n",
    "        mean_embeddings (ndarray): Mean embedding vectors for symbols.\n",
    "        dream_embedding (ndarray): Embedding vector for the dream.\n",
    "        labels (list): Labels for the embeddings.\n",
    "        title (str): Title of the plot.\n",
    "        output_path (str): Path to save the plot.\n",
    "        perplexity (int): t-SNE perplexity parameter.\n",
    "        n_iter (int): Number of iterations for t-SNE optimization.\n",
    "    \"\"\"\n",
    "    # Add the dream embedding to the mean embeddings\n",
    "    all_embeddings = np.vstack([mean_embeddings, dream_embedding])\n",
    "    \n",
    "    # Perform t-SNE\n",
    "    tsne = TSNE(n_components=2, perplexity=perplexity, n_iter=n_iter, random_state=42)\n",
    "    tsne_results = tsne.fit_transform(all_embeddings)\n",
    "    \n",
    "    # Plot the t-SNE results\n",
    "    plt.figure(figsize=(10, 8))\n",
    "    for i, label in enumerate(labels):\n",
    "        if label == \"MY_DREAM\":\n",
    "            plt.scatter(tsne_results[i, 0], tsne_results[i, 1], label=label, alpha=1.0, s=150, c=\"red\")\n",
    "        else:\n",
    "            plt.scatter(tsne_results[i, 0], tsne_results[i, 1], label=label, alpha=0.8, s=100)\n",
    "            plt.text(tsne_results[i, 0], tsne_results[i, 1], label, fontsize=9)\n",
    "    \n",
    "    plt.title(title)\n",
    "    plt.xlabel(\"t-SNE Dimension 1\")\n",
    "    plt.ylabel(\"t-SNE Dimension 2\")\n",
    "    plt.grid(alpha=0.3)\n",
    "    plt.legend()\n",
    "    plt.savefig(output_path)\n",
    "    plt.show()\n",
    "\n",
    "\n",
    "def load_and_plot_tsne_with_dream(mean_dir, model_name, dream_sentence, model_type=\"CLIP\", perplexity=30, n_iter=1000):\n",
    "    \"\"\"\n",
    "    Load mean embedding file, compute dream embedding, and create a t-SNE plot with the dream included.\n",
    "    \n",
    "    Args:\n",
    "        mean_dir (str): Directory containing mean embedding CSV files.\n",
    "        model_name (str): Name of the model to use.\n",
    "        dream_sentence (str): Dream sentence to embed.\n",
    "        model_type (str): Type of the model (\"CLIP\" or \"SBERT\").\n",
    "        perplexity (int): t-SNE perplexity parameter.\n",
    "        n_iter (int): Number of iterations for t-SNE optimization.\n",
    "    \n",
    "    Returns:\n",
    "        None\n",
    "    \"\"\"\n",
    "    # Load mean embeddings\n",
    "    sanitized_model_name = model_name.replace('/', '_').replace('-', '_')\n",
    "    mean_csv = os.path.join(mean_dir, f\"{sanitized_model_name}_mean_embeddings.csv\")\n",
    "    \n",
    "    if not os.path.exists(mean_csv):\n",
    "        print(f\"Mean embedding file not found for model: {model_name}. Skipping...\")\n",
    "        return\n",
    "    \n",
    "    mean_embeddings = pd.read_csv(mean_csv, header=None).values\n",
    "    \n",
    "    # Compute the embedding for the dream\n",
    "    dream_embedding = compute_dream_embedding(model_name, dream_sentence, model_type)\n",
    "    \n",
    "    # Plot t-SNE with the dream embedding\n",
    "    plot_tsne_with_dream(\n",
    "        mean_embeddings=mean_embeddings,\n",
    "        dream_embedding=dream_embedding,\n",
    "        labels=symbol_labels,\n",
    "        title=f\"t-SNE for Mean Embeddings with Dream ({model_name}, {model_type})\",\n",
    "        output_path=f\"tsne_mean_with_dream_{sanitized_model_name}_{model_type}.png\",\n",
    "        perplexity=perplexity,\n",
    "        n_iter=n_iter\n",
    "    )\n",
    "\n",
    "\n",
    "# Example Usage for CLIP\n",
    "mean_dir = \"mean_embeddings\"\n",
    "clip_model_name = \"openai/clip-vit-base-patch32\"\n",
    "\n",
    "# load_and_plot_tsne_with_dream(\n",
    "#     mean_dir=mean_dir,\n",
    "#     model_name=clip_model_name,\n",
    "#     dream_sentence=dream_sentence,\n",
    "#     model_type=\"CLIP\",\n",
    "#     perplexity=5,\n",
    "#     n_iter=1000\n",
    "# )\n",
    "\n",
    "# Example Usage for SBERT\n",
    "sbert_model_name = \"all-MiniLM-L6-v2\"\n",
    "\n",
    "load_and_plot_tsne_with_dream(\n",
    "    mean_dir=mean_dir,\n",
    "    model_name=sbert_model_name,\n",
    "    dream_sentence=dream_sentence,\n",
    "    model_type=\"SBERT\",\n",
    "    perplexity=5,\n",
    "    n_iter=1000\n",
    ")\n"
   ]
  },
  {
   "cell_type": "code",
   "execution_count": 5,
   "metadata": {},
   "outputs": [
    {
     "data": {
      "application/vnd.plotly.v1+json": {
       "config": {
        "plotlyServerURL": "https://plot.ly"
       },
       "data": [
        {
         "marker": {
          "color": "#1f77b4",
          "opacity": 0.8,
          "size": 5
         },
         "mode": "markers+text",
         "name": "BAG",
         "text": [
          "BAG"
         ],
         "textposition": "top center",
         "type": "scatter3d",
         "x": [
          -61.23697280883789
         ],
         "y": [
          259.3761901855469
         ],
         "z": [
          35.67235565185547
         ]
        },
        {
         "marker": {
          "color": "#ff7f0e",
          "opacity": 0.8,
          "size": 5
         },
         "mode": "markers+text",
         "name": "CLOUDS",
         "text": [
          "CLOUDS"
         ],
         "textposition": "top center",
         "type": "scatter3d",
         "x": [
          81.52203369140625
         ],
         "y": [
          -15.941121101379395
         ],
         "z": [
          237.2938995361328
         ]
        },
        {
         "marker": {
          "color": "#2ca02c",
          "opacity": 0.8,
          "size": 5
         },
         "mode": "markers+text",
         "name": "DRAGONFLY",
         "text": [
          "DRAGONFLY"
         ],
         "textposition": "top center",
         "type": "scatter3d",
         "x": [
          85.08370971679688
         ],
         "y": [
          -17.05862808227539
         ],
         "z": [
          89.62006378173828
         ]
        },
        {
         "marker": {
          "color": "#d62728",
          "opacity": 0.8,
          "size": 5
         },
         "mode": "markers+text",
         "name": "EARTH",
         "text": [
          "EARTH"
         ],
         "textposition": "top center",
         "type": "scatter3d",
         "x": [
          -85.8766098022461
         ],
         "y": [
          -155.34690856933594
         ],
         "z": [
          18.47797966003418
         ]
        },
        {
         "marker": {
          "color": "#9467bd",
          "opacity": 0.8,
          "size": 5
         },
         "mode": "markers+text",
         "name": "FEATHER",
         "text": [
          "FEATHER"
         ],
         "textposition": "top center",
         "type": "scatter3d",
         "x": [
          151.91986083984375
         ],
         "y": [
          40.71214294433594
         ],
         "z": [
          -205.8857879638672
         ]
        },
        {
         "marker": {
          "color": "#8c564b",
          "opacity": 0.8,
          "size": 5
         },
         "mode": "markers+text",
         "name": "HORSE TRACK",
         "text": [
          "HORSE TRACK"
         ],
         "textposition": "top center",
         "type": "scatter3d",
         "x": [
          68.9256820678711
         ],
         "y": [
          -186.4954833984375
         ],
         "z": [
          -22.80486488342285
         ]
        },
        {
         "marker": {
          "color": "#e377c2",
          "opacity": 0.8,
          "size": 5
         },
         "mode": "markers+text",
         "name": "HOUSE",
         "text": [
          "HOUSE"
         ],
         "textposition": "top center",
         "type": "scatter3d",
         "x": [
          73.67401123046875
         ],
         "y": [
          -7.837490558624268
         ],
         "z": [
          -71.4568099975586
         ]
        },
        {
         "marker": {
          "color": "#7f7f7f",
          "opacity": 0.8,
          "size": 5
         },
         "mode": "markers+text",
         "name": "LIGHTNING",
         "text": [
          "LIGHTNING"
         ],
         "textposition": "top center",
         "type": "scatter3d",
         "x": [
          -67.18936157226562
         ],
         "y": [
          -38.137474060058594
         ],
         "z": [
          142.9695587158203
         ]
        },
        {
         "marker": {
          "color": "#bcbd22",
          "opacity": 0.8,
          "size": 5
         },
         "mode": "markers+text",
         "name": "STAR",
         "text": [
          "STAR"
         ],
         "textposition": "top center",
         "type": "scatter3d",
         "x": [
          -39.9355583190918
         ],
         "y": [
          115.76642608642578
         ],
         "z": [
          112.21080017089844
         ]
        },
        {
         "marker": {
          "color": "#17becf",
          "opacity": 0.8,
          "size": 5
         },
         "mode": "markers+text",
         "name": "THUNDER",
         "text": [
          "THUNDER"
         ],
         "textposition": "top center",
         "type": "scatter3d",
         "x": [
          -90.16064453125
         ],
         "y": [
          7.980720043182373
         ],
         "z": [
          -8.50040054321289
         ]
        },
        {
         "marker": {
          "color": "#d62728",
          "opacity": 1,
          "size": 25
         },
         "mode": "markers+text",
         "name": "MY_DREAM",
         "text": [
          "MY_DREAM"
         ],
         "textposition": "top center",
         "type": "scatter3d",
         "x": [
          -133.7056121826172
         ],
         "y": [
          59.960655212402344
         ],
         "z": [
          -178.21534729003906
         ]
        },
        {
         "line": {
          "color": "red",
          "dash": "dash",
          "width": 2
         },
         "mode": "lines",
         "showlegend": false,
         "type": "scatter3d",
         "x": [
          -133.7056121826172,
          -90.16064453125
         ],
         "y": [
          59.960655212402344,
          7.980720043182373
         ],
         "z": [
          -178.21534729003906,
          -8.50040054321289
         ]
        },
        {
         "line": {
          "color": "red",
          "dash": "dash",
          "width": 2
         },
         "mode": "lines",
         "showlegend": false,
         "type": "scatter3d",
         "x": [
          -133.7056121826172,
          73.67401123046875
         ],
         "y": [
          59.960655212402344,
          -7.837490558624268
         ],
         "z": [
          -178.21534729003906,
          -71.4568099975586
         ]
        },
        {
         "line": {
          "color": "red",
          "dash": "dash",
          "width": 2
         },
         "mode": "lines",
         "showlegend": false,
         "type": "scatter3d",
         "x": [
          -133.7056121826172,
          151.91986083984375
         ],
         "y": [
          59.960655212402344,
          40.71214294433594
         ],
         "z": [
          -178.21534729003906,
          -205.8857879638672
         ]
        }
       ],
       "layout": {
        "margin": {
         "b": 0,
         "l": 0,
         "r": 0,
         "t": 40
        },
        "scene": {
         "xaxis": {
          "showbackground": false,
          "showgrid": false,
          "title": {
           "text": "t-SNE Dimension 1"
          },
          "zeroline": false
         },
         "yaxis": {
          "showbackground": false,
          "showgrid": false,
          "title": {
           "text": "t-SNE Dimension 2"
          },
          "zeroline": false
         },
         "zaxis": {
          "showbackground": false,
          "showgrid": false,
          "title": {
           "text": "t-SNE Dimension 3"
          },
          "zeroline": false
         }
        },
        "template": {
         "data": {
          "bar": [
           {
            "error_x": {
             "color": "#2a3f5f"
            },
            "error_y": {
             "color": "#2a3f5f"
            },
            "marker": {
             "line": {
              "color": "#E5ECF6",
              "width": 0.5
             },
             "pattern": {
              "fillmode": "overlay",
              "size": 10,
              "solidity": 0.2
             }
            },
            "type": "bar"
           }
          ],
          "barpolar": [
           {
            "marker": {
             "line": {
              "color": "#E5ECF6",
              "width": 0.5
             },
             "pattern": {
              "fillmode": "overlay",
              "size": 10,
              "solidity": 0.2
             }
            },
            "type": "barpolar"
           }
          ],
          "carpet": [
           {
            "aaxis": {
             "endlinecolor": "#2a3f5f",
             "gridcolor": "white",
             "linecolor": "white",
             "minorgridcolor": "white",
             "startlinecolor": "#2a3f5f"
            },
            "baxis": {
             "endlinecolor": "#2a3f5f",
             "gridcolor": "white",
             "linecolor": "white",
             "minorgridcolor": "white",
             "startlinecolor": "#2a3f5f"
            },
            "type": "carpet"
           }
          ],
          "choropleth": [
           {
            "colorbar": {
             "outlinewidth": 0,
             "ticks": ""
            },
            "type": "choropleth"
           }
          ],
          "contour": [
           {
            "colorbar": {
             "outlinewidth": 0,
             "ticks": ""
            },
            "colorscale": [
             [
              0,
              "#0d0887"
             ],
             [
              0.1111111111111111,
              "#46039f"
             ],
             [
              0.2222222222222222,
              "#7201a8"
             ],
             [
              0.3333333333333333,
              "#9c179e"
             ],
             [
              0.4444444444444444,
              "#bd3786"
             ],
             [
              0.5555555555555556,
              "#d8576b"
             ],
             [
              0.6666666666666666,
              "#ed7953"
             ],
             [
              0.7777777777777778,
              "#fb9f3a"
             ],
             [
              0.8888888888888888,
              "#fdca26"
             ],
             [
              1,
              "#f0f921"
             ]
            ],
            "type": "contour"
           }
          ],
          "contourcarpet": [
           {
            "colorbar": {
             "outlinewidth": 0,
             "ticks": ""
            },
            "type": "contourcarpet"
           }
          ],
          "heatmap": [
           {
            "colorbar": {
             "outlinewidth": 0,
             "ticks": ""
            },
            "colorscale": [
             [
              0,
              "#0d0887"
             ],
             [
              0.1111111111111111,
              "#46039f"
             ],
             [
              0.2222222222222222,
              "#7201a8"
             ],
             [
              0.3333333333333333,
              "#9c179e"
             ],
             [
              0.4444444444444444,
              "#bd3786"
             ],
             [
              0.5555555555555556,
              "#d8576b"
             ],
             [
              0.6666666666666666,
              "#ed7953"
             ],
             [
              0.7777777777777778,
              "#fb9f3a"
             ],
             [
              0.8888888888888888,
              "#fdca26"
             ],
             [
              1,
              "#f0f921"
             ]
            ],
            "type": "heatmap"
           }
          ],
          "heatmapgl": [
           {
            "colorbar": {
             "outlinewidth": 0,
             "ticks": ""
            },
            "colorscale": [
             [
              0,
              "#0d0887"
             ],
             [
              0.1111111111111111,
              "#46039f"
             ],
             [
              0.2222222222222222,
              "#7201a8"
             ],
             [
              0.3333333333333333,
              "#9c179e"
             ],
             [
              0.4444444444444444,
              "#bd3786"
             ],
             [
              0.5555555555555556,
              "#d8576b"
             ],
             [
              0.6666666666666666,
              "#ed7953"
             ],
             [
              0.7777777777777778,
              "#fb9f3a"
             ],
             [
              0.8888888888888888,
              "#fdca26"
             ],
             [
              1,
              "#f0f921"
             ]
            ],
            "type": "heatmapgl"
           }
          ],
          "histogram": [
           {
            "marker": {
             "pattern": {
              "fillmode": "overlay",
              "size": 10,
              "solidity": 0.2
             }
            },
            "type": "histogram"
           }
          ],
          "histogram2d": [
           {
            "colorbar": {
             "outlinewidth": 0,
             "ticks": ""
            },
            "colorscale": [
             [
              0,
              "#0d0887"
             ],
             [
              0.1111111111111111,
              "#46039f"
             ],
             [
              0.2222222222222222,
              "#7201a8"
             ],
             [
              0.3333333333333333,
              "#9c179e"
             ],
             [
              0.4444444444444444,
              "#bd3786"
             ],
             [
              0.5555555555555556,
              "#d8576b"
             ],
             [
              0.6666666666666666,
              "#ed7953"
             ],
             [
              0.7777777777777778,
              "#fb9f3a"
             ],
             [
              0.8888888888888888,
              "#fdca26"
             ],
             [
              1,
              "#f0f921"
             ]
            ],
            "type": "histogram2d"
           }
          ],
          "histogram2dcontour": [
           {
            "colorbar": {
             "outlinewidth": 0,
             "ticks": ""
            },
            "colorscale": [
             [
              0,
              "#0d0887"
             ],
             [
              0.1111111111111111,
              "#46039f"
             ],
             [
              0.2222222222222222,
              "#7201a8"
             ],
             [
              0.3333333333333333,
              "#9c179e"
             ],
             [
              0.4444444444444444,
              "#bd3786"
             ],
             [
              0.5555555555555556,
              "#d8576b"
             ],
             [
              0.6666666666666666,
              "#ed7953"
             ],
             [
              0.7777777777777778,
              "#fb9f3a"
             ],
             [
              0.8888888888888888,
              "#fdca26"
             ],
             [
              1,
              "#f0f921"
             ]
            ],
            "type": "histogram2dcontour"
           }
          ],
          "mesh3d": [
           {
            "colorbar": {
             "outlinewidth": 0,
             "ticks": ""
            },
            "type": "mesh3d"
           }
          ],
          "parcoords": [
           {
            "line": {
             "colorbar": {
              "outlinewidth": 0,
              "ticks": ""
             }
            },
            "type": "parcoords"
           }
          ],
          "pie": [
           {
            "automargin": true,
            "type": "pie"
           }
          ],
          "scatter": [
           {
            "fillpattern": {
             "fillmode": "overlay",
             "size": 10,
             "solidity": 0.2
            },
            "type": "scatter"
           }
          ],
          "scatter3d": [
           {
            "line": {
             "colorbar": {
              "outlinewidth": 0,
              "ticks": ""
             }
            },
            "marker": {
             "colorbar": {
              "outlinewidth": 0,
              "ticks": ""
             }
            },
            "type": "scatter3d"
           }
          ],
          "scattercarpet": [
           {
            "marker": {
             "colorbar": {
              "outlinewidth": 0,
              "ticks": ""
             }
            },
            "type": "scattercarpet"
           }
          ],
          "scattergeo": [
           {
            "marker": {
             "colorbar": {
              "outlinewidth": 0,
              "ticks": ""
             }
            },
            "type": "scattergeo"
           }
          ],
          "scattergl": [
           {
            "marker": {
             "colorbar": {
              "outlinewidth": 0,
              "ticks": ""
             }
            },
            "type": "scattergl"
           }
          ],
          "scattermapbox": [
           {
            "marker": {
             "colorbar": {
              "outlinewidth": 0,
              "ticks": ""
             }
            },
            "type": "scattermapbox"
           }
          ],
          "scatterpolar": [
           {
            "marker": {
             "colorbar": {
              "outlinewidth": 0,
              "ticks": ""
             }
            },
            "type": "scatterpolar"
           }
          ],
          "scatterpolargl": [
           {
            "marker": {
             "colorbar": {
              "outlinewidth": 0,
              "ticks": ""
             }
            },
            "type": "scatterpolargl"
           }
          ],
          "scatterternary": [
           {
            "marker": {
             "colorbar": {
              "outlinewidth": 0,
              "ticks": ""
             }
            },
            "type": "scatterternary"
           }
          ],
          "surface": [
           {
            "colorbar": {
             "outlinewidth": 0,
             "ticks": ""
            },
            "colorscale": [
             [
              0,
              "#0d0887"
             ],
             [
              0.1111111111111111,
              "#46039f"
             ],
             [
              0.2222222222222222,
              "#7201a8"
             ],
             [
              0.3333333333333333,
              "#9c179e"
             ],
             [
              0.4444444444444444,
              "#bd3786"
             ],
             [
              0.5555555555555556,
              "#d8576b"
             ],
             [
              0.6666666666666666,
              "#ed7953"
             ],
             [
              0.7777777777777778,
              "#fb9f3a"
             ],
             [
              0.8888888888888888,
              "#fdca26"
             ],
             [
              1,
              "#f0f921"
             ]
            ],
            "type": "surface"
           }
          ],
          "table": [
           {
            "cells": {
             "fill": {
              "color": "#EBF0F8"
             },
             "line": {
              "color": "white"
             }
            },
            "header": {
             "fill": {
              "color": "#C8D4E3"
             },
             "line": {
              "color": "white"
             }
            },
            "type": "table"
           }
          ]
         },
         "layout": {
          "annotationdefaults": {
           "arrowcolor": "#2a3f5f",
           "arrowhead": 0,
           "arrowwidth": 1
          },
          "autotypenumbers": "strict",
          "coloraxis": {
           "colorbar": {
            "outlinewidth": 0,
            "ticks": ""
           }
          },
          "colorscale": {
           "diverging": [
            [
             0,
             "#8e0152"
            ],
            [
             0.1,
             "#c51b7d"
            ],
            [
             0.2,
             "#de77ae"
            ],
            [
             0.3,
             "#f1b6da"
            ],
            [
             0.4,
             "#fde0ef"
            ],
            [
             0.5,
             "#f7f7f7"
            ],
            [
             0.6,
             "#e6f5d0"
            ],
            [
             0.7,
             "#b8e186"
            ],
            [
             0.8,
             "#7fbc41"
            ],
            [
             0.9,
             "#4d9221"
            ],
            [
             1,
             "#276419"
            ]
           ],
           "sequential": [
            [
             0,
             "#0d0887"
            ],
            [
             0.1111111111111111,
             "#46039f"
            ],
            [
             0.2222222222222222,
             "#7201a8"
            ],
            [
             0.3333333333333333,
             "#9c179e"
            ],
            [
             0.4444444444444444,
             "#bd3786"
            ],
            [
             0.5555555555555556,
             "#d8576b"
            ],
            [
             0.6666666666666666,
             "#ed7953"
            ],
            [
             0.7777777777777778,
             "#fb9f3a"
            ],
            [
             0.8888888888888888,
             "#fdca26"
            ],
            [
             1,
             "#f0f921"
            ]
           ],
           "sequentialminus": [
            [
             0,
             "#0d0887"
            ],
            [
             0.1111111111111111,
             "#46039f"
            ],
            [
             0.2222222222222222,
             "#7201a8"
            ],
            [
             0.3333333333333333,
             "#9c179e"
            ],
            [
             0.4444444444444444,
             "#bd3786"
            ],
            [
             0.5555555555555556,
             "#d8576b"
            ],
            [
             0.6666666666666666,
             "#ed7953"
            ],
            [
             0.7777777777777778,
             "#fb9f3a"
            ],
            [
             0.8888888888888888,
             "#fdca26"
            ],
            [
             1,
             "#f0f921"
            ]
           ]
          },
          "colorway": [
           "#636efa",
           "#EF553B",
           "#00cc96",
           "#ab63fa",
           "#FFA15A",
           "#19d3f3",
           "#FF6692",
           "#B6E880",
           "#FF97FF",
           "#FECB52"
          ],
          "font": {
           "color": "#2a3f5f"
          },
          "geo": {
           "bgcolor": "white",
           "lakecolor": "white",
           "landcolor": "#E5ECF6",
           "showlakes": true,
           "showland": true,
           "subunitcolor": "white"
          },
          "hoverlabel": {
           "align": "left"
          },
          "hovermode": "closest",
          "mapbox": {
           "style": "light"
          },
          "paper_bgcolor": "white",
          "plot_bgcolor": "#E5ECF6",
          "polar": {
           "angularaxis": {
            "gridcolor": "white",
            "linecolor": "white",
            "ticks": ""
           },
           "bgcolor": "#E5ECF6",
           "radialaxis": {
            "gridcolor": "white",
            "linecolor": "white",
            "ticks": ""
           }
          },
          "scene": {
           "xaxis": {
            "backgroundcolor": "#E5ECF6",
            "gridcolor": "white",
            "gridwidth": 2,
            "linecolor": "white",
            "showbackground": true,
            "ticks": "",
            "zerolinecolor": "white"
           },
           "yaxis": {
            "backgroundcolor": "#E5ECF6",
            "gridcolor": "white",
            "gridwidth": 2,
            "linecolor": "white",
            "showbackground": true,
            "ticks": "",
            "zerolinecolor": "white"
           },
           "zaxis": {
            "backgroundcolor": "#E5ECF6",
            "gridcolor": "white",
            "gridwidth": 2,
            "linecolor": "white",
            "showbackground": true,
            "ticks": "",
            "zerolinecolor": "white"
           }
          },
          "shapedefaults": {
           "line": {
            "color": "#2a3f5f"
           }
          },
          "ternary": {
           "aaxis": {
            "gridcolor": "white",
            "linecolor": "white",
            "ticks": ""
           },
           "baxis": {
            "gridcolor": "white",
            "linecolor": "white",
            "ticks": ""
           },
           "bgcolor": "#E5ECF6",
           "caxis": {
            "gridcolor": "white",
            "linecolor": "white",
            "ticks": ""
           }
          },
          "title": {
           "x": 0.05
          },
          "xaxis": {
           "automargin": true,
           "gridcolor": "white",
           "linecolor": "white",
           "ticks": "",
           "title": {
            "standoff": 15
           },
           "zerolinecolor": "white",
           "zerolinewidth": 2
          },
          "yaxis": {
           "automargin": true,
           "gridcolor": "white",
           "linecolor": "white",
           "ticks": "",
           "title": {
            "standoff": 15
           },
           "zerolinecolor": "white",
           "zerolinewidth": 2
          }
         }
        },
        "title": {
         "text": "t-SNE 3D with Links (all-MiniLM-L6-v2, SBERT)"
        }
       }
      }
     },
     "metadata": {},
     "output_type": "display_data"
    }
   ],
   "source": [
    "import numpy as np\n",
    "import plotly.graph_objects as go\n",
    "from sklearn.manifold import TSNE\n",
    "import pandas as pd\n",
    "import os\n",
    "from transformers import CLIPTokenizer, CLIPModel\n",
    "from sentence_transformers import SentenceTransformer\n",
    "import torch\n",
    "from scipy.spatial.distance import cdist\n",
    "\n",
    "# Define a color palette for the symbols\n",
    "symbol_colors = [\n",
    "    \"#1f77b4\",  # Blue\n",
    "    \"#ff7f0e\",  # Orange\n",
    "    \"#2ca02c\",  # Green\n",
    "    \"#d62728\",  # Red\n",
    "    \"#9467bd\",  # Purple\n",
    "    \"#8c564b\",  # Brown\n",
    "    \"#e377c2\",  # Pink\n",
    "    \"#7f7f7f\",  # Gray\n",
    "    \"#bcbd22\",  # Olive\n",
    "    \"#17becf\",  # Cyan\n",
    "    \"#d62728\"   # Highlighted Red for MY_DREAM\n",
    "]\n",
    "\n",
    "def compute_dream_embedding(model_name, sentence, model_type=\"CLIP\"):\n",
    "    \"\"\"\n",
    "    Compute the embedding for the dream sentence using the specified model.\n",
    "    \"\"\"\n",
    "    if model_type == \"CLIP\":\n",
    "        tokenizer = CLIPTokenizer.from_pretrained(model_name)\n",
    "        model = CLIPModel.from_pretrained(model_name)\n",
    "        tokenized = tokenizer(sentence, return_tensors=\"pt\", padding=True, truncation=True)\n",
    "        with torch.no_grad():\n",
    "            embedding = model.get_text_features(**tokenized).squeeze(0).numpy()\n",
    "    elif model_type == \"SBERT\":\n",
    "        model = SentenceTransformer(model_name)\n",
    "        embedding = model.encode(sentence)\n",
    "    else:\n",
    "        raise ValueError(\"Invalid model_type. Choose 'CLIP' or 'SBERT'.\")\n",
    "    return embedding\n",
    "\n",
    "def plot_tsne_3d_with_links(mean_embeddings, dream_embedding, labels, title, output_path, perplexity=30, n_iter=1000, top_n=3):\n",
    "    \"\"\"\n",
    "    Perform t-SNE and plot the 3D results, including dashed lines linking \"MY_DREAM\" to the top-N closest symbols.\n",
    "    \"\"\"\n",
    "    # Add the dream embedding to the mean embeddings\n",
    "    all_embeddings = np.vstack([mean_embeddings, dream_embedding])\n",
    "    \n",
    "    # Perform t-SNE in 3D\n",
    "    tsne = TSNE(n_components=3, perplexity=perplexity, n_iter=n_iter, random_state=42)\n",
    "    tsne_results = tsne.fit_transform(all_embeddings)\n",
    "    \n",
    "    # Split results into X, Y, Z\n",
    "    x, y, z = tsne_results[:, 0], tsne_results[:, 1], tsne_results[:, 2]\n",
    "    \n",
    "    # Compute distances from MY_DREAM to all other points\n",
    "    dream_idx = len(labels) - 1  # Index of MY_DREAM\n",
    "    distances = cdist([tsne_results[dream_idx]], tsne_results[:-1])  # Exclude MY_DREAM itself\n",
    "    closest_indices = distances.argsort()[0][:top_n]  # Indices of top-N closest symbols\n",
    "    \n",
    "    # Create a 3D scatter plot\n",
    "    fig = go.Figure()\n",
    "\n",
    "    for i, label in enumerate(labels):\n",
    "        fig.add_trace(go.Scatter3d(\n",
    "            x=[x[i]], y=[y[i]], z=[z[i]],\n",
    "            mode='markers+text',\n",
    "            marker=dict(\n",
    "                size=25 if label == \"MY_DREAM\" else 5,\n",
    "                color=symbol_colors[i],\n",
    "                opacity=1.0 if label == \"MY_DREAM\" else 0.8\n",
    "            ),\n",
    "            text=[label],\n",
    "            textposition=\"top center\",\n",
    "            name=label\n",
    "        ))\n",
    "        \n",
    "    # Add dashed lines connecting MY_DREAM to closest symbols\n",
    "    for idx in closest_indices:\n",
    "        fig.add_trace(go.Scatter3d(\n",
    "            x=[x[dream_idx], x[idx]],\n",
    "            y=[y[dream_idx], y[idx]],\n",
    "            z=[z[dream_idx], z[idx]],\n",
    "            mode='lines',\n",
    "            line=dict(color=\"red\", dash=\"dash\", width=2),\n",
    "            showlegend=False\n",
    "        ))\n",
    "    \n",
    "    # Update layout for better visualization\n",
    "    # Update layout for better visualization\n",
    "    fig.update_layout(\n",
    "        title=title,\n",
    "        scene=dict(\n",
    "            xaxis=dict(\n",
    "                title=\"t-SNE Dimension 1\",\n",
    "                showbackground=False,  # Remove background plane\n",
    "                showgrid=False,        # Remove gridlines\n",
    "                zeroline=False         # Remove axis line at zero\n",
    "            ),\n",
    "            yaxis=dict(\n",
    "                title=\"t-SNE Dimension 2\",\n",
    "                showbackground=False,  # Remove background plane\n",
    "                showgrid=False,        # Remove gridlines\n",
    "                zeroline=False         # Remove axis line at zero\n",
    "            ),\n",
    "            zaxis=dict(\n",
    "                title=\"t-SNE Dimension 3\",\n",
    "                showbackground=False,  # Remove background plane\n",
    "                showgrid=False,        # Remove gridlines\n",
    "                zeroline=False         # Remove axis line at zero\n",
    "            )\n",
    "        ),\n",
    "        margin=dict(l=0, r=0, b=0, t=40)\n",
    "    )\n",
    "    \n",
    "    fig.write_html(output_path)\n",
    "    fig.show()\n",
    "\n",
    "def load_and_plot_tsne_3d_with_links(mean_dir, model_name, dream_sentence, model_type=\"CLIP\", perplexity=30, n_iter=1000, top_n=3):\n",
    "    \"\"\"\n",
    "    Load mean embedding file, compute dream embedding, and create a 3D t-SNE plot with links to closest symbols.\n",
    "    \"\"\"\n",
    "    # Load mean embeddings\n",
    "    sanitized_model_name = model_name.replace('/', '_').replace('-', '_')\n",
    "    mean_csv = os.path.join(mean_dir, f\"{sanitized_model_name}_mean_embeddings.csv\")\n",
    "    \n",
    "    if not os.path.exists(mean_csv):\n",
    "        print(f\"Mean embedding file not found for model: {model_name}. Skipping...\")\n",
    "        return\n",
    "    \n",
    "    mean_embeddings = pd.read_csv(mean_csv, header=None).values\n",
    "    \n",
    "    # Compute the embedding for the dream\n",
    "    dream_embedding = compute_dream_embedding(model_name, dream_sentence, model_type)\n",
    "    \n",
    "    # Plot t-SNE with the dream embedding and links\n",
    "    plot_tsne_3d_with_links(\n",
    "        mean_embeddings=mean_embeddings,\n",
    "        dream_embedding=dream_embedding,\n",
    "        labels=symbol_labels,\n",
    "        title=f\"t-SNE 3D with Links ({model_name}, {model_type})\",\n",
    "        output_path=f\"tsne_3d_with_links_{sanitized_model_name}_{model_type}.html\",\n",
    "        perplexity=perplexity,\n",
    "        n_iter=n_iter,\n",
    "        top_n=top_n\n",
    "    )\n",
    "\n",
    "\n",
    "dream_sentence = \"My eyes were full of iridiscent colors, and I could see the world in a new light.\"\n",
    "\n",
    "mean_dir = \"mean_embeddings\"\n",
    "clip_model_name = \"openai/clip-vit-base-patch32\"\n",
    "\n",
    "sbert_model_name = \"all-MiniLM-L6-v2\"\n",
    "\n",
    "load_and_plot_tsne_3d_with_links(\n",
    "    mean_dir=mean_dir,\n",
    "    model_name=sbert_model_name,\n",
    "    dream_sentence=dream_sentence,\n",
    "    model_type=\"SBERT\",\n",
    "    perplexity=7,\n",
    "    n_iter=1000\n",
    ")\n"
   ]
  },
  {
   "cell_type": "markdown",
   "metadata": {},
   "source": [
    "## Data Augmentation"
   ]
  },
  {
   "cell_type": "code",
   "execution_count": null,
   "metadata": {},
   "outputs": [
    {
     "name": "stderr",
     "output_type": "stream",
     "text": [
      "[nltk_data] Downloading package wordnet to\n",
      "[nltk_data]     C:\\Users\\User\\AppData\\Roaming\\nltk_data...\n",
      "[nltk_data]   Package wordnet is already up-to-date!\n",
      "[nltk_data] Downloading package omw-1.4 to\n",
      "[nltk_data]     C:\\Users\\User\\AppData\\Roaming\\nltk_data...\n",
      "[nltk_data]   Package omw-1.4 is already up-to-date!\n"
     ]
    },
    {
     "name": "stdout",
     "output_type": "stream",
     "text": [
      "{'purpose treasure hidden potential', 'purpose treasure hidden electric potential'}\n",
      "2\n",
      "{'treasure potential hidden purpose', 'Paraphrasephrase', 'purpose treasure hidden electric potential', 'paraphrasephrase', 'Paraphrase', 'purpose treasure hidden potential', 'function gem hide potential'}\n",
      "7\n",
      "{'treasure potential hidden purpose', 'Paraphrasephrase', 'purpose treasure hidden electric potential', 'treasure purpose hidden potential', 'paraphrasephrase', 'Paraphrase', 'purpose treasure hidden potential', 'function gem hide potential', 'function treasure hide electric potential'}\n",
      "9\n",
      "{'impermanence veil drift illumination'}\n",
      "1\n",
      "{'', 'paraphrase:', 'impermanence veil drift illumination', 'paraphrase', 'impermanence drift veil illumination'}\n",
      "5\n",
      "{'', 'paraphrase:', 'impermanence veil drift illumination', 'paraphrase', 'illumination drift impermanence veil', 'impermanence drift veil illumination'}\n",
      "6\n",
      "{'', 'drift illumination veil impermanence', 'paraphrase:', 'impermanence veil drift illumination', 'paraphrase', 'illumination drift impermanence veil', 'impermanence drift veil illumination'}\n",
      "7\n",
      "{'', 'drift illumination veil impermanence', 'paraphrase:', 'impermanence veil drift illumination', 'paraphrase', 'illumination drift impermanence veil', 'impermanence drift veil illumination'}\n",
      "7\n",
      "{'', 'drift illumination veil impermanence', 'paraphrase:', 'impermanence veil drift illumination', 'paraphrase', 'veil illumination impermanence drift', 'illumination drift impermanence veil', 'impermanence drift veil illumination'}\n",
      "8\n",
      "{'', 'drift illumination veil impermanence', 'paraphrase:', 'impermanence veil drift illumination', 'paraphrase', 'drift veil illumination impermanence', 'veil illumination impermanence drift', 'illumination drift impermanence veil', 'impermanence drift veil illumination'}\n",
      "9\n",
      "{'agility metamorphosis firelight', 'agility transfiguration firelight'}\n",
      "2\n",
      "{'', 'agility metamorphosis firelight', 'agility transfiguration firelight', 'paraphrase', 'Paraphrase', 'firelight metamorphosis agility'}\n",
      "6\n",
      "{'', 'agility metamorphosis firelight', 'agility transfiguration firelight', 'paraphrase', 'Paraphrase', 'firelight metamorphosis agility'}\n",
      "6\n",
      "{'', 'agility metamorphosis firelight', 'agility transfiguration firelight', 'paraphrase', 'Paraphrase', 'metamorphosis agility firelight', 'firelight metamorphosis agility'}\n",
      "7\n",
      "{'', 'metamorphosis firelight agility', 'agility metamorphosis firelight', 'agility transfiguration firelight', 'paraphrase', 'Paraphrase', 'metamorphosis agility firelight', 'firelight metamorphosis agility'}\n",
      "8\n",
      "{'', 'metamorphosis firelight agility', 'agility metamorphosis firelight', 'agility transfiguration firelight', 'paraphrase', 'Paraphrase', 'metamorphosis agility firelight', 'firelight metamorphosis agility'}\n",
      "8\n",
      "{'', 'metamorphosis firelight agility', 'agility metamorphosis firelight', 'agility transfiguration firelight', 'paraphrase', 'Paraphrase', 'metamorphosis agility firelight', 'firelight metamorphosis agility'}\n",
      "8\n",
      "{'', 'metamorphosis firelight agility', 'agility metamorphosis firelight', 'agility transfiguration firelight', 'paraphrase', 'Paraphrase', 'metamorphosis agility firelight', 'firelight metamorphosis agility'}\n",
      "8\n",
      "{'', 'metamorphosis firelight agility', 'agility metamorphosis firelight', 'agility transfiguration firelight', 'paraphrase', 'Paraphrase', 'metamorphosis agility firelight', 'firelight metamorphosis agility'}\n",
      "8\n",
      "{'', 'metamorphosis firelight agility', 'agility metamorphosis firelight', 'agility transfiguration firelight', 'paraphrase', 'Paraphrase', 'firelight agility metamorphosis', 'metamorphosis agility firelight', 'firelight metamorphosis agility'}\n",
      "9\n",
      "{'', 'metamorphosis firelight agility', 'agility metamorphosis firelight', 'agility transfiguration firelight', 'paraphrase', 'Paraphrase', 'firelight agility metamorphosis', 'metamorphosis agility firelight', 'firelight metamorphosis agility'}\n",
      "9\n",
      "{'', 'metamorphosis firelight agility', 'agility metamorphosis firelight', 'agility transfiguration firelight', 'paraphrase', 'Paraphrase', 'firelight agility metamorphosis', 'metamorphosis agility firelight', 'firelight metamorphosis agility'}\n",
      "9\n",
      "{'', 'metamorphosis firelight agility', 'agility metamorphosis firelight', 'agility transfiguration firelight', 'paraphrase', 'Paraphrase', 'firelight agility metamorphosis', 'metamorphosis agility firelight', 'firelight metamorphosis agility'}\n",
      "9\n",
      "{'', 'metamorphosis firelight agility', 'agility metamorphosis firelight', 'agility transfiguration firelight', 'paraphrase', 'Paraphrase', 'firelight agility metamorphosis', 'metamorphosis agility firelight', 'firelight metamorphosis agility'}\n",
      "9\n",
      "{'', 'metamorphosis firelight agility', 'agility metamorphosis firelight', 'agility transfiguration firelight', 'paraphrase', 'Paraphrase', 'firelight agility metamorphosis', 'metamorphosis agility firelight', 'firelight metamorphosis agility'}\n",
      "9\n",
      "{'', 'metamorphosis firelight agility', 'agility metamorphosis firelight', 'agility transfiguration firelight', 'paraphrase', 'Paraphrase', 'firelight agility metamorphosis', 'metamorphosis agility firelight', 'firelight metamorphosis agility'}\n",
      "9\n",
      "{'', 'metamorphosis firelight agility', 'agility metamorphosis firelight', 'agility transfiguration firelight', 'paraphrase', 'Paraphrase', 'firelight agility metamorphosis', 'metamorphosis agility firelight', 'firelight metamorphosis agility'}\n",
      "9\n",
      "{'', 'metamorphosis firelight agility', 'agility metamorphosis firelight', 'agility transfiguration firelight', 'paraphrase', 'Paraphrase', 'firelight agility metamorphosis', 'metamorphosis agility firelight', 'firelight metamorphosis agility'}\n",
      "9\n",
      "{'', 'metamorphosis firelight agility', 'agility metamorphosis firelight', 'agility transfiguration firelight', 'paraphrase', 'Paraphrase', 'firelight agility metamorphosis', 'metamorphosis agility firelight', 'firelight metamorphosis agility'}\n",
      "9\n",
      "{'', 'metamorphosis firelight agility', 'agility metamorphosis firelight', 'agility transfiguration firelight', 'paraphrase', 'Paraphrase', 'firelight agility metamorphosis', 'metamorphosis agility firelight', 'firelight metamorphosis agility'}\n",
      "9\n",
      "{'', 'metamorphosis firelight agility', 'agility metamorphosis firelight', 'agility transfiguration firelight', 'paraphrase', 'Paraphrase', 'firelight agility metamorphosis', 'metamorphosis agility firelight', 'firelight metamorphosis agility'}\n",
      "9\n",
      "{'', 'metamorphosis firelight agility', 'agility metamorphosis firelight', 'agility transfiguration firelight', 'paraphrase', 'Paraphrase', 'firelight agility metamorphosis', 'metamorphosis agility firelight', 'firelight metamorphosis agility'}\n",
      "9\n",
      "{'', 'metamorphosis firelight agility', 'agility metamorphosis firelight', 'agility transfiguration firelight', 'paraphrase', 'Paraphrase', 'firelight agility metamorphosis', 'metamorphosis agility firelight', 'firelight metamorphosis agility'}\n",
      "9\n",
      "{'', 'metamorphosis firelight agility', 'agility metamorphosis firelight', 'agility transfiguration firelight', 'paraphrase', 'Paraphrase', 'firelight agility metamorphosis', 'metamorphosis agility firelight', 'firelight metamorphosis agility'}\n",
      "9\n",
      "{'', 'metamorphosis firelight agility', 'agility metamorphosis firelight', 'agility transfiguration firelight', 'paraphrase', 'Paraphrase', 'firelight agility metamorphosis', 'metamorphosis agility firelight', 'firelight metamorphosis agility'}\n",
      "9\n",
      "{'', 'metamorphosis firelight agility', 'agility metamorphosis firelight', 'agility transfiguration firelight', 'paraphrase', 'Paraphrase', 'firelight agility metamorphosis', 'metamorphosis agility firelight', 'firelight metamorphosis agility'}\n",
      "9\n",
      "{'', 'metamorphosis firelight agility', 'agility metamorphosis firelight', 'agility transfiguration firelight', 'paraphrase', 'Paraphrase', 'firelight agility metamorphosis', 'metamorphosis agility firelight', 'firelight metamorphosis agility'}\n",
      "9\n",
      "\n",
      "Symbol: BAG\n",
      "1. treasure potential hidden purpose\n",
      "2. Paraphrasephrase\n",
      "3. hidden treasure potential purpose\n",
      "4. purpose treasure hidden electric potential\n",
      "5. treasure purpose hidden potential\n",
      "6. paraphrasephrase\n",
      "7. Paraphrase\n",
      "8. purpose treasure hidden potential\n",
      "9. function gem hide potential\n",
      "10. function treasure hide electric potential\n",
      "\n",
      "Symbol: CLOUDS\n",
      "1. \n",
      "2. drift illumination veil impermanence\n",
      "3. paraphrase:\n",
      "4. illumination veil impermanence drift\n",
      "5. impermanence veil drift illumination\n",
      "6. paraphrase\n",
      "7. drift veil illumination impermanence\n",
      "8. veil illumination impermanence drift\n",
      "9. illumination drift impermanence veil\n",
      "10. impermanence drift veil illumination\n",
      "\n",
      "Symbol: DRAGONFLY\n",
      "1. \n",
      "2. metamorphosis firelight agility\n",
      "3. agility metamorphosis firelight\n",
      "4. agility transfiguration firelight\n",
      "5. paraphrase\n",
      "6. Paraphrase\n",
      "7. firelight agility metamorphosis\n",
      "8. metamorphosis agility firelight\n",
      "9. firelight metamorphosis agility\n",
      "10. agility firelight metamorphosis\n"
     ]
    }
   ],
   "source": [
    "import random\n",
    "from transformers import pipeline\n",
    "from nltk.corpus import wordnet\n",
    "import nltk\n",
    "\n",
    "# Ensure WordNet is downloaded for synonym replacement\n",
    "nltk.download('wordnet')\n",
    "nltk.download('omw-1.4')\n",
    "\n",
    "# Load the paraphrasing model\n",
    "paraphraser = pipeline(\"text2text-generation\", model=\"t5-small\", device=-1)  # Use CPU, replace with GPU if available\n",
    "\n",
    "\n",
    "# 1. Synonym Replacement\n",
    "def synonym_replacement(sentence, n=2):\n",
    "    \"\"\"Replace up to n words in the sentence with synonyms.\"\"\"\n",
    "    words = sentence.split()\n",
    "    new_words = words.copy()\n",
    "    replace_indices = random.sample(range(len(words)), min(n, len(words)))  # Random positions to replace\n",
    "    \n",
    "    for idx in replace_indices:\n",
    "        synonyms = wordnet.synsets(words[idx])  # Find synonyms\n",
    "        #print(synonyms)\n",
    "        if synonyms:\n",
    "            try:\n",
    "                synonym = synonyms[1].lemmas()[0].name().replace(\"_\", \" \")  # Replace with first synonym\n",
    "            except:\n",
    "                synonym = synonyms[0].lemmas()[0].name().replace(\"_\", \" \")  # Replace with first synonym\n",
    "            new_words[idx] = synonym  # Replace by position\n",
    "    \n",
    "    return ' '.join(new_words)\n",
    "\n",
    "\n",
    "\n",
    "# 2. Paraphrasing\n",
    "def paraphrase_sentence(sentence, num_return_sequences=3):\n",
    "    \"\"\"Generate paraphrased versions of a sentence using beam search.\"\"\"\n",
    "    try:\n",
    "        outputs = paraphraser(\n",
    "            sentence,\n",
    "            max_length=30,\n",
    "            num_return_sequences=num_return_sequences,\n",
    "            num_beams=num_return_sequences,  # Enable beam search\n",
    "            early_stopping=True\n",
    "        )\n",
    "        return [output['generated_text'] for output in outputs]\n",
    "    except Exception as e:\n",
    "        print(f\"Paraphrasing failed for sentence: {sentence}. Error: {e}\")\n",
    "        return [sentence]\n",
    "\n",
    "\n",
    "# 4. Word Order Shuffling\n",
    "def shuffle_words(sentence):\n",
    "    \"\"\"Shuffle the words in a sentence.\"\"\"\n",
    "    words = sentence.split()\n",
    "    random.shuffle(words)\n",
    "    return ' '.join(words)\n",
    "\n",
    "\n",
    "# Main Augmentation Function\n",
    "def augment_sentences_for_symbols(word_dict, num_sentences=30):\n",
    "    \"\"\"\n",
    "    Create a dictionary with augmented sentences for each symbol.\n",
    "    \n",
    "    Args:\n",
    "        word_dict (dict): Dictionary of symbols and associated words.\n",
    "        num_sentences (int): Number of augmented sentences per symbol.\n",
    "    \n",
    "    Returns:\n",
    "        dict: A dictionary with symbols as keys and a list of augmented sentences as values.\n",
    "    \"\"\"\n",
    "    augmented_dict = {}\n",
    "\n",
    "    for symbol, words in word_dict.items():\n",
    "        base_sentence = \" \".join(words)  # Combine words into a base sentence\n",
    "        augmented_sentences = set()  # Use a set to avoid duplicates\n",
    "        \n",
    "        # Add original sentence\n",
    "        augmented_sentences.add(base_sentence)\n",
    "\n",
    "        # Generate augmented sentences\n",
    "        while len(augmented_sentences) < num_sentences:\n",
    "            # Apply Synonym Replacement\n",
    "            augmented_sentences.add(synonym_replacement(base_sentence, n=random.randint(1, 3)))\n",
    "            print(augmented_sentences)\n",
    "            print(len(augmented_sentences))\n",
    "            # Apply Paraphrasing\n",
    "            for paraphrased in paraphrase_sentence(base_sentence, num_return_sequences=3):\n",
    "                augmented_sentences.add(paraphrased)\n",
    "                if len(augmented_sentences) >= num_sentences:\n",
    "                    break\n",
    "\n",
    "            # Apply Word Order Shuffling\n",
    "            augmented_sentences.add(shuffle_words(base_sentence))\n",
    "        \n",
    "        # Ensure exactly num_sentences\n",
    "        augmented_dict[symbol] = list(augmented_sentences)[:num_sentences]\n",
    "\n",
    "    return augmented_dict\n",
    "\n",
    "\n",
    "# Example Input\n",
    "lakota_symbols = {\n",
    "    \"BAG\": [\"purpose\", \"treasure\", \"hidden potential\"],\n",
    "    \"CLOUDS\": [\"impermanence\", \"veil\", \"drift\", \"illumination\"],\n",
    "    \"DRAGONFLY\": [\"agility\", \"metamorphosis\", \"firelight\"],\n",
    "}\n",
    "\n",
    "# Run Augmentation\n",
    "augmented_sentences_dict = augment_sentences_for_symbols(lakota_symbols, num_sentences=10)\n",
    "\n",
    "# Print Results\n",
    "for symbol, sentences in augmented_sentences_dict.items():\n",
    "    print(f\"\\nSymbol: {symbol}\")\n",
    "    for i, sentence in enumerate(sentences, 1):\n",
    "        print(f\"{i}. {sentence}\")\n"
   ]
  },
  {
   "cell_type": "code",
   "execution_count": 83,
   "metadata": {},
   "outputs": [
    {
     "data": {
      "text/plain": [
       "['Ich bin tired of jumping.', 'Ich bin tired of jumping. jumping.']"
      ]
     },
     "execution_count": 83,
     "metadata": {},
     "output_type": "execute_result"
    }
   ],
   "source": [
    "def paraphrase_sentence(sentence, num_return_sequences=3):\n",
    "    \"\"\"Generate paraphrased versions of a sentence using beam search.\"\"\"\n",
    "    try:\n",
    "        outputs = paraphraser(\n",
    "            sentence,\n",
    "            max_length=10,\n",
    "            num_return_sequences=num_return_sequences,\n",
    "            num_beams=num_return_sequences,  # Enable beam search\n",
    "            early_stopping=False\n",
    "        )\n",
    "        return [output['generated_text'] for output in outputs]\n",
    "    except Exception as e:\n",
    "        print(f\"Paraphrasing failed for sentence: {sentence}. Error: {e}\")\n",
    "        return [sentence]\n",
    "\n",
    "sentence = \"I am tired of jumping\"\n",
    "paraphrase_sentence(sentence, num_return_sequences=2)"
   ]
  }
 ],
 "metadata": {
  "kernelspec": {
   "display_name": "goofi",
   "language": "python",
   "name": "python3"
  },
  "language_info": {
   "codemirror_mode": {
    "name": "ipython",
    "version": 3
   },
   "file_extension": ".py",
   "mimetype": "text/x-python",
   "name": "python",
   "nbconvert_exporter": "python",
   "pygments_lexer": "ipython3",
   "version": "3.8.18"
  }
 },
 "nbformat": 4,
 "nbformat_minor": 2
}
