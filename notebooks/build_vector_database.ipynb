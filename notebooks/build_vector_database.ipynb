{
 "cells": [
  {
   "cell_type": "code",
   "execution_count": 1,
   "metadata": {},
   "outputs": [
    {
     "name": "stderr",
     "output_type": "stream",
     "text": [
      "c:\\Users\\Antoine\\anaconda3\\envs\\torch\\Lib\\site-packages\\tqdm\\auto.py:21: TqdmWarning: IProgress not found. Please update jupyter and ipywidgets. See https://ipywidgets.readthedocs.io/en/stable/user_install.html\n",
      "  from .autonotebook import tqdm as notebook_tqdm\n"
     ]
    },
    {
     "name": "stdout",
     "output_type": "stream",
     "text": [
      "Loading model openai/clip-vit-base-patch32...\n",
      "Determining embedding size...\n",
      "Reading text from ../output/word_list.txt...\n",
      "Generating embeddings and building the index in batches...\n"
     ]
    },
    {
     "name": "stderr",
     "output_type": "stream",
     "text": [
      "100%|██████████| 21/21 [00:00<00:00, 51.01it/s]\n"
     ]
    },
    {
     "name": "stdout",
     "output_type": "stream",
     "text": [
      "Saving index to index_500words_2_clip-vit-base-patch32.pkl...\n",
      "Loading model openai/clip-vit-large-patch14...\n",
      "Determining embedding size...\n",
      "Reading text from ../output/word_list.txt...\n",
      "Generating embeddings and building the index in batches...\n"
     ]
    },
    {
     "name": "stderr",
     "output_type": "stream",
     "text": [
      "100%|██████████| 21/21 [00:00<00:00, 42.77it/s]\n"
     ]
    },
    {
     "name": "stdout",
     "output_type": "stream",
     "text": [
      "Saving index to index_500words_2_clip-vit-large-patch14.pkl...\n",
      "Loading model laion/CLIP-ViT-H-14-laion2B-s32B-b79K...\n",
      "Determining embedding size...\n",
      "Reading text from ../output/word_list.txt...\n",
      "Generating embeddings and building the index in batches...\n"
     ]
    },
    {
     "name": "stderr",
     "output_type": "stream",
     "text": [
      "100%|██████████| 21/21 [00:00<00:00, 28.43it/s]\n"
     ]
    },
    {
     "name": "stdout",
     "output_type": "stream",
     "text": [
      "Saving index to index_500words_2_CLIP-ViT-H-14-laion2B-s32B-b79K.pkl...\n",
      "Loading model sentence-transformers/all-MiniLM-L6-v2...\n",
      "Determining embedding size...\n",
      "Reading text from ../output/word_list.txt...\n",
      "Generating embeddings and building the index in batches...\n"
     ]
    },
    {
     "name": "stderr",
     "output_type": "stream",
     "text": [
      "100%|██████████| 21/21 [00:00<00:00, 57.38it/s]"
     ]
    },
    {
     "name": "stdout",
     "output_type": "stream",
     "text": [
      "Saving index to index_500words_2_all-MiniLM-L6-v2.pkl...\n"
     ]
    },
    {
     "name": "stderr",
     "output_type": "stream",
     "text": [
      "\n"
     ]
    }
   ],
   "source": [
    "import pickle\n",
    "from tqdm import tqdm\n",
    "import numpy as np\n",
    "from transformers import CLIPModel, CLIPProcessor\n",
    "from sentence_transformers import SentenceTransformer\n",
    "from usearch.index import Index\n",
    "import torch\n",
    "import csv\n",
    "\n",
    "\n",
    "def load_model(model_name):\n",
    "    \"\"\"Load the specified model and its processor/tokenizer.\"\"\"\n",
    "    if \"clip\" in model_name.lower():\n",
    "        model = CLIPModel.from_pretrained(model_name)\n",
    "        processor = CLIPProcessor.from_pretrained(model_name)\n",
    "        return model.cuda(), processor\n",
    "    else:  # Use SentenceTransformer for SBERT models\n",
    "        model = SentenceTransformer(model_name)\n",
    "        return model.cuda(), None\n",
    "\n",
    "def txt2vec_batch(texts, model, processor):\n",
    "    \"\"\"Convert a batch of text to embedding vectors.\"\"\"\n",
    "    if processor:  # CLIP\n",
    "        inputs = processor(text=texts, return_tensors=\"pt\", padding=True, truncation=True)\n",
    "        inputs = {k: v.cuda() for k, v in inputs.items()}  # Move inputs to CUDA\n",
    "        with torch.no_grad():\n",
    "            outputs = model.get_text_features(**inputs)\n",
    "        return outputs.cpu().numpy()\n",
    "    else:  # SentenceTransformer\n",
    "        return model.encode(texts, convert_to_numpy=True, batch_size=32)\n",
    "\n",
    "def get_embedding_size(model, processor):\n",
    "    \"\"\"Retrieve the dimensionality of the embedding vectors.\"\"\"\n",
    "    test_text = [\"test\"]\n",
    "    if processor:  # CLIP\n",
    "        test_vec = txt2vec_batch(test_text, model, processor)\n",
    "    else:  # SentenceTransformer\n",
    "        test_vec = model.encode(test_text, convert_to_numpy=True)\n",
    "    return test_vec.shape[-1]\n",
    "\n",
    "def build_text_db(model_name, txt_file, index_path, batch_size=32):\n",
    "    \"\"\"Build a vector database from a text file.\"\"\"\n",
    "    print(f\"Loading model {model_name}...\")\n",
    "    model, processor = load_model(model_name)\n",
    "\n",
    "    print(\"Determining embedding size...\")\n",
    "    embedding_size = get_embedding_size(model, processor)\n",
    "\n",
    "    print(f\"Reading text from {txt_file}...\")\n",
    "    with open(txt_file, \"r\", encoding=\"utf-8\") as f:\n",
    "        texts = [line.strip() for line in f.readlines()]\n",
    "\n",
    "    index = Index(ndim=embedding_size, metric=\"cos\")  # Dynamically use the correct size\n",
    "    idx2word = {}\n",
    "\n",
    "    print(\"Generating embeddings and building the index in batches...\")\n",
    "    for i in tqdm(range(0, len(texts), batch_size)):\n",
    "        batch_texts = texts[i:i + batch_size]\n",
    "        batch_vectors = txt2vec_batch(batch_texts, model, processor)\n",
    "\n",
    "        for j, vec in enumerate(batch_vectors):\n",
    "            index.add(i + j, vec)\n",
    "            idx2word[i + j] = batch_texts[j]\n",
    "\n",
    "    print(f\"Saving index to {index_path}...\")\n",
    "    with open(index_path, \"wb\") as f:\n",
    "        pickle.dump((index.save(), idx2word), f)\n",
    "\n",
    "def build_text_csv(model_name, txt_file, csv_path, batch_size=32):\n",
    "    \"\"\"Build a CSV file containing word labels and their embeddings from a text file.\"\"\"\n",
    "    print(f\"Loading model {model_name}...\")\n",
    "    model, processor = load_model(model_name)\n",
    "\n",
    "    print(\"Determining embedding size...\")\n",
    "    embedding_size = get_embedding_size(model, processor)\n",
    "\n",
    "    print(f\"Reading text from {txt_file}...\")\n",
    "    with open(txt_file, \"r\", encoding=\"utf-8\") as f:\n",
    "        texts = [line.strip() for line in f.readlines()]\n",
    "\n",
    "    print(\"Generating embeddings and saving to CSV...\")\n",
    "    with open(csv_path, \"w\", newline=\"\", encoding=\"utf-8\") as csv_file:\n",
    "        writer = csv.writer(csv_file)\n",
    "        # Write the header row\n",
    "        header = [\"word\"] + [f\"dim_{i}\" for i in range(embedding_size)]\n",
    "        writer.writerow(header)\n",
    "\n",
    "        for i in tqdm(range(0, len(texts), batch_size)):\n",
    "            batch_texts = texts[i:i + batch_size]\n",
    "            batch_vectors = txt2vec_batch(batch_texts, model, processor)\n",
    "\n",
    "            for text, vector in zip(batch_texts, batch_vectors):\n",
    "                writer.writerow([text] + vector.tolist())\n",
    "\n",
    "model_names = [\n",
    "   \"openai/clip-vit-base-patch32\",\n",
    "   \"openai/clip-vit-large-patch14\",\n",
    "    \"laion/CLIP-ViT-H-14-laion2B-s32B-b79K\",\n",
    "    \"sentence-transformers/all-MiniLM-L6-v2\",\n",
    "]\n",
    "txt_file = \"../output/word_list.txt\"\n",
    "\n",
    "for model_name in model_names:\n",
    "    build_text_db(model_name, txt_file, f\"index_500words_2_{model_name.split('/')[-1]}.pkl\")"
   ]
  }
 ],
 "metadata": {
  "kernelspec": {
   "display_name": "torch",
   "language": "python",
   "name": "python3"
  },
  "language_info": {
   "codemirror_mode": {
    "name": "ipython",
    "version": 3
   },
   "file_extension": ".py",
   "mimetype": "text/x-python",
   "name": "python",
   "nbconvert_exporter": "python",
   "pygments_lexer": "ipython3",
   "version": "3.11.11"
  }
 },
 "nbformat": 4,
 "nbformat_minor": 2
}
